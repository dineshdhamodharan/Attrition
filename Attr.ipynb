{
 "cells": [
  {
   "cell_type": "markdown",
   "id": "b1d1a14b",
   "metadata": {},
   "source": [
    "# Import Packages"
   ]
  },
  {
   "cell_type": "code",
   "execution_count": 1,
   "id": "cf806895",
   "metadata": {},
   "outputs": [],
   "source": [
    "import numpy as np\n",
    "import pandas as pd\n",
    "import matplotlib.pylab as plt\n",
    "import seaborn as sns\n",
    "from sklearn.preprocessing import StandardScaler\n",
    "from sklearn.preprocessing import MinMaxScaler\n",
    "from sklearn.preprocessing import RobustScaler\n",
    "from statsmodels.stats.outliers_influence import variance_inflation_factor\n",
    "from sklearn import datasets\n",
    "import sklearn.metrics as metrics\n",
    "from sklearn.decomposition import PCA \n",
    "\n",
    "\n",
    "from datetime import datetime\n",
    "\n",
    "import statsmodels.api as sm\n",
    "from sklearn import metrics\n",
    "from sklearn.model_selection import train_test_split\n",
    "from sklearn.neighbors import KNeighborsClassifier\n",
    "from sklearn.linear_model import LogisticRegression\n",
    "from sklearn.ensemble import RandomForestClassifier\n",
    "from sklearn.tree import DecisionTreeClassifier\n",
    "from sklearn.preprocessing import StandardScaler\n",
    "from sklearn.svm import SVC, LinearSVC\n",
    "from sklearn.metrics import accuracy_score, confusion_matrix, precision_score, recall_score, classification_report\n",
    "from sklearn.model_selection import cross_val_score"
   ]
  },
  {
   "cell_type": "markdown",
   "id": "fdfc46a2",
   "metadata": {},
   "source": [
    " # Import Data Sets"
   ]
  },
  {
   "cell_type": "markdown",
   "id": "09550a19",
   "metadata": {},
   "source": [
    "df = pd.read_csv('Attrition Extract Model.csv', header =0)\n",
    "df1 = pd.read_csv('Attrition Extract Model_1.csv', header =0)\n",
    "df2 = pd.read_csv('Attrition Extract Model_2.csv', header =0)\n",
    "df3 = pd.read_csv('Attrition Extract Model_3.csv', header =0)\n",
    "df4 = pd.read_csv('Attrition Extract Model_4.csv', header =0)\n",
    "df5 = pd.read_csv('Attrition Extract Model_5.csv', header =0)"
   ]
  },
  {
   "cell_type": "code",
   "execution_count": 2,
   "id": "676574e0",
   "metadata": {},
   "outputs": [],
   "source": [
    "df = pd.read_csv('Attrition Extract Model.csv', header =0)\n",
    "df1 = pd.read_csv('Attrition Extract Model_1.csv', header =0)\n",
    "df2 = pd.read_csv('Attrition Extract Model_2.csv', header =0)"
   ]
  },
  {
   "cell_type": "markdown",
   "id": "ca9b4b97",
   "metadata": {},
   "source": [
    "# concat Data sets into one file "
   ]
  },
  {
   "cell_type": "code",
   "execution_count": 3,
   "id": "f65c3eb4",
   "metadata": {},
   "outputs": [],
   "source": [
    "frames = [df,df1,df2]\n",
    "\n",
    "mdf = pd.concat(frames)"
   ]
  },
  {
   "cell_type": "code",
   "execution_count": 4,
   "id": "982d51b4",
   "metadata": {},
   "outputs": [
    {
     "data": {
      "text/html": [
       "<div>\n",
       "<style scoped>\n",
       "    .dataframe tbody tr th:only-of-type {\n",
       "        vertical-align: middle;\n",
       "    }\n",
       "\n",
       "    .dataframe tbody tr th {\n",
       "        vertical-align: top;\n",
       "    }\n",
       "\n",
       "    .dataframe thead th {\n",
       "        text-align: right;\n",
       "    }\n",
       "</style>\n",
       "<table border=\"1\" class=\"dataframe\">\n",
       "  <thead>\n",
       "    <tr style=\"text-align: right;\">\n",
       "      <th></th>\n",
       "      <th>Account Hashed</th>\n",
       "      <th>Permanent Close Reason Name</th>\n",
       "      <th>Permanent Close Date</th>\n",
       "      <th>Current Credit Line $</th>\n",
       "      <th>Behavior Score</th>\n",
       "      <th>BEACON_Score</th>\n",
       "      <th>pre_durable_key</th>\n",
       "      <th>Product Name</th>\n",
       "      <th>account_system_entry_date</th>\n",
       "      <th>account_age</th>\n",
       "      <th>...</th>\n",
       "      <th>Sale Amount Q1 $</th>\n",
       "      <th>Sale Amount Q2 $</th>\n",
       "      <th>Sale Amount Q3 $</th>\n",
       "      <th>Sale Amount Q4 $</th>\n",
       "      <th>Sum Sale Amount 12 months $</th>\n",
       "      <th>Sale Count Q1 #</th>\n",
       "      <th>Sale Count Q2 #</th>\n",
       "      <th>Sale Count Q3 #</th>\n",
       "      <th>Sale Count Q4 #</th>\n",
       "      <th>Sum of Sale Count 12 months # From Close Date</th>\n",
       "    </tr>\n",
       "  </thead>\n",
       "  <tbody>\n",
       "    <tr>\n",
       "      <th>0</th>\n",
       "      <td>000066ba2744aa38935bb5ba5e79365a</td>\n",
       "      <td>NaN</td>\n",
       "      <td>NaN</td>\n",
       "      <td>$7,000</td>\n",
       "      <td>699.0</td>\n",
       "      <td>704.0</td>\n",
       "      <td>11272882</td>\n",
       "      <td>Gold Rewards/Centra</td>\n",
       "      <td>2005-03-13</td>\n",
       "      <td>47</td>\n",
       "      <td>...</td>\n",
       "      <td>239.0</td>\n",
       "      <td>362.0</td>\n",
       "      <td>1081.0</td>\n",
       "      <td>1396.0</td>\n",
       "      <td>3078.0</td>\n",
       "      <td>10.0</td>\n",
       "      <td>20.0</td>\n",
       "      <td>23.0</td>\n",
       "      <td>16.0</td>\n",
       "      <td>69.0</td>\n",
       "    </tr>\n",
       "    <tr>\n",
       "      <th>1</th>\n",
       "      <td>0001911c5989f23866242c1ee22b935f</td>\n",
       "      <td>NaN</td>\n",
       "      <td>NaN</td>\n",
       "      <td>$25,000</td>\n",
       "      <td>768.0</td>\n",
       "      <td>711.0</td>\n",
       "      <td>11274343</td>\n",
       "      <td>Gold Travel Rewards</td>\n",
       "      <td>2002-05-17</td>\n",
       "      <td>47</td>\n",
       "      <td>...</td>\n",
       "      <td>11998.0</td>\n",
       "      <td>6805.0</td>\n",
       "      <td>4810.0</td>\n",
       "      <td>11091.0</td>\n",
       "      <td>34704.0</td>\n",
       "      <td>89.0</td>\n",
       "      <td>110.0</td>\n",
       "      <td>47.0</td>\n",
       "      <td>79.0</td>\n",
       "      <td>325.0</td>\n",
       "    </tr>\n",
       "    <tr>\n",
       "      <th>2</th>\n",
       "      <td>0001dbb3a11b021139b3434f3e0482ac</td>\n",
       "      <td>NaN</td>\n",
       "      <td>NaN</td>\n",
       "      <td>$7,500</td>\n",
       "      <td>715.0</td>\n",
       "      <td>683.0</td>\n",
       "      <td>13499886</td>\n",
       "      <td>Classic Cash Back</td>\n",
       "      <td>2019-06-11</td>\n",
       "      <td>42</td>\n",
       "      <td>...</td>\n",
       "      <td>0.0</td>\n",
       "      <td>0.0</td>\n",
       "      <td>0.0</td>\n",
       "      <td>5558.0</td>\n",
       "      <td>5558.0</td>\n",
       "      <td>0.0</td>\n",
       "      <td>0.0</td>\n",
       "      <td>0.0</td>\n",
       "      <td>6.0</td>\n",
       "      <td>6.0</td>\n",
       "    </tr>\n",
       "    <tr>\n",
       "      <th>3</th>\n",
       "      <td>00037d7b00fdeaeeb14a3476ee825291</td>\n",
       "      <td>NaN</td>\n",
       "      <td>NaN</td>\n",
       "      <td>$4,000</td>\n",
       "      <td>693.0</td>\n",
       "      <td>660.0</td>\n",
       "      <td>10958461</td>\n",
       "      <td>Classic Cash Back</td>\n",
       "      <td>2009-12-01</td>\n",
       "      <td>47</td>\n",
       "      <td>...</td>\n",
       "      <td>0.0</td>\n",
       "      <td>0.0</td>\n",
       "      <td>0.0</td>\n",
       "      <td>69.0</td>\n",
       "      <td>69.0</td>\n",
       "      <td>0.0</td>\n",
       "      <td>0.0</td>\n",
       "      <td>0.0</td>\n",
       "      <td>1.0</td>\n",
       "      <td>1.0</td>\n",
       "    </tr>\n",
       "    <tr>\n",
       "      <th>4</th>\n",
       "      <td>0004cb1326397cd4239e8a9544eefce0</td>\n",
       "      <td>NaN</td>\n",
       "      <td>NaN</td>\n",
       "      <td>$500</td>\n",
       "      <td>738.0</td>\n",
       "      <td>653.0</td>\n",
       "      <td>12452246</td>\n",
       "      <td>Classic</td>\n",
       "      <td>2011-03-07</td>\n",
       "      <td>47</td>\n",
       "      <td>...</td>\n",
       "      <td>1293.0</td>\n",
       "      <td>1784.0</td>\n",
       "      <td>1511.0</td>\n",
       "      <td>1615.0</td>\n",
       "      <td>6203.0</td>\n",
       "      <td>55.0</td>\n",
       "      <td>77.0</td>\n",
       "      <td>108.0</td>\n",
       "      <td>60.0</td>\n",
       "      <td>300.0</td>\n",
       "    </tr>\n",
       "  </tbody>\n",
       "</table>\n",
       "<p>5 rows × 36 columns</p>\n",
       "</div>"
      ],
      "text/plain": [
       "                     Account Hashed Permanent Close Reason Name  \\\n",
       "0  000066ba2744aa38935bb5ba5e79365a                         NaN   \n",
       "1  0001911c5989f23866242c1ee22b935f                         NaN   \n",
       "2  0001dbb3a11b021139b3434f3e0482ac                         NaN   \n",
       "3  00037d7b00fdeaeeb14a3476ee825291                         NaN   \n",
       "4  0004cb1326397cd4239e8a9544eefce0                         NaN   \n",
       "\n",
       "  Permanent Close Date Current Credit Line $  Behavior Score  BEACON_Score  \\\n",
       "0                  NaN                $7,000           699.0         704.0   \n",
       "1                  NaN               $25,000           768.0         711.0   \n",
       "2                  NaN                $7,500           715.0         683.0   \n",
       "3                  NaN                $4,000           693.0         660.0   \n",
       "4                  NaN                  $500           738.0         653.0   \n",
       "\n",
       "   pre_durable_key         Product Name account_system_entry_date  \\\n",
       "0         11272882  Gold Rewards/Centra                2005-03-13   \n",
       "1         11274343  Gold Travel Rewards                2002-05-17   \n",
       "2         13499886    Classic Cash Back                2019-06-11   \n",
       "3         10958461    Classic Cash Back                2009-12-01   \n",
       "4         12452246              Classic                2011-03-07   \n",
       "\n",
       "   account_age  ...  Sale Amount Q1 $  Sale Amount Q2 $  Sale Amount Q3 $  \\\n",
       "0           47  ...             239.0             362.0            1081.0   \n",
       "1           47  ...           11998.0            6805.0            4810.0   \n",
       "2           42  ...               0.0               0.0               0.0   \n",
       "3           47  ...               0.0               0.0               0.0   \n",
       "4           47  ...            1293.0            1784.0            1511.0   \n",
       "\n",
       "   Sale Amount Q4 $  Sum Sale Amount 12 months $  Sale Count Q1 #  \\\n",
       "0            1396.0                       3078.0             10.0   \n",
       "1           11091.0                      34704.0             89.0   \n",
       "2            5558.0                       5558.0              0.0   \n",
       "3              69.0                         69.0              0.0   \n",
       "4            1615.0                       6203.0             55.0   \n",
       "\n",
       "   Sale Count Q2 #  Sale Count Q3 #  Sale Count Q4 #  \\\n",
       "0             20.0             23.0             16.0   \n",
       "1            110.0             47.0             79.0   \n",
       "2              0.0              0.0              6.0   \n",
       "3              0.0              0.0              1.0   \n",
       "4             77.0            108.0             60.0   \n",
       "\n",
       "   Sum of Sale Count 12 months # From Close Date  \n",
       "0                                           69.0  \n",
       "1                                          325.0  \n",
       "2                                            6.0  \n",
       "3                                            1.0  \n",
       "4                                          300.0  \n",
       "\n",
       "[5 rows x 36 columns]"
      ]
     },
     "execution_count": 4,
     "metadata": {},
     "output_type": "execute_result"
    }
   ],
   "source": [
    "mdf.head() "
   ]
  },
  {
   "cell_type": "markdown",
   "id": "84faa9f9",
   "metadata": {},
   "source": [
    "# Describing and understanding the variables"
   ]
  },
  {
   "cell_type": "code",
   "execution_count": 5,
   "id": "55ad22b9",
   "metadata": {},
   "outputs": [
    {
     "data": {
      "text/html": [
       "<div>\n",
       "<style scoped>\n",
       "    .dataframe tbody tr th:only-of-type {\n",
       "        vertical-align: middle;\n",
       "    }\n",
       "\n",
       "    .dataframe tbody tr th {\n",
       "        vertical-align: top;\n",
       "    }\n",
       "\n",
       "    .dataframe thead th {\n",
       "        text-align: right;\n",
       "    }\n",
       "</style>\n",
       "<table border=\"1\" class=\"dataframe\">\n",
       "  <thead>\n",
       "    <tr style=\"text-align: right;\">\n",
       "      <th></th>\n",
       "      <th>count</th>\n",
       "      <th>unique</th>\n",
       "      <th>top</th>\n",
       "      <th>freq</th>\n",
       "    </tr>\n",
       "  </thead>\n",
       "  <tbody>\n",
       "    <tr>\n",
       "      <th>Account Hashed</th>\n",
       "      <td>311209</td>\n",
       "      <td>311209</td>\n",
       "      <td>000066ba2744aa38935bb5ba5e79365a</td>\n",
       "      <td>1</td>\n",
       "    </tr>\n",
       "    <tr>\n",
       "      <th>Permanent Close Reason Name</th>\n",
       "      <td>30143</td>\n",
       "      <td>1</td>\n",
       "      <td>Client Request</td>\n",
       "      <td>30143</td>\n",
       "    </tr>\n",
       "    <tr>\n",
       "      <th>Permanent Close Date</th>\n",
       "      <td>30143</td>\n",
       "      <td>985</td>\n",
       "      <td>2021-09-02</td>\n",
       "      <td>856</td>\n",
       "    </tr>\n",
       "    <tr>\n",
       "      <th>Current Credit Line $</th>\n",
       "      <td>311209</td>\n",
       "      <td>520</td>\n",
       "      <td>$1,000</td>\n",
       "      <td>29708</td>\n",
       "    </tr>\n",
       "    <tr>\n",
       "      <th>Behavior Score</th>\n",
       "      <td>299574.0</td>\n",
       "      <td>362.0</td>\n",
       "      <td>695.0</td>\n",
       "      <td>6165.0</td>\n",
       "    </tr>\n",
       "    <tr>\n",
       "      <th>BEACON_Score</th>\n",
       "      <td>309733.0</td>\n",
       "      <td>498.0</td>\n",
       "      <td>0.0</td>\n",
       "      <td>16104.0</td>\n",
       "    </tr>\n",
       "    <tr>\n",
       "      <th>pre_durable_key</th>\n",
       "      <td>311209</td>\n",
       "      <td>310889</td>\n",
       "      <td>11247111</td>\n",
       "      <td>2</td>\n",
       "    </tr>\n",
       "    <tr>\n",
       "      <th>Product Name</th>\n",
       "      <td>311209</td>\n",
       "      <td>7</td>\n",
       "      <td>Classic Cash Back</td>\n",
       "      <td>184772</td>\n",
       "    </tr>\n",
       "    <tr>\n",
       "      <th>account_system_entry_date</th>\n",
       "      <td>311209</td>\n",
       "      <td>7110</td>\n",
       "      <td>2002-05-17</td>\n",
       "      <td>2901</td>\n",
       "    </tr>\n",
       "    <tr>\n",
       "      <th>account_age</th>\n",
       "      <td>311209</td>\n",
       "      <td>39</td>\n",
       "      <td>47</td>\n",
       "      <td>148645</td>\n",
       "    </tr>\n",
       "    <tr>\n",
       "      <th>Count of Account Hashed</th>\n",
       "      <td>311209</td>\n",
       "      <td>1</td>\n",
       "      <td>1</td>\n",
       "      <td>311209</td>\n",
       "    </tr>\n",
       "    <tr>\n",
       "      <th>Sum Yield 12 months %</th>\n",
       "      <td>283853.0</td>\n",
       "      <td>472.0</td>\n",
       "      <td>0.0</td>\n",
       "      <td>122906.0</td>\n",
       "    </tr>\n",
       "    <tr>\n",
       "      <th>Sum of Cash Amount 12 months $ From Close Date</th>\n",
       "      <td>286620.0</td>\n",
       "      <td>4295.0</td>\n",
       "      <td>0.0</td>\n",
       "      <td>260454.0</td>\n",
       "    </tr>\n",
       "    <tr>\n",
       "      <th>Sum Rewards Earned 12 months #</th>\n",
       "      <td>273877.0</td>\n",
       "      <td>42404.0</td>\n",
       "      <td>0.0</td>\n",
       "      <td>38206.0</td>\n",
       "    </tr>\n",
       "    <tr>\n",
       "      <th>Sum Rewards Redeemed 12 months #</th>\n",
       "      <td>273877.0</td>\n",
       "      <td>26688.0</td>\n",
       "      <td>0.0</td>\n",
       "      <td>228525.0</td>\n",
       "    </tr>\n",
       "    <tr>\n",
       "      <th>Sum of cash Advance Statement Count 12 months # From Close Date</th>\n",
       "      <td>286620.0</td>\n",
       "      <td>115.0</td>\n",
       "      <td>0.0</td>\n",
       "      <td>260453.0</td>\n",
       "    </tr>\n",
       "    <tr>\n",
       "      <th>Sum of Cash Advance Balance 12 months $ From Close Date</th>\n",
       "      <td>286620.0</td>\n",
       "      <td>9846.0</td>\n",
       "      <td>0.0</td>\n",
       "      <td>260453.0</td>\n",
       "    </tr>\n",
       "    <tr>\n",
       "      <th>Avg Bal Amt Q1 $</th>\n",
       "      <td>286654.0</td>\n",
       "      <td>17125.0</td>\n",
       "      <td>0.0</td>\n",
       "      <td>23043.0</td>\n",
       "    </tr>\n",
       "    <tr>\n",
       "      <th>Avg Bal Amt Q2 $</th>\n",
       "      <td>282910.0</td>\n",
       "      <td>17541.0</td>\n",
       "      <td>0.0</td>\n",
       "      <td>19780.0</td>\n",
       "    </tr>\n",
       "    <tr>\n",
       "      <th>Avg Bal Amt Q3 $</th>\n",
       "      <td>277918.0</td>\n",
       "      <td>13913.0</td>\n",
       "      <td>0.0</td>\n",
       "      <td>19706.0</td>\n",
       "    </tr>\n",
       "    <tr>\n",
       "      <th>Avg Bal Amt Q4 $</th>\n",
       "      <td>269128.0</td>\n",
       "      <td>13821.0</td>\n",
       "      <td>0.0</td>\n",
       "      <td>9324.0</td>\n",
       "    </tr>\n",
       "    <tr>\n",
       "      <th>Avg Bal Amt 12 mnths $</th>\n",
       "      <td>286654.0</td>\n",
       "      <td>14895.0</td>\n",
       "      <td>0.0</td>\n",
       "      <td>3744.0</td>\n",
       "    </tr>\n",
       "    <tr>\n",
       "      <th>Sum  Bal Amt 12 mnths $</th>\n",
       "      <td>286654.0</td>\n",
       "      <td>69624.0</td>\n",
       "      <td>0.0</td>\n",
       "      <td>3005.0</td>\n",
       "    </tr>\n",
       "    <tr>\n",
       "      <th>Months Active Debit Posting 12 months # From Close Date</th>\n",
       "      <td>264528.0</td>\n",
       "      <td>14.0</td>\n",
       "      <td>12.0</td>\n",
       "      <td>156719.0</td>\n",
       "    </tr>\n",
       "    <tr>\n",
       "      <th>Months Active Credit Posting 12 months # From Close Date</th>\n",
       "      <td>266769.0</td>\n",
       "      <td>14.0</td>\n",
       "      <td>12.0</td>\n",
       "      <td>119818.0</td>\n",
       "    </tr>\n",
       "    <tr>\n",
       "      <th>Months Active Debit OR Credit Posting 12 months # From Close Date</th>\n",
       "      <td>273216.0</td>\n",
       "      <td>14.0</td>\n",
       "      <td>12.0</td>\n",
       "      <td>185778.0</td>\n",
       "    </tr>\n",
       "    <tr>\n",
       "      <th>Sale Amount Q1 $</th>\n",
       "      <td>286620.0</td>\n",
       "      <td>19836.0</td>\n",
       "      <td>0.0</td>\n",
       "      <td>40394.0</td>\n",
       "    </tr>\n",
       "    <tr>\n",
       "      <th>Sale Amount Q2 $</th>\n",
       "      <td>282858.0</td>\n",
       "      <td>22090.0</td>\n",
       "      <td>0.0</td>\n",
       "      <td>36351.0</td>\n",
       "    </tr>\n",
       "    <tr>\n",
       "      <th>Sale Amount Q3 $</th>\n",
       "      <td>277855.0</td>\n",
       "      <td>17466.0</td>\n",
       "      <td>0.0</td>\n",
       "      <td>38116.0</td>\n",
       "    </tr>\n",
       "    <tr>\n",
       "      <th>Sale Amount Q4 $</th>\n",
       "      <td>269055.0</td>\n",
       "      <td>16906.0</td>\n",
       "      <td>0.0</td>\n",
       "      <td>33601.0</td>\n",
       "    </tr>\n",
       "    <tr>\n",
       "      <th>Sum Sale Amount 12 months $</th>\n",
       "      <td>286620.0</td>\n",
       "      <td>44081.0</td>\n",
       "      <td>0.0</td>\n",
       "      <td>19129.0</td>\n",
       "    </tr>\n",
       "    <tr>\n",
       "      <th>Sale Count Q1 #</th>\n",
       "      <td>286620.0</td>\n",
       "      <td>480.0</td>\n",
       "      <td>0.0</td>\n",
       "      <td>36992.0</td>\n",
       "    </tr>\n",
       "    <tr>\n",
       "      <th>Sale Count Q2 #</th>\n",
       "      <td>282858.0</td>\n",
       "      <td>530.0</td>\n",
       "      <td>0.0</td>\n",
       "      <td>33381.0</td>\n",
       "    </tr>\n",
       "    <tr>\n",
       "      <th>Sale Count Q3 #</th>\n",
       "      <td>277855.0</td>\n",
       "      <td>393.0</td>\n",
       "      <td>0.0</td>\n",
       "      <td>35162.0</td>\n",
       "    </tr>\n",
       "    <tr>\n",
       "      <th>Sale Count Q4 #</th>\n",
       "      <td>269055.0</td>\n",
       "      <td>374.0</td>\n",
       "      <td>0.0</td>\n",
       "      <td>27135.0</td>\n",
       "    </tr>\n",
       "    <tr>\n",
       "      <th>Sum of Sale Count 12 months # From Close Date</th>\n",
       "      <td>286620.0</td>\n",
       "      <td>1402.0</td>\n",
       "      <td>1.0</td>\n",
       "      <td>15434.0</td>\n",
       "    </tr>\n",
       "  </tbody>\n",
       "</table>\n",
       "</div>"
      ],
      "text/plain": [
       "                                                       count   unique  \\\n",
       "Account Hashed                                        311209   311209   \n",
       "Permanent Close Reason Name                            30143        1   \n",
       "Permanent Close Date                                   30143      985   \n",
       "Current Credit Line $                                 311209      520   \n",
       "Behavior Score                                      299574.0    362.0   \n",
       "BEACON_Score                                        309733.0    498.0   \n",
       "pre_durable_key                                       311209   310889   \n",
       "Product Name                                          311209        7   \n",
       "account_system_entry_date                             311209     7110   \n",
       "account_age                                           311209       39   \n",
       "Count of Account Hashed                               311209        1   \n",
       "Sum Yield 12 months %                               283853.0    472.0   \n",
       "Sum of Cash Amount 12 months $ From Close Date      286620.0   4295.0   \n",
       "Sum Rewards Earned 12 months #                      273877.0  42404.0   \n",
       "Sum Rewards Redeemed 12 months #                    273877.0  26688.0   \n",
       "Sum of cash Advance Statement Count 12 months #...  286620.0    115.0   \n",
       "Sum of Cash Advance Balance 12 months $ From Cl...  286620.0   9846.0   \n",
       "Avg Bal Amt Q1 $                                    286654.0  17125.0   \n",
       "Avg Bal Amt Q2 $                                    282910.0  17541.0   \n",
       "Avg Bal Amt Q3 $                                    277918.0  13913.0   \n",
       "Avg Bal Amt Q4 $                                    269128.0  13821.0   \n",
       "Avg Bal Amt 12 mnths $                              286654.0  14895.0   \n",
       "Sum  Bal Amt 12 mnths $                             286654.0  69624.0   \n",
       "Months Active Debit Posting 12 months # From Cl...  264528.0     14.0   \n",
       "Months Active Credit Posting 12 months # From C...  266769.0     14.0   \n",
       "Months Active Debit OR Credit Posting 12 months...  273216.0     14.0   \n",
       "Sale Amount Q1 $                                    286620.0  19836.0   \n",
       "Sale Amount Q2 $                                    282858.0  22090.0   \n",
       "Sale Amount Q3 $                                    277855.0  17466.0   \n",
       "Sale Amount Q4 $                                    269055.0  16906.0   \n",
       "Sum Sale Amount 12 months $                         286620.0  44081.0   \n",
       "Sale Count Q1 #                                     286620.0    480.0   \n",
       "Sale Count Q2 #                                     282858.0    530.0   \n",
       "Sale Count Q3 #                                     277855.0    393.0   \n",
       "Sale Count Q4 #                                     269055.0    374.0   \n",
       "Sum of Sale Count 12 months # From Close Date       286620.0   1402.0   \n",
       "\n",
       "                                                                                 top  \\\n",
       "Account Hashed                                      000066ba2744aa38935bb5ba5e79365a   \n",
       "Permanent Close Reason Name                                           Client Request   \n",
       "Permanent Close Date                                                      2021-09-02   \n",
       "Current Credit Line $                                                         $1,000   \n",
       "Behavior Score                                                                 695.0   \n",
       "BEACON_Score                                                                     0.0   \n",
       "pre_durable_key                                                             11247111   \n",
       "Product Name                                                       Classic Cash Back   \n",
       "account_system_entry_date                                                 2002-05-17   \n",
       "account_age                                                                       47   \n",
       "Count of Account Hashed                                                            1   \n",
       "Sum Yield 12 months %                                                            0.0   \n",
       "Sum of Cash Amount 12 months $ From Close Date                                   0.0   \n",
       "Sum Rewards Earned 12 months #                                                   0.0   \n",
       "Sum Rewards Redeemed 12 months #                                                 0.0   \n",
       "Sum of cash Advance Statement Count 12 months #...                               0.0   \n",
       "Sum of Cash Advance Balance 12 months $ From Cl...                               0.0   \n",
       "Avg Bal Amt Q1 $                                                                 0.0   \n",
       "Avg Bal Amt Q2 $                                                                 0.0   \n",
       "Avg Bal Amt Q3 $                                                                 0.0   \n",
       "Avg Bal Amt Q4 $                                                                 0.0   \n",
       "Avg Bal Amt 12 mnths $                                                           0.0   \n",
       "Sum  Bal Amt 12 mnths $                                                          0.0   \n",
       "Months Active Debit Posting 12 months # From Cl...                              12.0   \n",
       "Months Active Credit Posting 12 months # From C...                              12.0   \n",
       "Months Active Debit OR Credit Posting 12 months...                              12.0   \n",
       "Sale Amount Q1 $                                                                 0.0   \n",
       "Sale Amount Q2 $                                                                 0.0   \n",
       "Sale Amount Q3 $                                                                 0.0   \n",
       "Sale Amount Q4 $                                                                 0.0   \n",
       "Sum Sale Amount 12 months $                                                      0.0   \n",
       "Sale Count Q1 #                                                                  0.0   \n",
       "Sale Count Q2 #                                                                  0.0   \n",
       "Sale Count Q3 #                                                                  0.0   \n",
       "Sale Count Q4 #                                                                  0.0   \n",
       "Sum of Sale Count 12 months # From Close Date                                    1.0   \n",
       "\n",
       "                                                        freq  \n",
       "Account Hashed                                             1  \n",
       "Permanent Close Reason Name                            30143  \n",
       "Permanent Close Date                                     856  \n",
       "Current Credit Line $                                  29708  \n",
       "Behavior Score                                        6165.0  \n",
       "BEACON_Score                                         16104.0  \n",
       "pre_durable_key                                            2  \n",
       "Product Name                                          184772  \n",
       "account_system_entry_date                               2901  \n",
       "account_age                                           148645  \n",
       "Count of Account Hashed                               311209  \n",
       "Sum Yield 12 months %                               122906.0  \n",
       "Sum of Cash Amount 12 months $ From Close Date      260454.0  \n",
       "Sum Rewards Earned 12 months #                       38206.0  \n",
       "Sum Rewards Redeemed 12 months #                    228525.0  \n",
       "Sum of cash Advance Statement Count 12 months #...  260453.0  \n",
       "Sum of Cash Advance Balance 12 months $ From Cl...  260453.0  \n",
       "Avg Bal Amt Q1 $                                     23043.0  \n",
       "Avg Bal Amt Q2 $                                     19780.0  \n",
       "Avg Bal Amt Q3 $                                     19706.0  \n",
       "Avg Bal Amt Q4 $                                      9324.0  \n",
       "Avg Bal Amt 12 mnths $                                3744.0  \n",
       "Sum  Bal Amt 12 mnths $                               3005.0  \n",
       "Months Active Debit Posting 12 months # From Cl...  156719.0  \n",
       "Months Active Credit Posting 12 months # From C...  119818.0  \n",
       "Months Active Debit OR Credit Posting 12 months...  185778.0  \n",
       "Sale Amount Q1 $                                     40394.0  \n",
       "Sale Amount Q2 $                                     36351.0  \n",
       "Sale Amount Q3 $                                     38116.0  \n",
       "Sale Amount Q4 $                                     33601.0  \n",
       "Sum Sale Amount 12 months $                          19129.0  \n",
       "Sale Count Q1 #                                      36992.0  \n",
       "Sale Count Q2 #                                      33381.0  \n",
       "Sale Count Q3 #                                      35162.0  \n",
       "Sale Count Q4 #                                      27135.0  \n",
       "Sum of Sale Count 12 months # From Close Date        15434.0  "
      ]
     },
     "execution_count": 5,
     "metadata": {},
     "output_type": "execute_result"
    }
   ],
   "source": [
    "mdf.astype('object').describe().transpose()"
   ]
  },
  {
   "cell_type": "code",
   "execution_count": 6,
   "id": "16719c8e",
   "metadata": {},
   "outputs": [
    {
     "data": {
      "text/plain": [
       "Account Hashed                                                        object\n",
       "Permanent Close Reason Name                                           object\n",
       "Permanent Close Date                                                  object\n",
       "Current Credit Line $                                                 object\n",
       "Behavior Score                                                       float64\n",
       "BEACON_Score                                                         float64\n",
       "pre_durable_key                                                        int64\n",
       "Product Name                                                          object\n",
       "account_system_entry_date                                             object\n",
       "account_age                                                            int64\n",
       "Count of Account Hashed                                                int64\n",
       "Sum Yield 12 months %                                                float64\n",
       "Sum of Cash Amount 12 months $ From Close Date                       float64\n",
       "Sum Rewards Earned 12 months #                                       float64\n",
       "Sum Rewards Redeemed 12 months #                                     float64\n",
       "Sum of cash Advance Statement Count 12 months # From Close Date      float64\n",
       "Sum of Cash Advance Balance 12 months $ From Close Date              float64\n",
       "Avg Bal Amt Q1 $                                                     float64\n",
       "Avg Bal Amt Q2 $                                                     float64\n",
       "Avg Bal Amt Q3 $                                                     float64\n",
       "Avg Bal Amt Q4 $                                                     float64\n",
       "Avg Bal Amt 12 mnths $                                               float64\n",
       "Sum  Bal Amt 12 mnths $                                              float64\n",
       "Months Active Debit Posting 12 months # From Close Date              float64\n",
       "Months Active Credit Posting 12 months # From Close Date             float64\n",
       "Months Active Debit OR Credit Posting 12 months # From Close Date    float64\n",
       "Sale Amount Q1 $                                                     float64\n",
       "Sale Amount Q2 $                                                     float64\n",
       "Sale Amount Q3 $                                                     float64\n",
       "Sale Amount Q4 $                                                     float64\n",
       "Sum Sale Amount 12 months $                                          float64\n",
       "Sale Count Q1 #                                                      float64\n",
       "Sale Count Q2 #                                                      float64\n",
       "Sale Count Q3 #                                                      float64\n",
       "Sale Count Q4 #                                                      float64\n",
       "Sum of Sale Count 12 months # From Close Date                        float64\n",
       "dtype: object"
      ]
     },
     "execution_count": 6,
     "metadata": {},
     "output_type": "execute_result"
    }
   ],
   "source": [
    "mdf.dtypes   "
   ]
  },
  {
   "cell_type": "markdown",
   "id": "e423a4cc",
   "metadata": {},
   "source": [
    "# Dropping the unwanted variables"
   ]
  },
  {
   "cell_type": "code",
   "execution_count": 7,
   "id": "207f52dc",
   "metadata": {},
   "outputs": [],
   "source": [
    "mdf1= mdf.drop(['Behavior Score','BEACON_Score','Months Active Credit Posting 12 months # From Close Date','Months Active Debit Posting 12 months # From Close Date','Sum of Cash Advance Balance 12 months $ From Close Date','pre_durable_key','Count of Account Hashed','Permanent Close Date','Current Credit Line $','Sum Rewards Earned 12 months #','Sum Rewards Redeemed 12 months #','Sum of cash Advance Statement Count 12 months # From Close Date','Sum  Bal Amt 12 mnths $','account_system_entry_date','Avg Bal Amt Q1 $','Avg Bal Amt Q2 $','Avg Bal Amt Q3 $','Avg Bal Amt Q4 $','Sale Count Q1 #','Sale Count Q2 #','Sale Count Q3 #','Sale Count Q4 #','Sale Amount Q1 $','Sale Amount Q2 $','Sale Amount Q3 $','Sale Amount Q4 $'] , axis=1)"
   ]
  },
  {
   "cell_type": "code",
   "execution_count": 8,
   "id": "120eabd7",
   "metadata": {},
   "outputs": [],
   "source": [
    "mdf1 = mdf1.rename(columns = {\"Months Active Debit OR Credit Posting 12 months # From Close Date\": \"Months Active during 12 months # From Close Date\"})"
   ]
  },
  {
   "cell_type": "code",
   "execution_count": 9,
   "id": "1e245dac",
   "metadata": {},
   "outputs": [
    {
     "data": {
      "text/plain": [
       "Account Hashed                                       object\n",
       "Permanent Close Reason Name                          object\n",
       "Product Name                                         object\n",
       "account_age                                           int64\n",
       "Sum Yield 12 months %                               float64\n",
       "Sum of Cash Amount 12 months $ From Close Date      float64\n",
       "Avg Bal Amt 12 mnths $                              float64\n",
       "Months Active during 12 months # From Close Date    float64\n",
       "Sum Sale Amount 12 months $                         float64\n",
       "Sum of Sale Count 12 months # From Close Date       float64\n",
       "dtype: object"
      ]
     },
     "execution_count": 9,
     "metadata": {},
     "output_type": "execute_result"
    }
   ],
   "source": [
    "mdf1.dtypes  "
   ]
  },
  {
   "cell_type": "code",
   "execution_count": 10,
   "id": "6bb21b07",
   "metadata": {},
   "outputs": [
    {
     "data": {
      "text/html": [
       "<div>\n",
       "<style scoped>\n",
       "    .dataframe tbody tr th:only-of-type {\n",
       "        vertical-align: middle;\n",
       "    }\n",
       "\n",
       "    .dataframe tbody tr th {\n",
       "        vertical-align: top;\n",
       "    }\n",
       "\n",
       "    .dataframe thead th {\n",
       "        text-align: right;\n",
       "    }\n",
       "</style>\n",
       "<table border=\"1\" class=\"dataframe\">\n",
       "  <thead>\n",
       "    <tr style=\"text-align: right;\">\n",
       "      <th></th>\n",
       "      <th>account_age</th>\n",
       "      <th>Sum Yield 12 months %</th>\n",
       "      <th>Sum of Cash Amount 12 months $ From Close Date</th>\n",
       "      <th>Avg Bal Amt 12 mnths $</th>\n",
       "      <th>Months Active during 12 months # From Close Date</th>\n",
       "      <th>Sum Sale Amount 12 months $</th>\n",
       "      <th>Sum of Sale Count 12 months # From Close Date</th>\n",
       "    </tr>\n",
       "  </thead>\n",
       "  <tbody>\n",
       "    <tr>\n",
       "      <th>count</th>\n",
       "      <td>311209.000000</td>\n",
       "      <td>283853.000000</td>\n",
       "      <td>286620.000000</td>\n",
       "      <td>286654.000000</td>\n",
       "      <td>273216.000000</td>\n",
       "      <td>2.866200e+05</td>\n",
       "      <td>286620.000000</td>\n",
       "    </tr>\n",
       "    <tr>\n",
       "      <th>mean</th>\n",
       "      <td>39.090640</td>\n",
       "      <td>0.069712</td>\n",
       "      <td>117.440754</td>\n",
       "      <td>1432.959261</td>\n",
       "      <td>10.050561</td>\n",
       "      <td>1.023562e+04</td>\n",
       "      <td>115.825993</td>\n",
       "    </tr>\n",
       "    <tr>\n",
       "      <th>std</th>\n",
       "      <td>10.712601</td>\n",
       "      <td>1.491313</td>\n",
       "      <td>1096.435107</td>\n",
       "      <td>2548.173287</td>\n",
       "      <td>3.610957</td>\n",
       "      <td>2.591885e+04</td>\n",
       "      <td>156.613866</td>\n",
       "    </tr>\n",
       "    <tr>\n",
       "      <th>min</th>\n",
       "      <td>2.000000</td>\n",
       "      <td>-225.600000</td>\n",
       "      <td>0.000000</td>\n",
       "      <td>-35408.000000</td>\n",
       "      <td>1.000000</td>\n",
       "      <td>0.000000e+00</td>\n",
       "      <td>0.000000</td>\n",
       "    </tr>\n",
       "    <tr>\n",
       "      <th>25%</th>\n",
       "      <td>33.000000</td>\n",
       "      <td>0.000000</td>\n",
       "      <td>0.000000</td>\n",
       "      <td>108.000000</td>\n",
       "      <td>10.000000</td>\n",
       "      <td>1.338000e+03</td>\n",
       "      <td>17.000000</td>\n",
       "    </tr>\n",
       "    <tr>\n",
       "      <th>50%</th>\n",
       "      <td>45.000000</td>\n",
       "      <td>0.030000</td>\n",
       "      <td>0.000000</td>\n",
       "      <td>474.000000</td>\n",
       "      <td>12.000000</td>\n",
       "      <td>4.350000e+03</td>\n",
       "      <td>61.000000</td>\n",
       "    </tr>\n",
       "    <tr>\n",
       "      <th>75%</th>\n",
       "      <td>47.000000</td>\n",
       "      <td>0.120000</td>\n",
       "      <td>0.000000</td>\n",
       "      <td>1628.000000</td>\n",
       "      <td>12.000000</td>\n",
       "      <td>1.093600e+04</td>\n",
       "      <td>149.000000</td>\n",
       "    </tr>\n",
       "    <tr>\n",
       "      <th>max</th>\n",
       "      <td>47.000000</td>\n",
       "      <td>660.000000</td>\n",
       "      <td>89222.000000</td>\n",
       "      <td>132148.000000</td>\n",
       "      <td>15.000000</td>\n",
       "      <td>2.697522e+06</td>\n",
       "      <td>2846.000000</td>\n",
       "    </tr>\n",
       "  </tbody>\n",
       "</table>\n",
       "</div>"
      ],
      "text/plain": [
       "         account_age  Sum Yield 12 months %  \\\n",
       "count  311209.000000          283853.000000   \n",
       "mean       39.090640               0.069712   \n",
       "std        10.712601               1.491313   \n",
       "min         2.000000            -225.600000   \n",
       "25%        33.000000               0.000000   \n",
       "50%        45.000000               0.030000   \n",
       "75%        47.000000               0.120000   \n",
       "max        47.000000             660.000000   \n",
       "\n",
       "       Sum of Cash Amount 12 months $ From Close Date  Avg Bal Amt 12 mnths $  \\\n",
       "count                                   286620.000000           286654.000000   \n",
       "mean                                       117.440754             1432.959261   \n",
       "std                                       1096.435107             2548.173287   \n",
       "min                                          0.000000           -35408.000000   \n",
       "25%                                          0.000000              108.000000   \n",
       "50%                                          0.000000              474.000000   \n",
       "75%                                          0.000000             1628.000000   \n",
       "max                                      89222.000000           132148.000000   \n",
       "\n",
       "       Months Active during 12 months # From Close Date  \\\n",
       "count                                     273216.000000   \n",
       "mean                                          10.050561   \n",
       "std                                            3.610957   \n",
       "min                                            1.000000   \n",
       "25%                                           10.000000   \n",
       "50%                                           12.000000   \n",
       "75%                                           12.000000   \n",
       "max                                           15.000000   \n",
       "\n",
       "       Sum Sale Amount 12 months $  \\\n",
       "count                 2.866200e+05   \n",
       "mean                  1.023562e+04   \n",
       "std                   2.591885e+04   \n",
       "min                   0.000000e+00   \n",
       "25%                   1.338000e+03   \n",
       "50%                   4.350000e+03   \n",
       "75%                   1.093600e+04   \n",
       "max                   2.697522e+06   \n",
       "\n",
       "       Sum of Sale Count 12 months # From Close Date  \n",
       "count                                  286620.000000  \n",
       "mean                                      115.825993  \n",
       "std                                       156.613866  \n",
       "min                                         0.000000  \n",
       "25%                                        17.000000  \n",
       "50%                                        61.000000  \n",
       "75%                                       149.000000  \n",
       "max                                      2846.000000  "
      ]
     },
     "execution_count": 10,
     "metadata": {},
     "output_type": "execute_result"
    }
   ],
   "source": [
    "mdf1.describe()"
   ]
  },
  {
   "cell_type": "markdown",
   "id": "902e1999",
   "metadata": {},
   "source": [
    "# Checking Missing Values "
   ]
  },
  {
   "cell_type": "code",
   "execution_count": 11,
   "id": "bbd47a29",
   "metadata": {},
   "outputs": [],
   "source": [
    "def percentage_of_miss():\n",
    "  dff=mdf1[mdf1.columns[mdf1.isnull().sum()>=1]]\n",
    "  total_miss = mdf1.isnull().sum().sort_values(ascending=False)\n",
    "  percent_miss = (mdf1.isnull().sum()/mdf1.isnull().count()).sort_values(ascending=False)\n",
    "  missing_Data = pd.concat([total_miss, percent_miss], axis=1, keys=['Number of Missing', 'Percentage'])\n",
    "  return(missing_Data)"
   ]
  },
  {
   "cell_type": "code",
   "execution_count": 12,
   "id": "195685e3",
   "metadata": {},
   "outputs": [
    {
     "data": {
      "text/html": [
       "<div>\n",
       "<style scoped>\n",
       "    .dataframe tbody tr th:only-of-type {\n",
       "        vertical-align: middle;\n",
       "    }\n",
       "\n",
       "    .dataframe tbody tr th {\n",
       "        vertical-align: top;\n",
       "    }\n",
       "\n",
       "    .dataframe thead th {\n",
       "        text-align: right;\n",
       "    }\n",
       "</style>\n",
       "<table border=\"1\" class=\"dataframe\">\n",
       "  <thead>\n",
       "    <tr style=\"text-align: right;\">\n",
       "      <th></th>\n",
       "      <th>Number of Missing</th>\n",
       "      <th>Percentage</th>\n",
       "    </tr>\n",
       "  </thead>\n",
       "  <tbody>\n",
       "    <tr>\n",
       "      <th>Permanent Close Reason Name</th>\n",
       "      <td>281066</td>\n",
       "      <td>0.903142</td>\n",
       "    </tr>\n",
       "    <tr>\n",
       "      <th>Months Active during 12 months # From Close Date</th>\n",
       "      <td>37993</td>\n",
       "      <td>0.122082</td>\n",
       "    </tr>\n",
       "    <tr>\n",
       "      <th>Sum Yield 12 months %</th>\n",
       "      <td>27356</td>\n",
       "      <td>0.087902</td>\n",
       "    </tr>\n",
       "    <tr>\n",
       "      <th>Sum of Cash Amount 12 months $ From Close Date</th>\n",
       "      <td>24589</td>\n",
       "      <td>0.079011</td>\n",
       "    </tr>\n",
       "    <tr>\n",
       "      <th>Sum Sale Amount 12 months $</th>\n",
       "      <td>24589</td>\n",
       "      <td>0.079011</td>\n",
       "    </tr>\n",
       "    <tr>\n",
       "      <th>Sum of Sale Count 12 months # From Close Date</th>\n",
       "      <td>24589</td>\n",
       "      <td>0.079011</td>\n",
       "    </tr>\n",
       "    <tr>\n",
       "      <th>Avg Bal Amt 12 mnths $</th>\n",
       "      <td>24555</td>\n",
       "      <td>0.078902</td>\n",
       "    </tr>\n",
       "    <tr>\n",
       "      <th>Account Hashed</th>\n",
       "      <td>0</td>\n",
       "      <td>0.000000</td>\n",
       "    </tr>\n",
       "    <tr>\n",
       "      <th>Product Name</th>\n",
       "      <td>0</td>\n",
       "      <td>0.000000</td>\n",
       "    </tr>\n",
       "    <tr>\n",
       "      <th>account_age</th>\n",
       "      <td>0</td>\n",
       "      <td>0.000000</td>\n",
       "    </tr>\n",
       "  </tbody>\n",
       "</table>\n",
       "</div>"
      ],
      "text/plain": [
       "                                                  Number of Missing  \\\n",
       "Permanent Close Reason Name                                  281066   \n",
       "Months Active during 12 months # From Close Date              37993   \n",
       "Sum Yield 12 months %                                         27356   \n",
       "Sum of Cash Amount 12 months $ From Close Date                24589   \n",
       "Sum Sale Amount 12 months $                                   24589   \n",
       "Sum of Sale Count 12 months # From Close Date                 24589   \n",
       "Avg Bal Amt 12 mnths $                                        24555   \n",
       "Account Hashed                                                    0   \n",
       "Product Name                                                      0   \n",
       "account_age                                                       0   \n",
       "\n",
       "                                                  Percentage  \n",
       "Permanent Close Reason Name                         0.903142  \n",
       "Months Active during 12 months # From Close Date    0.122082  \n",
       "Sum Yield 12 months %                               0.087902  \n",
       "Sum of Cash Amount 12 months $ From Close Date      0.079011  \n",
       "Sum Sale Amount 12 months $                         0.079011  \n",
       "Sum of Sale Count 12 months # From Close Date       0.079011  \n",
       "Avg Bal Amt 12 mnths $                              0.078902  \n",
       "Account Hashed                                      0.000000  \n",
       "Product Name                                        0.000000  \n",
       "account_age                                         0.000000  "
      ]
     },
     "execution_count": 12,
     "metadata": {},
     "output_type": "execute_result"
    }
   ],
   "source": [
    "percentage_of_miss()"
   ]
  },
  {
   "cell_type": "code",
   "execution_count": 13,
   "id": "be4ca737",
   "metadata": {},
   "outputs": [],
   "source": [
    "mdf2= mdf1.copy()"
   ]
  },
  {
   "cell_type": "code",
   "execution_count": 14,
   "id": "c5c13695",
   "metadata": {},
   "outputs": [],
   "source": [
    "mdf3= mdf2.copy()"
   ]
  },
  {
   "cell_type": "code",
   "execution_count": 15,
   "id": "757f09e6",
   "metadata": {},
   "outputs": [],
   "source": [
    "mdf2= mdf2.drop(['Account Hashed'] , axis=1)"
   ]
  },
  {
   "cell_type": "code",
   "execution_count": 16,
   "id": "a8f74b5a",
   "metadata": {},
   "outputs": [
    {
     "data": {
      "text/html": [
       "<div>\n",
       "<style scoped>\n",
       "    .dataframe tbody tr th:only-of-type {\n",
       "        vertical-align: middle;\n",
       "    }\n",
       "\n",
       "    .dataframe tbody tr th {\n",
       "        vertical-align: top;\n",
       "    }\n",
       "\n",
       "    .dataframe thead th {\n",
       "        text-align: right;\n",
       "    }\n",
       "</style>\n",
       "<table border=\"1\" class=\"dataframe\">\n",
       "  <thead>\n",
       "    <tr style=\"text-align: right;\">\n",
       "      <th></th>\n",
       "      <th>Permanent Close Reason Name</th>\n",
       "      <th>Product Name</th>\n",
       "      <th>account_age</th>\n",
       "      <th>Sum Yield 12 months %</th>\n",
       "      <th>Sum of Cash Amount 12 months $ From Close Date</th>\n",
       "      <th>Avg Bal Amt 12 mnths $</th>\n",
       "      <th>Months Active during 12 months # From Close Date</th>\n",
       "      <th>Sum Sale Amount 12 months $</th>\n",
       "      <th>Sum of Sale Count 12 months # From Close Date</th>\n",
       "    </tr>\n",
       "  </thead>\n",
       "  <tbody>\n",
       "    <tr>\n",
       "      <th>0</th>\n",
       "      <td>NaN</td>\n",
       "      <td>Gold Rewards/Centra</td>\n",
       "      <td>47</td>\n",
       "      <td>0.12</td>\n",
       "      <td>1440.0</td>\n",
       "      <td>5167.0</td>\n",
       "      <td>12.0</td>\n",
       "      <td>3078.0</td>\n",
       "      <td>69.0</td>\n",
       "    </tr>\n",
       "    <tr>\n",
       "      <th>1</th>\n",
       "      <td>NaN</td>\n",
       "      <td>Gold Travel Rewards</td>\n",
       "      <td>47</td>\n",
       "      <td>0.00</td>\n",
       "      <td>0.0</td>\n",
       "      <td>2523.0</td>\n",
       "      <td>12.0</td>\n",
       "      <td>34704.0</td>\n",
       "      <td>325.0</td>\n",
       "    </tr>\n",
       "    <tr>\n",
       "      <th>2</th>\n",
       "      <td>NaN</td>\n",
       "      <td>Classic Cash Back</td>\n",
       "      <td>42</td>\n",
       "      <td>0.13</td>\n",
       "      <td>0.0</td>\n",
       "      <td>843.0</td>\n",
       "      <td>5.0</td>\n",
       "      <td>5558.0</td>\n",
       "      <td>6.0</td>\n",
       "    </tr>\n",
       "    <tr>\n",
       "      <th>3</th>\n",
       "      <td>NaN</td>\n",
       "      <td>Classic Cash Back</td>\n",
       "      <td>47</td>\n",
       "      <td>0.20</td>\n",
       "      <td>0.0</td>\n",
       "      <td>2933.0</td>\n",
       "      <td>12.0</td>\n",
       "      <td>69.0</td>\n",
       "      <td>1.0</td>\n",
       "    </tr>\n",
       "    <tr>\n",
       "      <th>4</th>\n",
       "      <td>NaN</td>\n",
       "      <td>Classic</td>\n",
       "      <td>47</td>\n",
       "      <td>0.01</td>\n",
       "      <td>84.0</td>\n",
       "      <td>186.0</td>\n",
       "      <td>12.0</td>\n",
       "      <td>6203.0</td>\n",
       "      <td>300.0</td>\n",
       "    </tr>\n",
       "  </tbody>\n",
       "</table>\n",
       "</div>"
      ],
      "text/plain": [
       "  Permanent Close Reason Name         Product Name  account_age  \\\n",
       "0                         NaN  Gold Rewards/Centra           47   \n",
       "1                         NaN  Gold Travel Rewards           47   \n",
       "2                         NaN    Classic Cash Back           42   \n",
       "3                         NaN    Classic Cash Back           47   \n",
       "4                         NaN              Classic           47   \n",
       "\n",
       "   Sum Yield 12 months %  Sum of Cash Amount 12 months $ From Close Date  \\\n",
       "0                   0.12                                          1440.0   \n",
       "1                   0.00                                             0.0   \n",
       "2                   0.13                                             0.0   \n",
       "3                   0.20                                             0.0   \n",
       "4                   0.01                                            84.0   \n",
       "\n",
       "   Avg Bal Amt 12 mnths $  Months Active during 12 months # From Close Date  \\\n",
       "0                  5167.0                                              12.0   \n",
       "1                  2523.0                                              12.0   \n",
       "2                   843.0                                               5.0   \n",
       "3                  2933.0                                              12.0   \n",
       "4                   186.0                                              12.0   \n",
       "\n",
       "   Sum Sale Amount 12 months $  Sum of Sale Count 12 months # From Close Date  \n",
       "0                       3078.0                                           69.0  \n",
       "1                      34704.0                                          325.0  \n",
       "2                       5558.0                                            6.0  \n",
       "3                         69.0                                            1.0  \n",
       "4                       6203.0                                          300.0  "
      ]
     },
     "execution_count": 16,
     "metadata": {},
     "output_type": "execute_result"
    }
   ],
   "source": [
    "mdf2.head()"
   ]
  },
  {
   "cell_type": "code",
   "execution_count": 17,
   "id": "176a2df6",
   "metadata": {},
   "outputs": [
    {
     "data": {
      "text/html": [
       "<div>\n",
       "<style scoped>\n",
       "    .dataframe tbody tr th:only-of-type {\n",
       "        vertical-align: middle;\n",
       "    }\n",
       "\n",
       "    .dataframe tbody tr th {\n",
       "        vertical-align: top;\n",
       "    }\n",
       "\n",
       "    .dataframe thead th {\n",
       "        text-align: right;\n",
       "    }\n",
       "</style>\n",
       "<table border=\"1\" class=\"dataframe\">\n",
       "  <thead>\n",
       "    <tr style=\"text-align: right;\">\n",
       "      <th></th>\n",
       "      <th>Account Hashed</th>\n",
       "      <th>Permanent Close Reason Name</th>\n",
       "      <th>Product Name</th>\n",
       "      <th>account_age</th>\n",
       "      <th>Sum Yield 12 months %</th>\n",
       "      <th>Sum of Cash Amount 12 months $ From Close Date</th>\n",
       "      <th>Avg Bal Amt 12 mnths $</th>\n",
       "      <th>Months Active during 12 months # From Close Date</th>\n",
       "      <th>Sum Sale Amount 12 months $</th>\n",
       "      <th>Sum of Sale Count 12 months # From Close Date</th>\n",
       "    </tr>\n",
       "  </thead>\n",
       "  <tbody>\n",
       "    <tr>\n",
       "      <th>0</th>\n",
       "      <td>000066ba2744aa38935bb5ba5e79365a</td>\n",
       "      <td>NaN</td>\n",
       "      <td>Gold Rewards/Centra</td>\n",
       "      <td>47</td>\n",
       "      <td>0.12</td>\n",
       "      <td>1440.0</td>\n",
       "      <td>5167.0</td>\n",
       "      <td>12.0</td>\n",
       "      <td>3078.0</td>\n",
       "      <td>69.0</td>\n",
       "    </tr>\n",
       "    <tr>\n",
       "      <th>1</th>\n",
       "      <td>0001911c5989f23866242c1ee22b935f</td>\n",
       "      <td>NaN</td>\n",
       "      <td>Gold Travel Rewards</td>\n",
       "      <td>47</td>\n",
       "      <td>0.00</td>\n",
       "      <td>0.0</td>\n",
       "      <td>2523.0</td>\n",
       "      <td>12.0</td>\n",
       "      <td>34704.0</td>\n",
       "      <td>325.0</td>\n",
       "    </tr>\n",
       "    <tr>\n",
       "      <th>2</th>\n",
       "      <td>0001dbb3a11b021139b3434f3e0482ac</td>\n",
       "      <td>NaN</td>\n",
       "      <td>Classic Cash Back</td>\n",
       "      <td>42</td>\n",
       "      <td>0.13</td>\n",
       "      <td>0.0</td>\n",
       "      <td>843.0</td>\n",
       "      <td>5.0</td>\n",
       "      <td>5558.0</td>\n",
       "      <td>6.0</td>\n",
       "    </tr>\n",
       "    <tr>\n",
       "      <th>3</th>\n",
       "      <td>00037d7b00fdeaeeb14a3476ee825291</td>\n",
       "      <td>NaN</td>\n",
       "      <td>Classic Cash Back</td>\n",
       "      <td>47</td>\n",
       "      <td>0.20</td>\n",
       "      <td>0.0</td>\n",
       "      <td>2933.0</td>\n",
       "      <td>12.0</td>\n",
       "      <td>69.0</td>\n",
       "      <td>1.0</td>\n",
       "    </tr>\n",
       "    <tr>\n",
       "      <th>4</th>\n",
       "      <td>0004cb1326397cd4239e8a9544eefce0</td>\n",
       "      <td>NaN</td>\n",
       "      <td>Classic</td>\n",
       "      <td>47</td>\n",
       "      <td>0.01</td>\n",
       "      <td>84.0</td>\n",
       "      <td>186.0</td>\n",
       "      <td>12.0</td>\n",
       "      <td>6203.0</td>\n",
       "      <td>300.0</td>\n",
       "    </tr>\n",
       "  </tbody>\n",
       "</table>\n",
       "</div>"
      ],
      "text/plain": [
       "                     Account Hashed Permanent Close Reason Name  \\\n",
       "0  000066ba2744aa38935bb5ba5e79365a                         NaN   \n",
       "1  0001911c5989f23866242c1ee22b935f                         NaN   \n",
       "2  0001dbb3a11b021139b3434f3e0482ac                         NaN   \n",
       "3  00037d7b00fdeaeeb14a3476ee825291                         NaN   \n",
       "4  0004cb1326397cd4239e8a9544eefce0                         NaN   \n",
       "\n",
       "          Product Name  account_age  Sum Yield 12 months %  \\\n",
       "0  Gold Rewards/Centra           47                   0.12   \n",
       "1  Gold Travel Rewards           47                   0.00   \n",
       "2    Classic Cash Back           42                   0.13   \n",
       "3    Classic Cash Back           47                   0.20   \n",
       "4              Classic           47                   0.01   \n",
       "\n",
       "   Sum of Cash Amount 12 months $ From Close Date  Avg Bal Amt 12 mnths $  \\\n",
       "0                                          1440.0                  5167.0   \n",
       "1                                             0.0                  2523.0   \n",
       "2                                             0.0                   843.0   \n",
       "3                                             0.0                  2933.0   \n",
       "4                                            84.0                   186.0   \n",
       "\n",
       "   Months Active during 12 months # From Close Date  \\\n",
       "0                                              12.0   \n",
       "1                                              12.0   \n",
       "2                                               5.0   \n",
       "3                                              12.0   \n",
       "4                                              12.0   \n",
       "\n",
       "   Sum Sale Amount 12 months $  Sum of Sale Count 12 months # From Close Date  \n",
       "0                       3078.0                                           69.0  \n",
       "1                      34704.0                                          325.0  \n",
       "2                       5558.0                                            6.0  \n",
       "3                         69.0                                            1.0  \n",
       "4                       6203.0                                          300.0  "
      ]
     },
     "execution_count": 17,
     "metadata": {},
     "output_type": "execute_result"
    }
   ],
   "source": [
    "mdf3.head()"
   ]
  },
  {
   "cell_type": "markdown",
   "id": "36276444",
   "metadata": {},
   "source": [
    "# Filling Missing Values"
   ]
  },
  {
   "cell_type": "code",
   "execution_count": 18,
   "id": "c631dd20",
   "metadata": {},
   "outputs": [],
   "source": [
    "mdf2['Permanent Close Reason Name'] = mdf2['Permanent Close Reason Name'].fillna(0)"
   ]
  },
  {
   "cell_type": "code",
   "execution_count": 19,
   "id": "ae16aaa4",
   "metadata": {},
   "outputs": [],
   "source": [
    "mdf2['Permanent Close Reason Name'] = mdf2['Permanent Close Reason Name'].replace('Client Request', 1) "
   ]
  },
  {
   "cell_type": "code",
   "execution_count": 20,
   "id": "4d14b899",
   "metadata": {},
   "outputs": [],
   "source": [
    "mdf2['Product Name'] = pd.factorize(mdf2['Product Name'])[0]"
   ]
  },
  {
   "cell_type": "code",
   "execution_count": 21,
   "id": "ce88c04e",
   "metadata": {},
   "outputs": [],
   "source": [
    "mdf2 = mdf2.apply (pd.to_numeric, errors='coerce')\n",
    "mdf2 = mdf2.fillna(0)"
   ]
  },
  {
   "cell_type": "code",
   "execution_count": 22,
   "id": "bd09dde1",
   "metadata": {},
   "outputs": [
    {
     "data": {
      "text/html": [
       "<div>\n",
       "<style scoped>\n",
       "    .dataframe tbody tr th:only-of-type {\n",
       "        vertical-align: middle;\n",
       "    }\n",
       "\n",
       "    .dataframe tbody tr th {\n",
       "        vertical-align: top;\n",
       "    }\n",
       "\n",
       "    .dataframe thead th {\n",
       "        text-align: right;\n",
       "    }\n",
       "</style>\n",
       "<table border=\"1\" class=\"dataframe\">\n",
       "  <thead>\n",
       "    <tr style=\"text-align: right;\">\n",
       "      <th></th>\n",
       "      <th>Permanent Close Reason Name</th>\n",
       "      <th>Product Name</th>\n",
       "      <th>account_age</th>\n",
       "      <th>Sum Yield 12 months %</th>\n",
       "      <th>Sum of Cash Amount 12 months $ From Close Date</th>\n",
       "      <th>Avg Bal Amt 12 mnths $</th>\n",
       "      <th>Months Active during 12 months # From Close Date</th>\n",
       "      <th>Sum Sale Amount 12 months $</th>\n",
       "      <th>Sum of Sale Count 12 months # From Close Date</th>\n",
       "    </tr>\n",
       "  </thead>\n",
       "  <tbody>\n",
       "    <tr>\n",
       "      <th>0</th>\n",
       "      <td>0</td>\n",
       "      <td>0</td>\n",
       "      <td>47</td>\n",
       "      <td>0.12</td>\n",
       "      <td>1440.0</td>\n",
       "      <td>5167.0</td>\n",
       "      <td>12.0</td>\n",
       "      <td>3078.0</td>\n",
       "      <td>69.0</td>\n",
       "    </tr>\n",
       "    <tr>\n",
       "      <th>1</th>\n",
       "      <td>0</td>\n",
       "      <td>1</td>\n",
       "      <td>47</td>\n",
       "      <td>0.00</td>\n",
       "      <td>0.0</td>\n",
       "      <td>2523.0</td>\n",
       "      <td>12.0</td>\n",
       "      <td>34704.0</td>\n",
       "      <td>325.0</td>\n",
       "    </tr>\n",
       "    <tr>\n",
       "      <th>2</th>\n",
       "      <td>0</td>\n",
       "      <td>2</td>\n",
       "      <td>42</td>\n",
       "      <td>0.13</td>\n",
       "      <td>0.0</td>\n",
       "      <td>843.0</td>\n",
       "      <td>5.0</td>\n",
       "      <td>5558.0</td>\n",
       "      <td>6.0</td>\n",
       "    </tr>\n",
       "    <tr>\n",
       "      <th>3</th>\n",
       "      <td>0</td>\n",
       "      <td>2</td>\n",
       "      <td>47</td>\n",
       "      <td>0.20</td>\n",
       "      <td>0.0</td>\n",
       "      <td>2933.0</td>\n",
       "      <td>12.0</td>\n",
       "      <td>69.0</td>\n",
       "      <td>1.0</td>\n",
       "    </tr>\n",
       "    <tr>\n",
       "      <th>4</th>\n",
       "      <td>0</td>\n",
       "      <td>3</td>\n",
       "      <td>47</td>\n",
       "      <td>0.01</td>\n",
       "      <td>84.0</td>\n",
       "      <td>186.0</td>\n",
       "      <td>12.0</td>\n",
       "      <td>6203.0</td>\n",
       "      <td>300.0</td>\n",
       "    </tr>\n",
       "  </tbody>\n",
       "</table>\n",
       "</div>"
      ],
      "text/plain": [
       "   Permanent Close Reason Name  Product Name  account_age  \\\n",
       "0                            0             0           47   \n",
       "1                            0             1           47   \n",
       "2                            0             2           42   \n",
       "3                            0             2           47   \n",
       "4                            0             3           47   \n",
       "\n",
       "   Sum Yield 12 months %  Sum of Cash Amount 12 months $ From Close Date  \\\n",
       "0                   0.12                                          1440.0   \n",
       "1                   0.00                                             0.0   \n",
       "2                   0.13                                             0.0   \n",
       "3                   0.20                                             0.0   \n",
       "4                   0.01                                            84.0   \n",
       "\n",
       "   Avg Bal Amt 12 mnths $  Months Active during 12 months # From Close Date  \\\n",
       "0                  5167.0                                              12.0   \n",
       "1                  2523.0                                              12.0   \n",
       "2                   843.0                                               5.0   \n",
       "3                  2933.0                                              12.0   \n",
       "4                   186.0                                              12.0   \n",
       "\n",
       "   Sum Sale Amount 12 months $  Sum of Sale Count 12 months # From Close Date  \n",
       "0                       3078.0                                           69.0  \n",
       "1                      34704.0                                          325.0  \n",
       "2                       5558.0                                            6.0  \n",
       "3                         69.0                                            1.0  \n",
       "4                       6203.0                                          300.0  "
      ]
     },
     "execution_count": 22,
     "metadata": {},
     "output_type": "execute_result"
    }
   ],
   "source": [
    "mdf2.head()"
   ]
  },
  {
   "cell_type": "markdown",
   "id": "6e36f904",
   "metadata": {},
   "source": [
    "# Describing and understanding the variables"
   ]
  },
  {
   "cell_type": "code",
   "execution_count": 23,
   "id": "96c5b9ab",
   "metadata": {},
   "outputs": [
    {
     "data": {
      "text/html": [
       "<div>\n",
       "<style scoped>\n",
       "    .dataframe tbody tr th:only-of-type {\n",
       "        vertical-align: middle;\n",
       "    }\n",
       "\n",
       "    .dataframe tbody tr th {\n",
       "        vertical-align: top;\n",
       "    }\n",
       "\n",
       "    .dataframe thead th {\n",
       "        text-align: right;\n",
       "    }\n",
       "</style>\n",
       "<table border=\"1\" class=\"dataframe\">\n",
       "  <thead>\n",
       "    <tr style=\"text-align: right;\">\n",
       "      <th></th>\n",
       "      <th>count</th>\n",
       "      <th>unique</th>\n",
       "      <th>top</th>\n",
       "      <th>freq</th>\n",
       "    </tr>\n",
       "  </thead>\n",
       "  <tbody>\n",
       "    <tr>\n",
       "      <th>Permanent Close Reason Name</th>\n",
       "      <td>311209.0</td>\n",
       "      <td>2.0</td>\n",
       "      <td>0.0</td>\n",
       "      <td>281066.0</td>\n",
       "    </tr>\n",
       "    <tr>\n",
       "      <th>Product Name</th>\n",
       "      <td>311209.0</td>\n",
       "      <td>7.0</td>\n",
       "      <td>2.0</td>\n",
       "      <td>184772.0</td>\n",
       "    </tr>\n",
       "    <tr>\n",
       "      <th>account_age</th>\n",
       "      <td>311209.0</td>\n",
       "      <td>39.0</td>\n",
       "      <td>47.0</td>\n",
       "      <td>148645.0</td>\n",
       "    </tr>\n",
       "    <tr>\n",
       "      <th>Sum Yield 12 months %</th>\n",
       "      <td>311209.0</td>\n",
       "      <td>472.0</td>\n",
       "      <td>0.0</td>\n",
       "      <td>150262.0</td>\n",
       "    </tr>\n",
       "    <tr>\n",
       "      <th>Sum of Cash Amount 12 months $ From Close Date</th>\n",
       "      <td>311209.0</td>\n",
       "      <td>4295.0</td>\n",
       "      <td>0.0</td>\n",
       "      <td>285043.0</td>\n",
       "    </tr>\n",
       "    <tr>\n",
       "      <th>Avg Bal Amt 12 mnths $</th>\n",
       "      <td>311209.0</td>\n",
       "      <td>14895.0</td>\n",
       "      <td>0.0</td>\n",
       "      <td>28299.0</td>\n",
       "    </tr>\n",
       "    <tr>\n",
       "      <th>Months Active during 12 months # From Close Date</th>\n",
       "      <td>311209.0</td>\n",
       "      <td>15.0</td>\n",
       "      <td>12.0</td>\n",
       "      <td>185778.0</td>\n",
       "    </tr>\n",
       "    <tr>\n",
       "      <th>Sum Sale Amount 12 months $</th>\n",
       "      <td>311209.0</td>\n",
       "      <td>44081.0</td>\n",
       "      <td>0.0</td>\n",
       "      <td>43718.0</td>\n",
       "    </tr>\n",
       "    <tr>\n",
       "      <th>Sum of Sale Count 12 months # From Close Date</th>\n",
       "      <td>311209.0</td>\n",
       "      <td>1402.0</td>\n",
       "      <td>0.0</td>\n",
       "      <td>33992.0</td>\n",
       "    </tr>\n",
       "  </tbody>\n",
       "</table>\n",
       "</div>"
      ],
      "text/plain": [
       "                                                     count   unique   top  \\\n",
       "Permanent Close Reason Name                       311209.0      2.0   0.0   \n",
       "Product Name                                      311209.0      7.0   2.0   \n",
       "account_age                                       311209.0     39.0  47.0   \n",
       "Sum Yield 12 months %                             311209.0    472.0   0.0   \n",
       "Sum of Cash Amount 12 months $ From Close Date    311209.0   4295.0   0.0   \n",
       "Avg Bal Amt 12 mnths $                            311209.0  14895.0   0.0   \n",
       "Months Active during 12 months # From Close Date  311209.0     15.0  12.0   \n",
       "Sum Sale Amount 12 months $                       311209.0  44081.0   0.0   \n",
       "Sum of Sale Count 12 months # From Close Date     311209.0   1402.0   0.0   \n",
       "\n",
       "                                                      freq  \n",
       "Permanent Close Reason Name                       281066.0  \n",
       "Product Name                                      184772.0  \n",
       "account_age                                       148645.0  \n",
       "Sum Yield 12 months %                             150262.0  \n",
       "Sum of Cash Amount 12 months $ From Close Date    285043.0  \n",
       "Avg Bal Amt 12 mnths $                             28299.0  \n",
       "Months Active during 12 months # From Close Date  185778.0  \n",
       "Sum Sale Amount 12 months $                        43718.0  \n",
       "Sum of Sale Count 12 months # From Close Date      33992.0  "
      ]
     },
     "execution_count": 23,
     "metadata": {},
     "output_type": "execute_result"
    }
   ],
   "source": [
    "mdf2.astype('object').describe().transpose()"
   ]
  },
  {
   "cell_type": "code",
   "execution_count": 24,
   "id": "952d8b9a",
   "metadata": {},
   "outputs": [
    {
     "data": {
      "text/html": [
       "<div>\n",
       "<style scoped>\n",
       "    .dataframe tbody tr th:only-of-type {\n",
       "        vertical-align: middle;\n",
       "    }\n",
       "\n",
       "    .dataframe tbody tr th {\n",
       "        vertical-align: top;\n",
       "    }\n",
       "\n",
       "    .dataframe thead th {\n",
       "        text-align: right;\n",
       "    }\n",
       "</style>\n",
       "<table border=\"1\" class=\"dataframe\">\n",
       "  <thead>\n",
       "    <tr style=\"text-align: right;\">\n",
       "      <th></th>\n",
       "      <th>Permanent Close Reason Name</th>\n",
       "      <th>Product Name</th>\n",
       "      <th>account_age</th>\n",
       "      <th>Sum Yield 12 months %</th>\n",
       "      <th>Sum of Cash Amount 12 months $ From Close Date</th>\n",
       "      <th>Avg Bal Amt 12 mnths $</th>\n",
       "      <th>Months Active during 12 months # From Close Date</th>\n",
       "      <th>Sum Sale Amount 12 months $</th>\n",
       "      <th>Sum of Sale Count 12 months # From Close Date</th>\n",
       "    </tr>\n",
       "  </thead>\n",
       "  <tbody>\n",
       "    <tr>\n",
       "      <th>count</th>\n",
       "      <td>311209.000000</td>\n",
       "      <td>311209.000000</td>\n",
       "      <td>311209.000000</td>\n",
       "      <td>311209.000000</td>\n",
       "      <td>311209.000000</td>\n",
       "      <td>311209.000000</td>\n",
       "      <td>311209.000000</td>\n",
       "      <td>3.112090e+05</td>\n",
       "      <td>311209.000000</td>\n",
       "    </tr>\n",
       "    <tr>\n",
       "      <th>mean</th>\n",
       "      <td>0.096858</td>\n",
       "      <td>2.040076</td>\n",
       "      <td>39.090640</td>\n",
       "      <td>0.063584</td>\n",
       "      <td>108.161618</td>\n",
       "      <td>1319.895967</td>\n",
       "      <td>8.823569</td>\n",
       "      <td>9.426891e+03</td>\n",
       "      <td>106.674441</td>\n",
       "    </tr>\n",
       "    <tr>\n",
       "      <th>std</th>\n",
       "      <td>0.295764</td>\n",
       "      <td>1.172685</td>\n",
       "      <td>10.712601</td>\n",
       "      <td>1.424397</td>\n",
       "      <td>1052.705270</td>\n",
       "      <td>2475.902368</td>\n",
       "      <td>4.719498</td>\n",
       "      <td>2.502662e+04</td>\n",
       "      <td>153.512726</td>\n",
       "    </tr>\n",
       "    <tr>\n",
       "      <th>min</th>\n",
       "      <td>0.000000</td>\n",
       "      <td>0.000000</td>\n",
       "      <td>2.000000</td>\n",
       "      <td>-225.600000</td>\n",
       "      <td>0.000000</td>\n",
       "      <td>-35408.000000</td>\n",
       "      <td>0.000000</td>\n",
       "      <td>0.000000e+00</td>\n",
       "      <td>0.000000</td>\n",
       "    </tr>\n",
       "    <tr>\n",
       "      <th>25%</th>\n",
       "      <td>0.000000</td>\n",
       "      <td>2.000000</td>\n",
       "      <td>33.000000</td>\n",
       "      <td>0.000000</td>\n",
       "      <td>0.000000</td>\n",
       "      <td>53.000000</td>\n",
       "      <td>5.000000</td>\n",
       "      <td>7.570000e+02</td>\n",
       "      <td>10.000000</td>\n",
       "    </tr>\n",
       "    <tr>\n",
       "      <th>50%</th>\n",
       "      <td>0.000000</td>\n",
       "      <td>2.000000</td>\n",
       "      <td>45.000000</td>\n",
       "      <td>0.010000</td>\n",
       "      <td>0.000000</td>\n",
       "      <td>387.000000</td>\n",
       "      <td>12.000000</td>\n",
       "      <td>3.710000e+03</td>\n",
       "      <td>52.000000</td>\n",
       "    </tr>\n",
       "    <tr>\n",
       "      <th>75%</th>\n",
       "      <td>0.000000</td>\n",
       "      <td>2.000000</td>\n",
       "      <td>47.000000</td>\n",
       "      <td>0.120000</td>\n",
       "      <td>0.000000</td>\n",
       "      <td>1456.000000</td>\n",
       "      <td>12.000000</td>\n",
       "      <td>1.001900e+04</td>\n",
       "      <td>138.000000</td>\n",
       "    </tr>\n",
       "    <tr>\n",
       "      <th>max</th>\n",
       "      <td>1.000000</td>\n",
       "      <td>6.000000</td>\n",
       "      <td>47.000000</td>\n",
       "      <td>660.000000</td>\n",
       "      <td>89222.000000</td>\n",
       "      <td>132148.000000</td>\n",
       "      <td>15.000000</td>\n",
       "      <td>2.697522e+06</td>\n",
       "      <td>2846.000000</td>\n",
       "    </tr>\n",
       "  </tbody>\n",
       "</table>\n",
       "</div>"
      ],
      "text/plain": [
       "       Permanent Close Reason Name   Product Name    account_age  \\\n",
       "count                311209.000000  311209.000000  311209.000000   \n",
       "mean                      0.096858       2.040076      39.090640   \n",
       "std                       0.295764       1.172685      10.712601   \n",
       "min                       0.000000       0.000000       2.000000   \n",
       "25%                       0.000000       2.000000      33.000000   \n",
       "50%                       0.000000       2.000000      45.000000   \n",
       "75%                       0.000000       2.000000      47.000000   \n",
       "max                       1.000000       6.000000      47.000000   \n",
       "\n",
       "       Sum Yield 12 months %  Sum of Cash Amount 12 months $ From Close Date  \\\n",
       "count          311209.000000                                   311209.000000   \n",
       "mean                0.063584                                      108.161618   \n",
       "std                 1.424397                                     1052.705270   \n",
       "min              -225.600000                                        0.000000   \n",
       "25%                 0.000000                                        0.000000   \n",
       "50%                 0.010000                                        0.000000   \n",
       "75%                 0.120000                                        0.000000   \n",
       "max               660.000000                                    89222.000000   \n",
       "\n",
       "       Avg Bal Amt 12 mnths $  \\\n",
       "count           311209.000000   \n",
       "mean              1319.895967   \n",
       "std               2475.902368   \n",
       "min             -35408.000000   \n",
       "25%                 53.000000   \n",
       "50%                387.000000   \n",
       "75%               1456.000000   \n",
       "max             132148.000000   \n",
       "\n",
       "       Months Active during 12 months # From Close Date  \\\n",
       "count                                     311209.000000   \n",
       "mean                                           8.823569   \n",
       "std                                            4.719498   \n",
       "min                                            0.000000   \n",
       "25%                                            5.000000   \n",
       "50%                                           12.000000   \n",
       "75%                                           12.000000   \n",
       "max                                           15.000000   \n",
       "\n",
       "       Sum Sale Amount 12 months $  \\\n",
       "count                 3.112090e+05   \n",
       "mean                  9.426891e+03   \n",
       "std                   2.502662e+04   \n",
       "min                   0.000000e+00   \n",
       "25%                   7.570000e+02   \n",
       "50%                   3.710000e+03   \n",
       "75%                   1.001900e+04   \n",
       "max                   2.697522e+06   \n",
       "\n",
       "       Sum of Sale Count 12 months # From Close Date  \n",
       "count                                  311209.000000  \n",
       "mean                                      106.674441  \n",
       "std                                       153.512726  \n",
       "min                                         0.000000  \n",
       "25%                                        10.000000  \n",
       "50%                                        52.000000  \n",
       "75%                                       138.000000  \n",
       "max                                      2846.000000  "
      ]
     },
     "execution_count": 24,
     "metadata": {},
     "output_type": "execute_result"
    }
   ],
   "source": [
    "mdf2.describe()"
   ]
  },
  {
   "cell_type": "code",
   "execution_count": 25,
   "id": "a9095455",
   "metadata": {},
   "outputs": [
    {
     "data": {
      "text/plain": [
       "Permanent Close Reason Name                           int64\n",
       "Product Name                                          int64\n",
       "account_age                                           int64\n",
       "Sum Yield 12 months %                               float64\n",
       "Sum of Cash Amount 12 months $ From Close Date      float64\n",
       "Avg Bal Amt 12 mnths $                              float64\n",
       "Months Active during 12 months # From Close Date    float64\n",
       "Sum Sale Amount 12 months $                         float64\n",
       "Sum of Sale Count 12 months # From Close Date       float64\n",
       "dtype: object"
      ]
     },
     "execution_count": 25,
     "metadata": {},
     "output_type": "execute_result"
    }
   ],
   "source": [
    "mdf2.dtypes  "
   ]
  },
  {
   "cell_type": "markdown",
   "id": "75e56809",
   "metadata": {},
   "source": [
    "# Checking missing value after Filling values"
   ]
  },
  {
   "cell_type": "code",
   "execution_count": 26,
   "id": "e54f1bab",
   "metadata": {},
   "outputs": [],
   "source": [
    "def percentage_of_miss():\n",
    "  dff2=mdf2[mdf2.columns[mdf2.isnull().sum()>=1]]\n",
    "  total_miss = mdf2.isnull().sum().sort_values(ascending=False)\n",
    "  percent_miss = (mdf2.isnull().sum()/mdf2.isnull().count()).sort_values(ascending=False)\n",
    "  missing_Data = pd.concat([total_miss, percent_miss], axis=1, keys=['Number of Missing', 'Percentage'])\n",
    "  return(missing_Data)"
   ]
  },
  {
   "cell_type": "code",
   "execution_count": 27,
   "id": "6b8fdfd2",
   "metadata": {},
   "outputs": [
    {
     "data": {
      "text/html": [
       "<div>\n",
       "<style scoped>\n",
       "    .dataframe tbody tr th:only-of-type {\n",
       "        vertical-align: middle;\n",
       "    }\n",
       "\n",
       "    .dataframe tbody tr th {\n",
       "        vertical-align: top;\n",
       "    }\n",
       "\n",
       "    .dataframe thead th {\n",
       "        text-align: right;\n",
       "    }\n",
       "</style>\n",
       "<table border=\"1\" class=\"dataframe\">\n",
       "  <thead>\n",
       "    <tr style=\"text-align: right;\">\n",
       "      <th></th>\n",
       "      <th>Number of Missing</th>\n",
       "      <th>Percentage</th>\n",
       "    </tr>\n",
       "  </thead>\n",
       "  <tbody>\n",
       "    <tr>\n",
       "      <th>Permanent Close Reason Name</th>\n",
       "      <td>0</td>\n",
       "      <td>0.0</td>\n",
       "    </tr>\n",
       "    <tr>\n",
       "      <th>Product Name</th>\n",
       "      <td>0</td>\n",
       "      <td>0.0</td>\n",
       "    </tr>\n",
       "    <tr>\n",
       "      <th>account_age</th>\n",
       "      <td>0</td>\n",
       "      <td>0.0</td>\n",
       "    </tr>\n",
       "    <tr>\n",
       "      <th>Sum Yield 12 months %</th>\n",
       "      <td>0</td>\n",
       "      <td>0.0</td>\n",
       "    </tr>\n",
       "    <tr>\n",
       "      <th>Sum of Cash Amount 12 months $ From Close Date</th>\n",
       "      <td>0</td>\n",
       "      <td>0.0</td>\n",
       "    </tr>\n",
       "    <tr>\n",
       "      <th>Avg Bal Amt 12 mnths $</th>\n",
       "      <td>0</td>\n",
       "      <td>0.0</td>\n",
       "    </tr>\n",
       "    <tr>\n",
       "      <th>Months Active during 12 months # From Close Date</th>\n",
       "      <td>0</td>\n",
       "      <td>0.0</td>\n",
       "    </tr>\n",
       "    <tr>\n",
       "      <th>Sum Sale Amount 12 months $</th>\n",
       "      <td>0</td>\n",
       "      <td>0.0</td>\n",
       "    </tr>\n",
       "    <tr>\n",
       "      <th>Sum of Sale Count 12 months # From Close Date</th>\n",
       "      <td>0</td>\n",
       "      <td>0.0</td>\n",
       "    </tr>\n",
       "  </tbody>\n",
       "</table>\n",
       "</div>"
      ],
      "text/plain": [
       "                                                  Number of Missing  \\\n",
       "Permanent Close Reason Name                                       0   \n",
       "Product Name                                                      0   \n",
       "account_age                                                       0   \n",
       "Sum Yield 12 months %                                             0   \n",
       "Sum of Cash Amount 12 months $ From Close Date                    0   \n",
       "Avg Bal Amt 12 mnths $                                            0   \n",
       "Months Active during 12 months # From Close Date                  0   \n",
       "Sum Sale Amount 12 months $                                       0   \n",
       "Sum of Sale Count 12 months # From Close Date                     0   \n",
       "\n",
       "                                                  Percentage  \n",
       "Permanent Close Reason Name                              0.0  \n",
       "Product Name                                             0.0  \n",
       "account_age                                              0.0  \n",
       "Sum Yield 12 months %                                    0.0  \n",
       "Sum of Cash Amount 12 months $ From Close Date           0.0  \n",
       "Avg Bal Amt 12 mnths $                                   0.0  \n",
       "Months Active during 12 months # From Close Date         0.0  \n",
       "Sum Sale Amount 12 months $                              0.0  \n",
       "Sum of Sale Count 12 months # From Close Date            0.0  "
      ]
     },
     "execution_count": 27,
     "metadata": {},
     "output_type": "execute_result"
    }
   ],
   "source": [
    "percentage_of_miss()"
   ]
  },
  {
   "cell_type": "code",
   "execution_count": 28,
   "id": "0a4598d6",
   "metadata": {},
   "outputs": [
    {
     "data": {
      "text/plain": [
       "Permanent Close Reason Name                         0\n",
       "Product Name                                        0\n",
       "account_age                                         0\n",
       "Sum Yield 12 months %                               0\n",
       "Sum of Cash Amount 12 months $ From Close Date      0\n",
       "Avg Bal Amt 12 mnths $                              0\n",
       "Months Active during 12 months # From Close Date    0\n",
       "Sum Sale Amount 12 months $                         0\n",
       "Sum of Sale Count 12 months # From Close Date       0\n",
       "dtype: int64"
      ]
     },
     "execution_count": 28,
     "metadata": {},
     "output_type": "execute_result"
    }
   ],
   "source": [
    "mdf2.apply(lambda x:sum(x.isnull()))"
   ]
  },
  {
   "cell_type": "markdown",
   "id": "da366a3e",
   "metadata": {},
   "source": [
    "# correlation Matrix"
   ]
  },
  {
   "cell_type": "code",
   "execution_count": 29,
   "id": "ed74d040",
   "metadata": {},
   "outputs": [],
   "source": [
    "corr_ad_Data = mdf2.corr()"
   ]
  },
  {
   "cell_type": "code",
   "execution_count": 30,
   "id": "cbba8413",
   "metadata": {},
   "outputs": [
    {
     "data": {
      "text/html": [
       "<div>\n",
       "<style scoped>\n",
       "    .dataframe tbody tr th:only-of-type {\n",
       "        vertical-align: middle;\n",
       "    }\n",
       "\n",
       "    .dataframe tbody tr th {\n",
       "        vertical-align: top;\n",
       "    }\n",
       "\n",
       "    .dataframe thead th {\n",
       "        text-align: right;\n",
       "    }\n",
       "</style>\n",
       "<table border=\"1\" class=\"dataframe\">\n",
       "  <thead>\n",
       "    <tr style=\"text-align: right;\">\n",
       "      <th></th>\n",
       "      <th>Permanent Close Reason Name</th>\n",
       "      <th>Product Name</th>\n",
       "      <th>account_age</th>\n",
       "      <th>Sum Yield 12 months %</th>\n",
       "      <th>Sum of Cash Amount 12 months $ From Close Date</th>\n",
       "      <th>Avg Bal Amt 12 mnths $</th>\n",
       "      <th>Months Active during 12 months # From Close Date</th>\n",
       "      <th>Sum Sale Amount 12 months $</th>\n",
       "      <th>Sum of Sale Count 12 months # From Close Date</th>\n",
       "    </tr>\n",
       "  </thead>\n",
       "  <tbody>\n",
       "    <tr>\n",
       "      <th>Permanent Close Reason Name</th>\n",
       "      <td>1.000000</td>\n",
       "      <td>0.042237</td>\n",
       "      <td>0.131731</td>\n",
       "      <td>-0.000621</td>\n",
       "      <td>-0.007715</td>\n",
       "      <td>-0.059715</td>\n",
       "      <td>-0.574248</td>\n",
       "      <td>-0.053333</td>\n",
       "      <td>-0.095422</td>\n",
       "    </tr>\n",
       "    <tr>\n",
       "      <th>Product Name</th>\n",
       "      <td>0.042237</td>\n",
       "      <td>1.000000</td>\n",
       "      <td>-0.021087</td>\n",
       "      <td>-0.005463</td>\n",
       "      <td>-0.026124</td>\n",
       "      <td>-0.067723</td>\n",
       "      <td>-0.070406</td>\n",
       "      <td>0.143327</td>\n",
       "      <td>0.125271</td>\n",
       "    </tr>\n",
       "    <tr>\n",
       "      <th>account_age</th>\n",
       "      <td>0.131731</td>\n",
       "      <td>-0.021087</td>\n",
       "      <td>1.000000</td>\n",
       "      <td>0.001812</td>\n",
       "      <td>-0.011181</td>\n",
       "      <td>0.071370</td>\n",
       "      <td>-0.045839</td>\n",
       "      <td>0.051698</td>\n",
       "      <td>0.043495</td>\n",
       "    </tr>\n",
       "    <tr>\n",
       "      <th>Sum Yield 12 months %</th>\n",
       "      <td>-0.000621</td>\n",
       "      <td>-0.005463</td>\n",
       "      <td>0.001812</td>\n",
       "      <td>1.000000</td>\n",
       "      <td>0.002046</td>\n",
       "      <td>0.018131</td>\n",
       "      <td>0.008405</td>\n",
       "      <td>-0.004862</td>\n",
       "      <td>-0.004953</td>\n",
       "    </tr>\n",
       "    <tr>\n",
       "      <th>Sum of Cash Amount 12 months $ From Close Date</th>\n",
       "      <td>-0.007715</td>\n",
       "      <td>-0.026124</td>\n",
       "      <td>-0.011181</td>\n",
       "      <td>0.002046</td>\n",
       "      <td>1.000000</td>\n",
       "      <td>0.118920</td>\n",
       "      <td>0.038757</td>\n",
       "      <td>0.013975</td>\n",
       "      <td>0.013249</td>\n",
       "    </tr>\n",
       "    <tr>\n",
       "      <th>Avg Bal Amt 12 mnths $</th>\n",
       "      <td>-0.059715</td>\n",
       "      <td>-0.067723</td>\n",
       "      <td>0.071370</td>\n",
       "      <td>0.018131</td>\n",
       "      <td>0.118920</td>\n",
       "      <td>1.000000</td>\n",
       "      <td>0.255638</td>\n",
       "      <td>0.324694</td>\n",
       "      <td>0.272054</td>\n",
       "    </tr>\n",
       "    <tr>\n",
       "      <th>Months Active during 12 months # From Close Date</th>\n",
       "      <td>-0.574248</td>\n",
       "      <td>-0.070406</td>\n",
       "      <td>-0.045839</td>\n",
       "      <td>0.008405</td>\n",
       "      <td>0.038757</td>\n",
       "      <td>0.255638</td>\n",
       "      <td>1.000000</td>\n",
       "      <td>0.190456</td>\n",
       "      <td>0.355590</td>\n",
       "    </tr>\n",
       "    <tr>\n",
       "      <th>Sum Sale Amount 12 months $</th>\n",
       "      <td>-0.053333</td>\n",
       "      <td>0.143327</td>\n",
       "      <td>0.051698</td>\n",
       "      <td>-0.004862</td>\n",
       "      <td>0.013975</td>\n",
       "      <td>0.324694</td>\n",
       "      <td>0.190456</td>\n",
       "      <td>1.000000</td>\n",
       "      <td>0.507899</td>\n",
       "    </tr>\n",
       "    <tr>\n",
       "      <th>Sum of Sale Count 12 months # From Close Date</th>\n",
       "      <td>-0.095422</td>\n",
       "      <td>0.125271</td>\n",
       "      <td>0.043495</td>\n",
       "      <td>-0.004953</td>\n",
       "      <td>0.013249</td>\n",
       "      <td>0.272054</td>\n",
       "      <td>0.355590</td>\n",
       "      <td>0.507899</td>\n",
       "      <td>1.000000</td>\n",
       "    </tr>\n",
       "  </tbody>\n",
       "</table>\n",
       "</div>"
      ],
      "text/plain": [
       "                                                  Permanent Close Reason Name  \\\n",
       "Permanent Close Reason Name                                          1.000000   \n",
       "Product Name                                                         0.042237   \n",
       "account_age                                                          0.131731   \n",
       "Sum Yield 12 months %                                               -0.000621   \n",
       "Sum of Cash Amount 12 months $ From Close Date                      -0.007715   \n",
       "Avg Bal Amt 12 mnths $                                              -0.059715   \n",
       "Months Active during 12 months # From Close Date                    -0.574248   \n",
       "Sum Sale Amount 12 months $                                         -0.053333   \n",
       "Sum of Sale Count 12 months # From Close Date                       -0.095422   \n",
       "\n",
       "                                                  Product Name  account_age  \\\n",
       "Permanent Close Reason Name                           0.042237     0.131731   \n",
       "Product Name                                          1.000000    -0.021087   \n",
       "account_age                                          -0.021087     1.000000   \n",
       "Sum Yield 12 months %                                -0.005463     0.001812   \n",
       "Sum of Cash Amount 12 months $ From Close Date       -0.026124    -0.011181   \n",
       "Avg Bal Amt 12 mnths $                               -0.067723     0.071370   \n",
       "Months Active during 12 months # From Close Date     -0.070406    -0.045839   \n",
       "Sum Sale Amount 12 months $                           0.143327     0.051698   \n",
       "Sum of Sale Count 12 months # From Close Date         0.125271     0.043495   \n",
       "\n",
       "                                                  Sum Yield 12 months %  \\\n",
       "Permanent Close Reason Name                                   -0.000621   \n",
       "Product Name                                                  -0.005463   \n",
       "account_age                                                    0.001812   \n",
       "Sum Yield 12 months %                                          1.000000   \n",
       "Sum of Cash Amount 12 months $ From Close Date                 0.002046   \n",
       "Avg Bal Amt 12 mnths $                                         0.018131   \n",
       "Months Active during 12 months # From Close Date               0.008405   \n",
       "Sum Sale Amount 12 months $                                   -0.004862   \n",
       "Sum of Sale Count 12 months # From Close Date                 -0.004953   \n",
       "\n",
       "                                                  Sum of Cash Amount 12 months $ From Close Date  \\\n",
       "Permanent Close Reason Name                                                            -0.007715   \n",
       "Product Name                                                                           -0.026124   \n",
       "account_age                                                                            -0.011181   \n",
       "Sum Yield 12 months %                                                                   0.002046   \n",
       "Sum of Cash Amount 12 months $ From Close Date                                          1.000000   \n",
       "Avg Bal Amt 12 mnths $                                                                  0.118920   \n",
       "Months Active during 12 months # From Close Date                                        0.038757   \n",
       "Sum Sale Amount 12 months $                                                             0.013975   \n",
       "Sum of Sale Count 12 months # From Close Date                                           0.013249   \n",
       "\n",
       "                                                  Avg Bal Amt 12 mnths $  \\\n",
       "Permanent Close Reason Name                                    -0.059715   \n",
       "Product Name                                                   -0.067723   \n",
       "account_age                                                     0.071370   \n",
       "Sum Yield 12 months %                                           0.018131   \n",
       "Sum of Cash Amount 12 months $ From Close Date                  0.118920   \n",
       "Avg Bal Amt 12 mnths $                                          1.000000   \n",
       "Months Active during 12 months # From Close Date                0.255638   \n",
       "Sum Sale Amount 12 months $                                     0.324694   \n",
       "Sum of Sale Count 12 months # From Close Date                   0.272054   \n",
       "\n",
       "                                                  Months Active during 12 months # From Close Date  \\\n",
       "Permanent Close Reason Name                                                              -0.574248   \n",
       "Product Name                                                                             -0.070406   \n",
       "account_age                                                                              -0.045839   \n",
       "Sum Yield 12 months %                                                                     0.008405   \n",
       "Sum of Cash Amount 12 months $ From Close Date                                            0.038757   \n",
       "Avg Bal Amt 12 mnths $                                                                    0.255638   \n",
       "Months Active during 12 months # From Close Date                                          1.000000   \n",
       "Sum Sale Amount 12 months $                                                               0.190456   \n",
       "Sum of Sale Count 12 months # From Close Date                                             0.355590   \n",
       "\n",
       "                                                  Sum Sale Amount 12 months $  \\\n",
       "Permanent Close Reason Name                                         -0.053333   \n",
       "Product Name                                                         0.143327   \n",
       "account_age                                                          0.051698   \n",
       "Sum Yield 12 months %                                               -0.004862   \n",
       "Sum of Cash Amount 12 months $ From Close Date                       0.013975   \n",
       "Avg Bal Amt 12 mnths $                                               0.324694   \n",
       "Months Active during 12 months # From Close Date                     0.190456   \n",
       "Sum Sale Amount 12 months $                                          1.000000   \n",
       "Sum of Sale Count 12 months # From Close Date                        0.507899   \n",
       "\n",
       "                                                  Sum of Sale Count 12 months # From Close Date  \n",
       "Permanent Close Reason Name                                                           -0.095422  \n",
       "Product Name                                                                           0.125271  \n",
       "account_age                                                                            0.043495  \n",
       "Sum Yield 12 months %                                                                 -0.004953  \n",
       "Sum of Cash Amount 12 months $ From Close Date                                         0.013249  \n",
       "Avg Bal Amt 12 mnths $                                                                 0.272054  \n",
       "Months Active during 12 months # From Close Date                                       0.355590  \n",
       "Sum Sale Amount 12 months $                                                            0.507899  \n",
       "Sum of Sale Count 12 months # From Close Date                                          1.000000  "
      ]
     },
     "execution_count": 30,
     "metadata": {},
     "output_type": "execute_result"
    }
   ],
   "source": [
    "corr_ad_Data"
   ]
  },
  {
   "cell_type": "code",
   "execution_count": 31,
   "id": "cf78f525",
   "metadata": {},
   "outputs": [
    {
     "data": {
      "image/png": "[encoded data removed]",
      "text/plain": [
       "<Figure size 432x288 with 2 Axes>"
      ]
     },
     "metadata": {
      "needs_background": "light"
     },
     "output_type": "display_data"
    }
   ],
   "source": [
    "corr = corr_ad_Data.corr()\n",
    "ax = sns.heatmap(\n",
    "    corr, \n",
    "    vmin=-1, vmax=1, center=0,\n",
    "    cmap=sns.diverging_palette(20, 220, n=200),\n",
    "    square=True\n",
    ")\n",
    "ax.set_xticklabels(\n",
    "    ax.get_xticklabels(),\n",
    "    rotation=45,\n",
    "    horizontalalignment='right'\n",
    ");"
   ]
  },
  {
   "cell_type": "code",
   "execution_count": 32,
   "id": "1b29f807",
   "metadata": {},
   "outputs": [
    {
     "data": {
      "text/plain": [
       "<AxesSubplot:>"
      ]
     },
     "execution_count": 32,
     "metadata": {},
     "output_type": "execute_result"
    },
    {
     "data": {
      "image/png": "[encoded data removed]",
      "text/plain": [
       "<Figure size 432x288 with 2 Axes>"
      ]
     },
     "metadata": {
      "needs_background": "light"
     },
     "output_type": "display_data"
    }
   ],
   "source": [
    "%matplotlib inline\n",
    "sns.heatmap(corr_ad_Data, vmin = -1, vmax = 1, annot = True, cmap= 'cool')"
   ]
  },
  {
   "cell_type": "code",
   "execution_count": 33,
   "id": "ae56d1c0",
   "metadata": {
    "scrolled": true
   },
   "outputs": [
    {
     "data": {
      "image/png": "[encoded data removed]",
      "text/plain": [
       "<Figure size 2160x720 with 2 Axes>"
      ]
     },
     "metadata": {
      "needs_background": "light"
     },
     "output_type": "display_data"
    }
   ],
   "source": [
    "dfCorr = mdf2.corr()\n",
    "filteredDf = dfCorr[((dfCorr >= .5) | (dfCorr <= -.5)) & (dfCorr !=1.000)]\n",
    "plt.figure(figsize=(30,10))\n",
    "sns.heatmap(filteredDf, annot=True, cmap=\"Reds\")\n",
    "plt.show()"
   ]
  },
  {
   "cell_type": "markdown",
   "id": "a58590ca",
   "metadata": {},
   "source": [
    "# variance_inflation_factor"
   ]
  },
  {
   "cell_type": "code",
   "execution_count": 34,
   "id": "003d7d66",
   "metadata": {
    "scrolled": false
   },
   "outputs": [
    {
     "data": {
      "text/html": [
       "<div>\n",
       "<style scoped>\n",
       "    .dataframe tbody tr th:only-of-type {\n",
       "        vertical-align: middle;\n",
       "    }\n",
       "\n",
       "    .dataframe tbody tr th {\n",
       "        vertical-align: top;\n",
       "    }\n",
       "\n",
       "    .dataframe thead th {\n",
       "        text-align: right;\n",
       "    }\n",
       "</style>\n",
       "<table border=\"1\" class=\"dataframe\">\n",
       "  <thead>\n",
       "    <tr style=\"text-align: right;\">\n",
       "      <th></th>\n",
       "      <th>coef name</th>\n",
       "      <th>vif</th>\n",
       "    </tr>\n",
       "  </thead>\n",
       "  <tbody>\n",
       "    <tr>\n",
       "      <th>0</th>\n",
       "      <td>Permanent Close Reason Name</td>\n",
       "      <td>1.600</td>\n",
       "    </tr>\n",
       "    <tr>\n",
       "      <th>1</th>\n",
       "      <td>Product Name</td>\n",
       "      <td>3.519</td>\n",
       "    </tr>\n",
       "    <tr>\n",
       "      <th>2</th>\n",
       "      <td>account_age</td>\n",
       "      <td>6.760</td>\n",
       "    </tr>\n",
       "    <tr>\n",
       "      <th>3</th>\n",
       "      <td>Sum Yield 12 months %</td>\n",
       "      <td>1.003</td>\n",
       "    </tr>\n",
       "    <tr>\n",
       "      <th>4</th>\n",
       "      <td>Sum of Cash Amount 12 months $ From Close Date</td>\n",
       "      <td>1.026</td>\n",
       "    </tr>\n",
       "    <tr>\n",
       "      <th>5</th>\n",
       "      <td>Avg Bal Amt 12 mnths $</td>\n",
       "      <td>1.564</td>\n",
       "    </tr>\n",
       "    <tr>\n",
       "      <th>6</th>\n",
       "      <td>Months Active during 12 months # From Close Date</td>\n",
       "      <td>5.987</td>\n",
       "    </tr>\n",
       "    <tr>\n",
       "      <th>7</th>\n",
       "      <td>Sum Sale Amount 12 months $</td>\n",
       "      <td>1.642</td>\n",
       "    </tr>\n",
       "    <tr>\n",
       "      <th>8</th>\n",
       "      <td>Sum of Sale Count 12 months # From Close Date</td>\n",
       "      <td>2.255</td>\n",
       "    </tr>\n",
       "  </tbody>\n",
       "</table>\n",
       "</div>"
      ],
      "text/plain": [
       "                                          coef name    vif\n",
       "0                       Permanent Close Reason Name  1.600\n",
       "1                                      Product Name  3.519\n",
       "2                                       account_age  6.760\n",
       "3                             Sum Yield 12 months %  1.003\n",
       "4    Sum of Cash Amount 12 months $ From Close Date  1.026\n",
       "5                            Avg Bal Amt 12 mnths $  1.564\n",
       "6  Months Active during 12 months # From Close Date  5.987\n",
       "7                       Sum Sale Amount 12 months $  1.642\n",
       "8     Sum of Sale Count 12 months # From Close Date  2.255"
      ]
     },
     "execution_count": 34,
     "metadata": {},
     "output_type": "execute_result"
    }
   ],
   "source": [
    "vif =[] # empty list\n",
    "for i in range(mdf2.shape[1]):\n",
    "    vif.append(variance_inflation_factor(exog=mdf2.values,exog_idx=i))\n",
    "\n",
    "pd.DataFrame({'coef name' : mdf2.columns,\n",
    "             'vif':np.around(vif,3)})"
   ]
  },
  {
   "cell_type": "markdown",
   "id": "6a975e6d",
   "metadata": {},
   "source": [
    "# Outlier Analysis"
   ]
  },
  {
   "cell_type": "code",
   "execution_count": 35,
   "id": "b0461c16",
   "metadata": {},
   "outputs": [],
   "source": [
    "def outlier_analysis(col):\n",
    "    Q1=mdf2[col].quantile(0.25)\n",
    "    Q3=mdf2[col].quantile(0.75)\n",
    "    IQR=Q3-Q1\n",
    "    UIF=Q3+1.5*(IQR)\n",
    "    LIF=Q1-1.5*(IQR)\n",
    "    data_out =mdf2[(mdf2[col]<LIF) | (mdf2[col]>UIF)] \n",
    "    sns.distplot(data_out[col])    #Plotting univariate distributions.By default, this will draw a histogram and fit a kernel density estimate (KDE)\n",
    "   \n",
    "    return data_out[col] .describe()"
   ]
  },
  {
   "cell_type": "markdown",
   "id": "f8143f7a",
   "metadata": {},
   "source": [
    "# Yield "
   ]
  },
  {
   "cell_type": "code",
   "execution_count": 36,
   "id": "2a96e5c7",
   "metadata": {},
   "outputs": [
    {
     "name": "stderr",
     "output_type": "stream",
     "text": [
      "C:\\Anaconda\\lib\\site-packages\\seaborn\\distributions.py:2619: FutureWarning: `distplot` is a deprecated function and will be removed in a future version. Please adapt your code to use either `displot` (a figure-level function with similar flexibility) or `histplot` (an axes-level function for histograms).\n",
      "  warnings.warn(msg, FutureWarning)\n"
     ]
    },
    {
     "data": {
      "text/plain": [
       "count    1798.000000\n",
       "mean        0.642998\n",
       "std        18.710763\n",
       "min      -225.600000\n",
       "25%        -0.270000\n",
       "50%         0.350000\n",
       "75%         0.560000\n",
       "max       660.000000\n",
       "Name: Sum Yield 12 months %, dtype: float64"
      ]
     },
     "execution_count": 36,
     "metadata": {},
     "output_type": "execute_result"
    },
    {
     "data": {
      "image/png": "[encoded data removed]",
      "text/plain": [
       "<Figure size 432x288 with 1 Axes>"
      ]
     },
     "metadata": {
      "needs_background": "light"
     },
     "output_type": "display_data"
    }
   ],
   "source": [
    "outlier_analysis('Sum Yield 12 months %')"
   ]
  },
  {
   "cell_type": "code",
   "execution_count": 37,
   "id": "d8c4dbac",
   "metadata": {},
   "outputs": [
    {
     "data": {
      "text/plain": [
       "-225.6"
      ]
     },
     "execution_count": 37,
     "metadata": {},
     "output_type": "execute_result"
    }
   ],
   "source": [
    "mdf2['Sum Yield 12 months %'].min()"
   ]
  },
  {
   "cell_type": "code",
   "execution_count": 38,
   "id": "f5312337",
   "metadata": {},
   "outputs": [
    {
     "data": {
      "text/plain": [
       "660.0"
      ]
     },
     "execution_count": 38,
     "metadata": {},
     "output_type": "execute_result"
    }
   ],
   "source": [
    "mdf2['Sum Yield 12 months %'].max()"
   ]
  },
  {
   "cell_type": "code",
   "execution_count": 39,
   "id": "cacf71e3",
   "metadata": {},
   "outputs": [],
   "source": [
    "mdf2['Sum Yield 12 months %'].values[mdf2['Sum Yield 12 months %'].values <= 0] = 0"
   ]
  },
  {
   "cell_type": "code",
   "execution_count": 40,
   "id": "a5d4bb4e",
   "metadata": {},
   "outputs": [],
   "source": [
    "mdf2['Sum Yield 12 months %'].values[mdf2['Sum Yield 12 months %'].values > 0.30] = 0.31"
   ]
  },
  {
   "cell_type": "code",
   "execution_count": 41,
   "id": "e0df91f6",
   "metadata": {},
   "outputs": [
    {
     "data": {
      "text/plain": [
       "0.0"
      ]
     },
     "execution_count": 41,
     "metadata": {},
     "output_type": "execute_result"
    }
   ],
   "source": [
    "mdf2['Sum Yield 12 months %'].min()"
   ]
  },
  {
   "cell_type": "code",
   "execution_count": 42,
   "id": "dd2998ef",
   "metadata": {},
   "outputs": [
    {
     "data": {
      "text/plain": [
       "0.31"
      ]
     },
     "execution_count": 42,
     "metadata": {},
     "output_type": "execute_result"
    }
   ],
   "source": [
    "mdf2['Sum Yield 12 months %'].max()"
   ]
  },
  {
   "cell_type": "code",
   "execution_count": 43,
   "id": "c6985f7f",
   "metadata": {},
   "outputs": [
    {
     "data": {
      "text/plain": [
       "<AxesSubplot:xlabel='Sum Yield 12 months %'>"
      ]
     },
     "execution_count": 43,
     "metadata": {},
     "output_type": "execute_result"
    },
    {
     "data": {
      "image/png": "[encoded data removed]",
      "text/plain": [
       "<Figure size 432x288 with 1 Axes>"
      ]
     },
     "metadata": {
      "needs_background": "light"
     },
     "output_type": "display_data"
    }
   ],
   "source": [
    "sns.boxplot(x=mdf2['Sum Yield 12 months %'])"
   ]
  },
  {
   "cell_type": "markdown",
   "id": "919cf95d",
   "metadata": {},
   "source": [
    "# Cash Amount "
   ]
  },
  {
   "cell_type": "code",
   "execution_count": 44,
   "id": "c3533d20",
   "metadata": {},
   "outputs": [
    {
     "name": "stderr",
     "output_type": "stream",
     "text": [
      "C:\\Anaconda\\lib\\site-packages\\seaborn\\distributions.py:2619: FutureWarning: `distplot` is a deprecated function and will be removed in a future version. Please adapt your code to use either `displot` (a figure-level function with similar flexibility) or `histplot` (an axes-level function for histograms).\n",
      "  warnings.warn(msg, FutureWarning)\n"
     ]
    },
    {
     "data": {
      "text/plain": [
       "count    26166.000000\n",
       "mean      1286.435412\n",
       "std       3415.409888\n",
       "min         20.000000\n",
       "25%        120.000000\n",
       "50%        357.000000\n",
       "75%       1015.000000\n",
       "max      89222.000000\n",
       "Name: Sum of Cash Amount 12 months $ From Close Date, dtype: float64"
      ]
     },
     "execution_count": 44,
     "metadata": {},
     "output_type": "execute_result"
    },
    {
     "data": {
      "image/png": "[encoded data removed]",
      "text/plain": [
       "<Figure size 432x288 with 1 Axes>"
      ]
     },
     "metadata": {
      "needs_background": "light"
     },
     "output_type": "display_data"
    }
   ],
   "source": [
    "outlier_analysis('Sum of Cash Amount 12 months $ From Close Date')"
   ]
  },
  {
   "cell_type": "code",
   "execution_count": 45,
   "id": "64e91bc9",
   "metadata": {},
   "outputs": [
    {
     "data": {
      "text/plain": [
       "0.0"
      ]
     },
     "execution_count": 45,
     "metadata": {},
     "output_type": "execute_result"
    }
   ],
   "source": [
    "mdf2['Sum of Cash Amount 12 months $ From Close Date'].min()"
   ]
  },
  {
   "cell_type": "code",
   "execution_count": 46,
   "id": "8c1eecf2",
   "metadata": {},
   "outputs": [
    {
     "data": {
      "text/plain": [
       "89222.0"
      ]
     },
     "execution_count": 46,
     "metadata": {},
     "output_type": "execute_result"
    }
   ],
   "source": [
    "mdf2['Sum of Cash Amount 12 months $ From Close Date'].max()"
   ]
  },
  {
   "cell_type": "code",
   "execution_count": 47,
   "id": "01780e31",
   "metadata": {},
   "outputs": [],
   "source": [
    "mdf2['Sum of Cash Amount 12 months $ From Close Date'].values[mdf2['Sum of Cash Amount 12 months $ From Close Date'].values > 5000] = 5001"
   ]
  },
  {
   "cell_type": "code",
   "execution_count": 48,
   "id": "565d2105",
   "metadata": {},
   "outputs": [
    {
     "data": {
      "text/plain": [
       "0.0"
      ]
     },
     "execution_count": 48,
     "metadata": {},
     "output_type": "execute_result"
    }
   ],
   "source": [
    "mdf2['Sum of Cash Amount 12 months $ From Close Date'].min()"
   ]
  },
  {
   "cell_type": "code",
   "execution_count": 49,
   "id": "4af480cd",
   "metadata": {},
   "outputs": [
    {
     "data": {
      "text/plain": [
       "5001.0"
      ]
     },
     "execution_count": 49,
     "metadata": {},
     "output_type": "execute_result"
    }
   ],
   "source": [
    "mdf2['Sum of Cash Amount 12 months $ From Close Date'].max()"
   ]
  },
  {
   "cell_type": "code",
   "execution_count": 50,
   "id": "40f05d59",
   "metadata": {},
   "outputs": [
    {
     "data": {
      "text/plain": [
       "<AxesSubplot:xlabel='Sum of Cash Amount 12 months $ From Close Date'>"
      ]
     },
     "execution_count": 50,
     "metadata": {},
     "output_type": "execute_result"
    },
    {
     "data": {
      "image/png": "[encoded data removed]",
      "text/plain": [
       "<Figure size 432x288 with 1 Axes>"
      ]
     },
     "metadata": {
      "needs_background": "light"
     },
     "output_type": "display_data"
    }
   ],
   "source": [
    "sns.boxplot(x=mdf2['Sum of Cash Amount 12 months $ From Close Date'])"
   ]
  },
  {
   "cell_type": "markdown",
   "id": "84830c73",
   "metadata": {},
   "source": [
    "# Balance Amount"
   ]
  },
  {
   "cell_type": "code",
   "execution_count": 51,
   "id": "3d4016b4",
   "metadata": {},
   "outputs": [
    {
     "name": "stderr",
     "output_type": "stream",
     "text": [
      "C:\\Anaconda\\lib\\site-packages\\seaborn\\distributions.py:2619: FutureWarning: `distplot` is a deprecated function and will be removed in a future version. Please adapt your code to use either `displot` (a figure-level function with similar flexibility) or `histplot` (an axes-level function for histograms).\n",
      "  warnings.warn(msg, FutureWarning)\n"
     ]
    },
    {
     "data": {
      "text/plain": [
       "count     34093.000000\n",
       "mean       6854.201302\n",
       "std        3974.751188\n",
       "min      -35408.000000\n",
       "25%        4382.000000\n",
       "50%        5731.000000\n",
       "75%        8112.000000\n",
       "max      132148.000000\n",
       "Name: Avg Bal Amt 12 mnths $, dtype: float64"
      ]
     },
     "execution_count": 51,
     "metadata": {},
     "output_type": "execute_result"
    },
    {
     "data": {
      "image/png": "[encoded data removed]",
      "text/plain": [
       "<Figure size 432x288 with 1 Axes>"
      ]
     },
     "metadata": {
      "needs_background": "light"
     },
     "output_type": "display_data"
    }
   ],
   "source": [
    "outlier_analysis('Avg Bal Amt 12 mnths $')"
   ]
  },
  {
   "cell_type": "code",
   "execution_count": 52,
   "id": "5ac76610",
   "metadata": {},
   "outputs": [
    {
     "data": {
      "text/plain": [
       "<AxesSubplot:xlabel='Avg Bal Amt 12 mnths $'>"
      ]
     },
     "execution_count": 52,
     "metadata": {},
     "output_type": "execute_result"
    },
    {
     "data": {
      "image/png": "[encoded data removed]",
      "text/plain": [
       "<Figure size 432x288 with 1 Axes>"
      ]
     },
     "metadata": {
      "needs_background": "light"
     },
     "output_type": "display_data"
    }
   ],
   "source": [
    "sns.boxplot(x=mdf2['Avg Bal Amt 12 mnths $'])"
   ]
  },
  {
   "cell_type": "code",
   "execution_count": 53,
   "id": "ffe51281",
   "metadata": {},
   "outputs": [
    {
     "data": {
      "text/plain": [
       "-35408.0"
      ]
     },
     "execution_count": 53,
     "metadata": {},
     "output_type": "execute_result"
    }
   ],
   "source": [
    "mdf2['Avg Bal Amt 12 mnths $'].min()"
   ]
  },
  {
   "cell_type": "code",
   "execution_count": 54,
   "id": "4ba7dde2",
   "metadata": {},
   "outputs": [
    {
     "data": {
      "text/plain": [
       "132148.0"
      ]
     },
     "execution_count": 54,
     "metadata": {},
     "output_type": "execute_result"
    }
   ],
   "source": [
    "mdf2['Avg Bal Amt 12 mnths $'].max()"
   ]
  },
  {
   "cell_type": "code",
   "execution_count": 55,
   "id": "feb446cc",
   "metadata": {},
   "outputs": [],
   "source": [
    "mdf2['Avg Bal Amt 12 mnths $'].values[mdf2['Avg Bal Amt 12 mnths $'].values <= 0] = 0"
   ]
  },
  {
   "cell_type": "code",
   "execution_count": 56,
   "id": "bd77a9c1",
   "metadata": {},
   "outputs": [],
   "source": [
    "mdf2['Avg Bal Amt 12 mnths $'].values[mdf2['Avg Bal Amt 12 mnths $'].values > 10000] = 10001"
   ]
  },
  {
   "cell_type": "code",
   "execution_count": 57,
   "id": "4d5f955f",
   "metadata": {},
   "outputs": [
    {
     "data": {
      "text/plain": [
       "0.0"
      ]
     },
     "execution_count": 57,
     "metadata": {},
     "output_type": "execute_result"
    }
   ],
   "source": [
    "mdf2['Avg Bal Amt 12 mnths $'].min()"
   ]
  },
  {
   "cell_type": "code",
   "execution_count": 58,
   "id": "751cbd3c",
   "metadata": {},
   "outputs": [
    {
     "data": {
      "text/plain": [
       "10001.0"
      ]
     },
     "execution_count": 58,
     "metadata": {},
     "output_type": "execute_result"
    }
   ],
   "source": [
    "mdf2['Avg Bal Amt 12 mnths $'].max()"
   ]
  },
  {
   "cell_type": "markdown",
   "id": "8ecb6fdd",
   "metadata": {},
   "source": [
    "# Sum Sale Amount 12 months $"
   ]
  },
  {
   "cell_type": "code",
   "execution_count": 59,
   "id": "69fcfc8a",
   "metadata": {},
   "outputs": [
    {
     "name": "stderr",
     "output_type": "stream",
     "text": [
      "C:\\Anaconda\\lib\\site-packages\\seaborn\\distributions.py:2619: FutureWarning: `distplot` is a deprecated function and will be removed in a future version. Please adapt your code to use either `displot` (a figure-level function with similar flexibility) or `histplot` (an axes-level function for histograms).\n",
      "  warnings.warn(msg, FutureWarning)\n"
     ]
    },
    {
     "data": {
      "text/plain": [
       "count    2.841400e+04\n",
       "mean     5.309876e+04\n",
       "std      6.668124e+04\n",
       "min      2.391300e+04\n",
       "25%      2.900800e+04\n",
       "50%      3.724500e+04\n",
       "75%      5.390875e+04\n",
       "max      2.697522e+06\n",
       "Name: Sum Sale Amount 12 months $, dtype: float64"
      ]
     },
     "execution_count": 59,
     "metadata": {},
     "output_type": "execute_result"
    },
    {
     "data": {
      "image/png": "[encoded data removed]",
      "text/plain": [
       "<Figure size 432x288 with 1 Axes>"
      ]
     },
     "metadata": {
      "needs_background": "light"
     },
     "output_type": "display_data"
    }
   ],
   "source": [
    "outlier_analysis('Sum Sale Amount 12 months $')"
   ]
  },
  {
   "cell_type": "code",
   "execution_count": 60,
   "id": "555ab616",
   "metadata": {},
   "outputs": [
    {
     "data": {
      "text/plain": [
       "<AxesSubplot:xlabel='Sum Sale Amount 12 months $'>"
      ]
     },
     "execution_count": 60,
     "metadata": {},
     "output_type": "execute_result"
    },
    {
     "data": {
      "image/png": "[encoded data removed]",
      "text/plain": [
       "<Figure size 432x288 with 1 Axes>"
      ]
     },
     "metadata": {
      "needs_background": "light"
     },
     "output_type": "display_data"
    }
   ],
   "source": [
    "sns.boxplot(x=mdf2['Sum Sale Amount 12 months $'])"
   ]
  },
  {
   "cell_type": "code",
   "execution_count": 61,
   "id": "c2f131c7",
   "metadata": {},
   "outputs": [
    {
     "data": {
      "text/plain": [
       "0.0"
      ]
     },
     "execution_count": 61,
     "metadata": {},
     "output_type": "execute_result"
    }
   ],
   "source": [
    " mdf2['Sum Sale Amount 12 months $'].min()"
   ]
  },
  {
   "cell_type": "code",
   "execution_count": 62,
   "id": "04f2a700",
   "metadata": {},
   "outputs": [
    {
     "data": {
      "text/plain": [
       "2697522.0"
      ]
     },
     "execution_count": 62,
     "metadata": {},
     "output_type": "execute_result"
    }
   ],
   "source": [
    " mdf2['Sum Sale Amount 12 months $'].max()"
   ]
  },
  {
   "cell_type": "code",
   "execution_count": 63,
   "id": "dc904080",
   "metadata": {},
   "outputs": [],
   "source": [
    "mdf2['Sum Sale Amount 12 months $'].values[mdf2['Sum Sale Amount 12 months $'].values > 50000] = 50001"
   ]
  },
  {
   "cell_type": "code",
   "execution_count": 64,
   "id": "2b1197cd",
   "metadata": {},
   "outputs": [
    {
     "data": {
      "text/plain": [
       "0.0"
      ]
     },
     "execution_count": 64,
     "metadata": {},
     "output_type": "execute_result"
    }
   ],
   "source": [
    " mdf2['Sum Sale Amount 12 months $'].min()"
   ]
  },
  {
   "cell_type": "code",
   "execution_count": 65,
   "id": "2d7849dd",
   "metadata": {},
   "outputs": [
    {
     "data": {
      "text/plain": [
       "50001.0"
      ]
     },
     "execution_count": 65,
     "metadata": {},
     "output_type": "execute_result"
    }
   ],
   "source": [
    " mdf2['Sum Sale Amount 12 months $'].max()"
   ]
  },
  {
   "cell_type": "markdown",
   "id": "66097596",
   "metadata": {},
   "source": [
    "# Sum of Sale Count 12 months # From Close Date"
   ]
  },
  {
   "cell_type": "code",
   "execution_count": 66,
   "id": "905c4128",
   "metadata": {},
   "outputs": [
    {
     "name": "stderr",
     "output_type": "stream",
     "text": [
      "C:\\Anaconda\\lib\\site-packages\\seaborn\\distributions.py:2619: FutureWarning: `distplot` is a deprecated function and will be removed in a future version. Please adapt your code to use either `displot` (a figure-level function with similar flexibility) or `histplot` (an axes-level function for histograms).\n",
      "  warnings.warn(msg, FutureWarning)\n"
     ]
    },
    {
     "data": {
      "text/plain": [
       "count    23996.00000\n",
       "mean       526.15040\n",
       "std        200.46064\n",
       "min        331.00000\n",
       "25%        385.00000\n",
       "50%        464.00000\n",
       "75%        600.00000\n",
       "max       2846.00000\n",
       "Name: Sum of Sale Count 12 months # From Close Date, dtype: float64"
      ]
     },
     "execution_count": 66,
     "metadata": {},
     "output_type": "execute_result"
    },
    {
     "data": {
      "image/png": "[encoded data removed]",
      "text/plain": [
       "<Figure size 432x288 with 1 Axes>"
      ]
     },
     "metadata": {
      "needs_background": "light"
     },
     "output_type": "display_data"
    }
   ],
   "source": [
    "outlier_analysis('Sum of Sale Count 12 months # From Close Date')"
   ]
  },
  {
   "cell_type": "code",
   "execution_count": 67,
   "id": "421e1fe2",
   "metadata": {},
   "outputs": [
    {
     "data": {
      "text/plain": [
       "<AxesSubplot:xlabel='Sum of Sale Count 12 months # From Close Date'>"
      ]
     },
     "execution_count": 67,
     "metadata": {},
     "output_type": "execute_result"
    },
    {
     "data": {
      "image/png": "[encoded data removed]",
      "text/plain": [
       "<Figure size 432x288 with 1 Axes>"
      ]
     },
     "metadata": {
      "needs_background": "light"
     },
     "output_type": "display_data"
    }
   ],
   "source": [
    "sns.boxplot(x=mdf2['Sum of Sale Count 12 months # From Close Date'])"
   ]
  },
  {
   "cell_type": "code",
   "execution_count": 68,
   "id": "0e38e05f",
   "metadata": {},
   "outputs": [
    {
     "data": {
      "text/plain": [
       "0.0"
      ]
     },
     "execution_count": 68,
     "metadata": {},
     "output_type": "execute_result"
    }
   ],
   "source": [
    " mdf2['Sum of Sale Count 12 months # From Close Date'].min()"
   ]
  },
  {
   "cell_type": "code",
   "execution_count": 69,
   "id": "95b3d31b",
   "metadata": {},
   "outputs": [
    {
     "data": {
      "text/plain": [
       "2846.0"
      ]
     },
     "execution_count": 69,
     "metadata": {},
     "output_type": "execute_result"
    }
   ],
   "source": [
    " mdf2['Sum of Sale Count 12 months # From Close Date'].max()"
   ]
  },
  {
   "cell_type": "code",
   "execution_count": 70,
   "id": "18e63f05",
   "metadata": {},
   "outputs": [],
   "source": [
    "mdf2['Sum of Sale Count 12 months # From Close Date'].values[mdf2['Sum of Sale Count 12 months # From Close Date'].values > 686] = 686"
   ]
  },
  {
   "cell_type": "code",
   "execution_count": 71,
   "id": "bcedb53b",
   "metadata": {},
   "outputs": [
    {
     "data": {
      "text/plain": [
       "0.0"
      ]
     },
     "execution_count": 71,
     "metadata": {},
     "output_type": "execute_result"
    }
   ],
   "source": [
    " mdf2['Sum of Sale Count 12 months # From Close Date'].min()"
   ]
  },
  {
   "cell_type": "code",
   "execution_count": 72,
   "id": "b3b40617",
   "metadata": {},
   "outputs": [
    {
     "data": {
      "text/plain": [
       "686.0"
      ]
     },
     "execution_count": 72,
     "metadata": {},
     "output_type": "execute_result"
    }
   ],
   "source": [
    " mdf2['Sum of Sale Count 12 months # From Close Date'].max()"
   ]
  },
  {
   "cell_type": "markdown",
   "id": "f52090a7",
   "metadata": {},
   "source": [
    "# Months Active during 12 months # From Close Date"
   ]
  },
  {
   "cell_type": "markdown",
   "id": "bca6c63d",
   "metadata": {},
   "source": [
    "outlier_analysis('BEACON_Score')"
   ]
  },
  {
   "cell_type": "markdown",
   "id": "1d723114",
   "metadata": {},
   "source": [
    "sns.boxplot(x=mdf2['BEACON_Score'])"
   ]
  },
  {
   "cell_type": "markdown",
   "id": "d4f19c82",
   "metadata": {},
   "source": [
    "  mdf2['BEACON_Score'].min()"
   ]
  },
  {
   "cell_type": "markdown",
   "id": "942c0daf",
   "metadata": {},
   "source": [
    "  mdf2['BEACON_Score'].max()"
   ]
  },
  {
   "cell_type": "markdown",
   "id": "7ac21478",
   "metadata": {},
   "source": [
    "# Zero Beacon Score for 21264 account id "
   ]
  },
  {
   "cell_type": "markdown",
   "id": "f8d9607c",
   "metadata": {},
   "source": [
    "j= mdf2['BEACON_Score']\n",
    "len([1 for i in j if i == 0])"
   ]
  },
  {
   "cell_type": "markdown",
   "id": "76f2e016",
   "metadata": {},
   "source": [
    "# account_age"
   ]
  },
  {
   "cell_type": "code",
   "execution_count": 73,
   "id": "b8ef6ab9",
   "metadata": {},
   "outputs": [
    {
     "name": "stderr",
     "output_type": "stream",
     "text": [
      "C:\\Anaconda\\lib\\site-packages\\seaborn\\distributions.py:2619: FutureWarning: `distplot` is a deprecated function and will be removed in a future version. Please adapt your code to use either `displot` (a figure-level function with similar flexibility) or `histplot` (an axes-level function for histograms).\n",
      "  warnings.warn(msg, FutureWarning)\n"
     ]
    },
    {
     "data": {
      "text/plain": [
       "count    166.000000\n",
       "mean       3.343373\n",
       "std        0.569038\n",
       "min        2.000000\n",
       "25%        3.000000\n",
       "50%        3.000000\n",
       "75%        4.000000\n",
       "max        4.000000\n",
       "Name: account_age, dtype: float64"
      ]
     },
     "execution_count": 73,
     "metadata": {},
     "output_type": "execute_result"
    },
    {
     "data": {
      "image/png": "[encoded data removed]",
      "text/plain": [
       "<Figure size 432x288 with 1 Axes>"
      ]
     },
     "metadata": {
      "needs_background": "light"
     },
     "output_type": "display_data"
    }
   ],
   "source": [
    "outlier_analysis('account_age')"
   ]
  },
  {
   "cell_type": "code",
   "execution_count": 74,
   "id": "d37ce055",
   "metadata": {},
   "outputs": [
    {
     "data": {
      "text/plain": [
       "<AxesSubplot:xlabel='account_age'>"
      ]
     },
     "execution_count": 74,
     "metadata": {},
     "output_type": "execute_result"
    },
    {
     "data": {
      "image/png": "[encoded data removed]",
      "text/plain": [
       "<Figure size 432x288 with 1 Axes>"
      ]
     },
     "metadata": {
      "needs_background": "light"
     },
     "output_type": "display_data"
    }
   ],
   "source": [
    "sns.boxplot(x=mdf2['account_age'])"
   ]
  },
  {
   "cell_type": "code",
   "execution_count": 75,
   "id": "58ec2dbe",
   "metadata": {},
   "outputs": [
    {
     "data": {
      "text/plain": [
       "2"
      ]
     },
     "execution_count": 75,
     "metadata": {},
     "output_type": "execute_result"
    }
   ],
   "source": [
    " mdf2['account_age'].min()"
   ]
  },
  {
   "cell_type": "code",
   "execution_count": 76,
   "id": "8ce6ceb9",
   "metadata": {},
   "outputs": [
    {
     "data": {
      "text/plain": [
       "47"
      ]
     },
     "execution_count": 76,
     "metadata": {},
     "output_type": "execute_result"
    }
   ],
   "source": [
    " mdf2['account_age'].max()"
   ]
  },
  {
   "cell_type": "markdown",
   "id": "aac0e12d",
   "metadata": {},
   "source": [
    "# Close Reason"
   ]
  },
  {
   "cell_type": "code",
   "execution_count": 77,
   "id": "e271489c",
   "metadata": {},
   "outputs": [
    {
     "data": {
      "text/plain": [
       "0    281066\n",
       "1     30143\n",
       "Name: Permanent Close Reason Name, dtype: int64"
      ]
     },
     "execution_count": 77,
     "metadata": {},
     "output_type": "execute_result"
    }
   ],
   "source": [
    "Close_Reason = mdf2['Permanent Close Reason Name'].value_counts()\n",
    "Close_Reason "
   ]
  },
  {
   "cell_type": "markdown",
   "id": "ffef9ec0",
   "metadata": {},
   "source": [
    "# Understanding Data"
   ]
  },
  {
   "cell_type": "code",
   "execution_count": 78,
   "id": "aec7032b",
   "metadata": {},
   "outputs": [
    {
     "data": {
      "text/html": [
       "<div>\n",
       "<style scoped>\n",
       "    .dataframe tbody tr th:only-of-type {\n",
       "        vertical-align: middle;\n",
       "    }\n",
       "\n",
       "    .dataframe tbody tr th {\n",
       "        vertical-align: top;\n",
       "    }\n",
       "\n",
       "    .dataframe thead th {\n",
       "        text-align: right;\n",
       "    }\n",
       "</style>\n",
       "<table border=\"1\" class=\"dataframe\">\n",
       "  <thead>\n",
       "    <tr style=\"text-align: right;\">\n",
       "      <th></th>\n",
       "      <th>count</th>\n",
       "      <th>unique</th>\n",
       "      <th>top</th>\n",
       "      <th>freq</th>\n",
       "    </tr>\n",
       "  </thead>\n",
       "  <tbody>\n",
       "    <tr>\n",
       "      <th>Permanent Close Reason Name</th>\n",
       "      <td>311209.0</td>\n",
       "      <td>2.0</td>\n",
       "      <td>0.0</td>\n",
       "      <td>281066.0</td>\n",
       "    </tr>\n",
       "    <tr>\n",
       "      <th>Product Name</th>\n",
       "      <td>311209.0</td>\n",
       "      <td>7.0</td>\n",
       "      <td>2.0</td>\n",
       "      <td>184772.0</td>\n",
       "    </tr>\n",
       "    <tr>\n",
       "      <th>account_age</th>\n",
       "      <td>311209.0</td>\n",
       "      <td>39.0</td>\n",
       "      <td>47.0</td>\n",
       "      <td>148645.0</td>\n",
       "    </tr>\n",
       "    <tr>\n",
       "      <th>Sum Yield 12 months %</th>\n",
       "      <td>311209.0</td>\n",
       "      <td>32.0</td>\n",
       "      <td>0.0</td>\n",
       "      <td>152341.0</td>\n",
       "    </tr>\n",
       "    <tr>\n",
       "      <th>Sum of Cash Amount 12 months $ From Close Date</th>\n",
       "      <td>311209.0</td>\n",
       "      <td>3112.0</td>\n",
       "      <td>0.0</td>\n",
       "      <td>285043.0</td>\n",
       "    </tr>\n",
       "    <tr>\n",
       "      <th>Avg Bal Amt 12 mnths $</th>\n",
       "      <td>311209.0</td>\n",
       "      <td>9579.0</td>\n",
       "      <td>0.0</td>\n",
       "      <td>43897.0</td>\n",
       "    </tr>\n",
       "    <tr>\n",
       "      <th>Months Active during 12 months # From Close Date</th>\n",
       "      <td>311209.0</td>\n",
       "      <td>15.0</td>\n",
       "      <td>12.0</td>\n",
       "      <td>185778.0</td>\n",
       "    </tr>\n",
       "    <tr>\n",
       "      <th>Sum Sale Amount 12 months $</th>\n",
       "      <td>311209.0</td>\n",
       "      <td>36321.0</td>\n",
       "      <td>0.0</td>\n",
       "      <td>43718.0</td>\n",
       "    </tr>\n",
       "    <tr>\n",
       "      <th>Sum of Sale Count 12 months # From Close Date</th>\n",
       "      <td>311209.0</td>\n",
       "      <td>687.0</td>\n",
       "      <td>0.0</td>\n",
       "      <td>33992.0</td>\n",
       "    </tr>\n",
       "  </tbody>\n",
       "</table>\n",
       "</div>"
      ],
      "text/plain": [
       "                                                     count   unique   top  \\\n",
       "Permanent Close Reason Name                       311209.0      2.0   0.0   \n",
       "Product Name                                      311209.0      7.0   2.0   \n",
       "account_age                                       311209.0     39.0  47.0   \n",
       "Sum Yield 12 months %                             311209.0     32.0   0.0   \n",
       "Sum of Cash Amount 12 months $ From Close Date    311209.0   3112.0   0.0   \n",
       "Avg Bal Amt 12 mnths $                            311209.0   9579.0   0.0   \n",
       "Months Active during 12 months # From Close Date  311209.0     15.0  12.0   \n",
       "Sum Sale Amount 12 months $                       311209.0  36321.0   0.0   \n",
       "Sum of Sale Count 12 months # From Close Date     311209.0    687.0   0.0   \n",
       "\n",
       "                                                      freq  \n",
       "Permanent Close Reason Name                       281066.0  \n",
       "Product Name                                      184772.0  \n",
       "account_age                                       148645.0  \n",
       "Sum Yield 12 months %                             152341.0  \n",
       "Sum of Cash Amount 12 months $ From Close Date    285043.0  \n",
       "Avg Bal Amt 12 mnths $                             43897.0  \n",
       "Months Active during 12 months # From Close Date  185778.0  \n",
       "Sum Sale Amount 12 months $                        43718.0  \n",
       "Sum of Sale Count 12 months # From Close Date      33992.0  "
      ]
     },
     "execution_count": 78,
     "metadata": {},
     "output_type": "execute_result"
    }
   ],
   "source": [
    "mdf2.astype('object').describe().transpose()"
   ]
  },
  {
   "cell_type": "code",
   "execution_count": 79,
   "id": "f63b7435",
   "metadata": {},
   "outputs": [
    {
     "data": {
      "text/plain": [
       "Permanent Close Reason Name                           int64\n",
       "Product Name                                          int64\n",
       "account_age                                           int64\n",
       "Sum Yield 12 months %                               float64\n",
       "Sum of Cash Amount 12 months $ From Close Date      float64\n",
       "Avg Bal Amt 12 mnths $                              float64\n",
       "Months Active during 12 months # From Close Date    float64\n",
       "Sum Sale Amount 12 months $                         float64\n",
       "Sum of Sale Count 12 months # From Close Date       float64\n",
       "dtype: object"
      ]
     },
     "execution_count": 79,
     "metadata": {},
     "output_type": "execute_result"
    }
   ],
   "source": [
    "mdf2.dtypes  "
   ]
  },
  {
   "cell_type": "code",
   "execution_count": 80,
   "id": "3f872b1e",
   "metadata": {},
   "outputs": [
    {
     "data": {
      "text/html": [
       "<div>\n",
       "<style scoped>\n",
       "    .dataframe tbody tr th:only-of-type {\n",
       "        vertical-align: middle;\n",
       "    }\n",
       "\n",
       "    .dataframe tbody tr th {\n",
       "        vertical-align: top;\n",
       "    }\n",
       "\n",
       "    .dataframe thead th {\n",
       "        text-align: right;\n",
       "    }\n",
       "</style>\n",
       "<table border=\"1\" class=\"dataframe\">\n",
       "  <thead>\n",
       "    <tr style=\"text-align: right;\">\n",
       "      <th></th>\n",
       "      <th>Permanent Close Reason Name</th>\n",
       "      <th>Product Name</th>\n",
       "      <th>account_age</th>\n",
       "      <th>Sum Yield 12 months %</th>\n",
       "      <th>Sum of Cash Amount 12 months $ From Close Date</th>\n",
       "      <th>Avg Bal Amt 12 mnths $</th>\n",
       "      <th>Months Active during 12 months # From Close Date</th>\n",
       "      <th>Sum Sale Amount 12 months $</th>\n",
       "      <th>Sum of Sale Count 12 months # From Close Date</th>\n",
       "    </tr>\n",
       "  </thead>\n",
       "  <tbody>\n",
       "    <tr>\n",
       "      <th>0</th>\n",
       "      <td>0</td>\n",
       "      <td>0</td>\n",
       "      <td>47</td>\n",
       "      <td>0.12</td>\n",
       "      <td>1440.0</td>\n",
       "      <td>5167.0</td>\n",
       "      <td>12.0</td>\n",
       "      <td>3078.0</td>\n",
       "      <td>69.0</td>\n",
       "    </tr>\n",
       "    <tr>\n",
       "      <th>1</th>\n",
       "      <td>0</td>\n",
       "      <td>1</td>\n",
       "      <td>47</td>\n",
       "      <td>0.00</td>\n",
       "      <td>0.0</td>\n",
       "      <td>2523.0</td>\n",
       "      <td>12.0</td>\n",
       "      <td>34704.0</td>\n",
       "      <td>325.0</td>\n",
       "    </tr>\n",
       "    <tr>\n",
       "      <th>2</th>\n",
       "      <td>0</td>\n",
       "      <td>2</td>\n",
       "      <td>42</td>\n",
       "      <td>0.13</td>\n",
       "      <td>0.0</td>\n",
       "      <td>843.0</td>\n",
       "      <td>5.0</td>\n",
       "      <td>5558.0</td>\n",
       "      <td>6.0</td>\n",
       "    </tr>\n",
       "    <tr>\n",
       "      <th>3</th>\n",
       "      <td>0</td>\n",
       "      <td>2</td>\n",
       "      <td>47</td>\n",
       "      <td>0.20</td>\n",
       "      <td>0.0</td>\n",
       "      <td>2933.0</td>\n",
       "      <td>12.0</td>\n",
       "      <td>69.0</td>\n",
       "      <td>1.0</td>\n",
       "    </tr>\n",
       "    <tr>\n",
       "      <th>4</th>\n",
       "      <td>0</td>\n",
       "      <td>3</td>\n",
       "      <td>47</td>\n",
       "      <td>0.01</td>\n",
       "      <td>84.0</td>\n",
       "      <td>186.0</td>\n",
       "      <td>12.0</td>\n",
       "      <td>6203.0</td>\n",
       "      <td>300.0</td>\n",
       "    </tr>\n",
       "  </tbody>\n",
       "</table>\n",
       "</div>"
      ],
      "text/plain": [
       "   Permanent Close Reason Name  Product Name  account_age  \\\n",
       "0                            0             0           47   \n",
       "1                            0             1           47   \n",
       "2                            0             2           42   \n",
       "3                            0             2           47   \n",
       "4                            0             3           47   \n",
       "\n",
       "   Sum Yield 12 months %  Sum of Cash Amount 12 months $ From Close Date  \\\n",
       "0                   0.12                                          1440.0   \n",
       "1                   0.00                                             0.0   \n",
       "2                   0.13                                             0.0   \n",
       "3                   0.20                                             0.0   \n",
       "4                   0.01                                            84.0   \n",
       "\n",
       "   Avg Bal Amt 12 mnths $  Months Active during 12 months # From Close Date  \\\n",
       "0                  5167.0                                              12.0   \n",
       "1                  2523.0                                              12.0   \n",
       "2                   843.0                                               5.0   \n",
       "3                  2933.0                                              12.0   \n",
       "4                   186.0                                              12.0   \n",
       "\n",
       "   Sum Sale Amount 12 months $  Sum of Sale Count 12 months # From Close Date  \n",
       "0                       3078.0                                           69.0  \n",
       "1                      34704.0                                          325.0  \n",
       "2                       5558.0                                            6.0  \n",
       "3                         69.0                                            1.0  \n",
       "4                       6203.0                                          300.0  "
      ]
     },
     "execution_count": 80,
     "metadata": {},
     "output_type": "execute_result"
    }
   ],
   "source": [
    "mdf2.head()"
   ]
  },
  {
   "cell_type": "code",
   "execution_count": 81,
   "id": "98c47f31",
   "metadata": {},
   "outputs": [
    {
     "name": "stderr",
     "output_type": "stream",
     "text": [
      "C:\\Anaconda\\lib\\site-packages\\seaborn\\distributions.py:2619: FutureWarning: `distplot` is a deprecated function and will be removed in a future version. Please adapt your code to use either `displot` (a figure-level function with similar flexibility) or `histplot` (an axes-level function for histograms).\n",
      "  warnings.warn(msg, FutureWarning)\n",
      "C:\\Anaconda\\lib\\site-packages\\seaborn\\distributions.py:2619: FutureWarning: `distplot` is a deprecated function and will be removed in a future version. Please adapt your code to use either `displot` (a figure-level function with similar flexibility) or `histplot` (an axes-level function for histograms).\n",
      "  warnings.warn(msg, FutureWarning)\n",
      "C:\\Anaconda\\lib\\site-packages\\seaborn\\distributions.py:2619: FutureWarning: `distplot` is a deprecated function and will be removed in a future version. Please adapt your code to use either `displot` (a figure-level function with similar flexibility) or `histplot` (an axes-level function for histograms).\n",
      "  warnings.warn(msg, FutureWarning)\n",
      "C:\\Anaconda\\lib\\site-packages\\seaborn\\distributions.py:2619: FutureWarning: `distplot` is a deprecated function and will be removed in a future version. Please adapt your code to use either `displot` (a figure-level function with similar flexibility) or `histplot` (an axes-level function for histograms).\n",
      "  warnings.warn(msg, FutureWarning)\n",
      "C:\\Anaconda\\lib\\site-packages\\seaborn\\distributions.py:2619: FutureWarning: `distplot` is a deprecated function and will be removed in a future version. Please adapt your code to use either `displot` (a figure-level function with similar flexibility) or `histplot` (an axes-level function for histograms).\n",
      "  warnings.warn(msg, FutureWarning)\n",
      "C:\\Anaconda\\lib\\site-packages\\seaborn\\distributions.py:2619: FutureWarning: `distplot` is a deprecated function and will be removed in a future version. Please adapt your code to use either `displot` (a figure-level function with similar flexibility) or `histplot` (an axes-level function for histograms).\n",
      "  warnings.warn(msg, FutureWarning)\n",
      "C:\\Anaconda\\lib\\site-packages\\seaborn\\distributions.py:2619: FutureWarning: `distplot` is a deprecated function and will be removed in a future version. Please adapt your code to use either `displot` (a figure-level function with similar flexibility) or `histplot` (an axes-level function for histograms).\n",
      "  warnings.warn(msg, FutureWarning)\n",
      "C:\\Anaconda\\lib\\site-packages\\seaborn\\distributions.py:2619: FutureWarning: `distplot` is a deprecated function and will be removed in a future version. Please adapt your code to use either `displot` (a figure-level function with similar flexibility) or `histplot` (an axes-level function for histograms).\n",
      "  warnings.warn(msg, FutureWarning)\n",
      "C:\\Anaconda\\lib\\site-packages\\seaborn\\distributions.py:2619: FutureWarning: `distplot` is a deprecated function and will be removed in a future version. Please adapt your code to use either `displot` (a figure-level function with similar flexibility) or `histplot` (an axes-level function for histograms).\n",
      "  warnings.warn(msg, FutureWarning)\n"
     ]
    },
    {
     "data": {
      "image/png": "[encoded data removed]",
      "text/plain": [
       "<Figure size 1080x1296 with 9 Axes>"
      ]
     },
     "metadata": {
      "needs_background": "light"
     },
     "output_type": "display_data"
    }
   ],
   "source": [
    "from scipy.stats import norm \n",
    "\n",
    "graph_by_variables = ['Months Active during 12 months # From Close Date','Permanent Close Reason Name','Product Name','account_age','Sum Yield 12 months %','Sum of Cash Amount 12 months $ From Close Date','Avg Bal Amt 12 mnths $','Sum Sale Amount 12 months $','Sum of Sale Count 12 months # From Close Date']\n",
    "plt.figure(figsize=(15,18))\n",
    "\n",
    "for i in range(0,9):\n",
    "    plt.subplot(6,3,i+1)\n",
    "    sns.distplot(mdf2[graph_by_variables[i]].dropna(),fit=norm)\n",
    "    plt.title(graph_by_variables[i])\n",
    "\n",
    "plt.tight_layout()"
   ]
  },
  {
   "cell_type": "code",
   "execution_count": 82,
   "id": "1d532317",
   "metadata": {},
   "outputs": [
    {
     "data": {
      "image/png": "[encoded data removed]",
      "text/plain": [
       "<Figure size 720x576 with 9 Axes>"
      ]
     },
     "metadata": {
      "needs_background": "light"
     },
     "output_type": "display_data"
    }
   ],
   "source": [
    "mdf2[['Months Active during 12 months # From Close Date','Permanent Close Reason Name','Product Name','account_age','Sum Yield 12 months %','Sum of Cash Amount 12 months $ From Close Date','Avg Bal Amt 12 mnths $','Sum Sale Amount 12 months $','Sum of Sale Count 12 months # From Close Date']].hist(figsize=(10,8))\n",
    "plt.tight_layout()"
   ]
  },
  {
   "cell_type": "code",
   "execution_count": 83,
   "id": "a87c6869",
   "metadata": {},
   "outputs": [],
   "source": [
    "#Perform One Hot Encoding using get_dummies method\n",
    "mdf2 = pd.get_dummies(mdf2, columns = ['Product Name','account_age','Months Active during 12 months # From Close Date'],\n",
    "                              drop_first=True)\n"
   ]
  },
  {
   "cell_type": "code",
   "execution_count": 84,
   "id": "cd1c4c28",
   "metadata": {},
   "outputs": [
    {
     "data": {
      "text/html": [
       "<div>\n",
       "<style scoped>\n",
       "    .dataframe tbody tr th:only-of-type {\n",
       "        vertical-align: middle;\n",
       "    }\n",
       "\n",
       "    .dataframe tbody tr th {\n",
       "        vertical-align: top;\n",
       "    }\n",
       "\n",
       "    .dataframe thead th {\n",
       "        text-align: right;\n",
       "    }\n",
       "</style>\n",
       "<table border=\"1\" class=\"dataframe\">\n",
       "  <thead>\n",
       "    <tr style=\"text-align: right;\">\n",
       "      <th></th>\n",
       "      <th>Permanent Close Reason Name</th>\n",
       "      <th>Sum Yield 12 months %</th>\n",
       "      <th>Sum of Cash Amount 12 months $ From Close Date</th>\n",
       "      <th>Avg Bal Amt 12 mnths $</th>\n",
       "      <th>Sum Sale Amount 12 months $</th>\n",
       "      <th>Sum of Sale Count 12 months # From Close Date</th>\n",
       "      <th>Product Name_1</th>\n",
       "      <th>Product Name_2</th>\n",
       "      <th>Product Name_3</th>\n",
       "      <th>Product Name_4</th>\n",
       "      <th>...</th>\n",
       "      <th>Months Active during 12 months # From Close Date_5.0</th>\n",
       "      <th>Months Active during 12 months # From Close Date_6.0</th>\n",
       "      <th>Months Active during 12 months # From Close Date_7.0</th>\n",
       "      <th>Months Active during 12 months # From Close Date_8.0</th>\n",
       "      <th>Months Active during 12 months # From Close Date_9.0</th>\n",
       "      <th>Months Active during 12 months # From Close Date_10.0</th>\n",
       "      <th>Months Active during 12 months # From Close Date_11.0</th>\n",
       "      <th>Months Active during 12 months # From Close Date_12.0</th>\n",
       "      <th>Months Active during 12 months # From Close Date_13.0</th>\n",
       "      <th>Months Active during 12 months # From Close Date_15.0</th>\n",
       "    </tr>\n",
       "  </thead>\n",
       "  <tbody>\n",
       "    <tr>\n",
       "      <th>0</th>\n",
       "      <td>0</td>\n",
       "      <td>0.12</td>\n",
       "      <td>1440.0</td>\n",
       "      <td>5167.0</td>\n",
       "      <td>3078.0</td>\n",
       "      <td>69.0</td>\n",
       "      <td>0</td>\n",
       "      <td>0</td>\n",
       "      <td>0</td>\n",
       "      <td>0</td>\n",
       "      <td>...</td>\n",
       "      <td>0</td>\n",
       "      <td>0</td>\n",
       "      <td>0</td>\n",
       "      <td>0</td>\n",
       "      <td>0</td>\n",
       "      <td>0</td>\n",
       "      <td>0</td>\n",
       "      <td>1</td>\n",
       "      <td>0</td>\n",
       "      <td>0</td>\n",
       "    </tr>\n",
       "    <tr>\n",
       "      <th>1</th>\n",
       "      <td>0</td>\n",
       "      <td>0.00</td>\n",
       "      <td>0.0</td>\n",
       "      <td>2523.0</td>\n",
       "      <td>34704.0</td>\n",
       "      <td>325.0</td>\n",
       "      <td>1</td>\n",
       "      <td>0</td>\n",
       "      <td>0</td>\n",
       "      <td>0</td>\n",
       "      <td>...</td>\n",
       "      <td>0</td>\n",
       "      <td>0</td>\n",
       "      <td>0</td>\n",
       "      <td>0</td>\n",
       "      <td>0</td>\n",
       "      <td>0</td>\n",
       "      <td>0</td>\n",
       "      <td>1</td>\n",
       "      <td>0</td>\n",
       "      <td>0</td>\n",
       "    </tr>\n",
       "    <tr>\n",
       "      <th>2</th>\n",
       "      <td>0</td>\n",
       "      <td>0.13</td>\n",
       "      <td>0.0</td>\n",
       "      <td>843.0</td>\n",
       "      <td>5558.0</td>\n",
       "      <td>6.0</td>\n",
       "      <td>0</td>\n",
       "      <td>1</td>\n",
       "      <td>0</td>\n",
       "      <td>0</td>\n",
       "      <td>...</td>\n",
       "      <td>1</td>\n",
       "      <td>0</td>\n",
       "      <td>0</td>\n",
       "      <td>0</td>\n",
       "      <td>0</td>\n",
       "      <td>0</td>\n",
       "      <td>0</td>\n",
       "      <td>0</td>\n",
       "      <td>0</td>\n",
       "      <td>0</td>\n",
       "    </tr>\n",
       "    <tr>\n",
       "      <th>3</th>\n",
       "      <td>0</td>\n",
       "      <td>0.20</td>\n",
       "      <td>0.0</td>\n",
       "      <td>2933.0</td>\n",
       "      <td>69.0</td>\n",
       "      <td>1.0</td>\n",
       "      <td>0</td>\n",
       "      <td>1</td>\n",
       "      <td>0</td>\n",
       "      <td>0</td>\n",
       "      <td>...</td>\n",
       "      <td>0</td>\n",
       "      <td>0</td>\n",
       "      <td>0</td>\n",
       "      <td>0</td>\n",
       "      <td>0</td>\n",
       "      <td>0</td>\n",
       "      <td>0</td>\n",
       "      <td>1</td>\n",
       "      <td>0</td>\n",
       "      <td>0</td>\n",
       "    </tr>\n",
       "    <tr>\n",
       "      <th>4</th>\n",
       "      <td>0</td>\n",
       "      <td>0.01</td>\n",
       "      <td>84.0</td>\n",
       "      <td>186.0</td>\n",
       "      <td>6203.0</td>\n",
       "      <td>300.0</td>\n",
       "      <td>0</td>\n",
       "      <td>0</td>\n",
       "      <td>1</td>\n",
       "      <td>0</td>\n",
       "      <td>...</td>\n",
       "      <td>0</td>\n",
       "      <td>0</td>\n",
       "      <td>0</td>\n",
       "      <td>0</td>\n",
       "      <td>0</td>\n",
       "      <td>0</td>\n",
       "      <td>0</td>\n",
       "      <td>1</td>\n",
       "      <td>0</td>\n",
       "      <td>0</td>\n",
       "    </tr>\n",
       "  </tbody>\n",
       "</table>\n",
       "<p>5 rows × 64 columns</p>\n",
       "</div>"
      ],
      "text/plain": [
       "   Permanent Close Reason Name  Sum Yield 12 months %  \\\n",
       "0                            0                   0.12   \n",
       "1                            0                   0.00   \n",
       "2                            0                   0.13   \n",
       "3                            0                   0.20   \n",
       "4                            0                   0.01   \n",
       "\n",
       "   Sum of Cash Amount 12 months $ From Close Date  Avg Bal Amt 12 mnths $  \\\n",
       "0                                          1440.0                  5167.0   \n",
       "1                                             0.0                  2523.0   \n",
       "2                                             0.0                   843.0   \n",
       "3                                             0.0                  2933.0   \n",
       "4                                            84.0                   186.0   \n",
       "\n",
       "   Sum Sale Amount 12 months $  Sum of Sale Count 12 months # From Close Date  \\\n",
       "0                       3078.0                                           69.0   \n",
       "1                      34704.0                                          325.0   \n",
       "2                       5558.0                                            6.0   \n",
       "3                         69.0                                            1.0   \n",
       "4                       6203.0                                          300.0   \n",
       "\n",
       "   Product Name_1  Product Name_2  Product Name_3  Product Name_4  ...  \\\n",
       "0               0               0               0               0  ...   \n",
       "1               1               0               0               0  ...   \n",
       "2               0               1               0               0  ...   \n",
       "3               0               1               0               0  ...   \n",
       "4               0               0               1               0  ...   \n",
       "\n",
       "   Months Active during 12 months # From Close Date_5.0  \\\n",
       "0                                                  0      \n",
       "1                                                  0      \n",
       "2                                                  1      \n",
       "3                                                  0      \n",
       "4                                                  0      \n",
       "\n",
       "   Months Active during 12 months # From Close Date_6.0  \\\n",
       "0                                                  0      \n",
       "1                                                  0      \n",
       "2                                                  0      \n",
       "3                                                  0      \n",
       "4                                                  0      \n",
       "\n",
       "   Months Active during 12 months # From Close Date_7.0  \\\n",
       "0                                                  0      \n",
       "1                                                  0      \n",
       "2                                                  0      \n",
       "3                                                  0      \n",
       "4                                                  0      \n",
       "\n",
       "   Months Active during 12 months # From Close Date_8.0  \\\n",
       "0                                                  0      \n",
       "1                                                  0      \n",
       "2                                                  0      \n",
       "3                                                  0      \n",
       "4                                                  0      \n",
       "\n",
       "   Months Active during 12 months # From Close Date_9.0  \\\n",
       "0                                                  0      \n",
       "1                                                  0      \n",
       "2                                                  0      \n",
       "3                                                  0      \n",
       "4                                                  0      \n",
       "\n",
       "   Months Active during 12 months # From Close Date_10.0  \\\n",
       "0                                                  0       \n",
       "1                                                  0       \n",
       "2                                                  0       \n",
       "3                                                  0       \n",
       "4                                                  0       \n",
       "\n",
       "   Months Active during 12 months # From Close Date_11.0  \\\n",
       "0                                                  0       \n",
       "1                                                  0       \n",
       "2                                                  0       \n",
       "3                                                  0       \n",
       "4                                                  0       \n",
       "\n",
       "   Months Active during 12 months # From Close Date_12.0  \\\n",
       "0                                                  1       \n",
       "1                                                  1       \n",
       "2                                                  0       \n",
       "3                                                  1       \n",
       "4                                                  1       \n",
       "\n",
       "   Months Active during 12 months # From Close Date_13.0  \\\n",
       "0                                                  0       \n",
       "1                                                  0       \n",
       "2                                                  0       \n",
       "3                                                  0       \n",
       "4                                                  0       \n",
       "\n",
       "   Months Active during 12 months # From Close Date_15.0  \n",
       "0                                                  0      \n",
       "1                                                  0      \n",
       "2                                                  0      \n",
       "3                                                  0      \n",
       "4                                                  0      \n",
       "\n",
       "[5 rows x 64 columns]"
      ]
     },
     "execution_count": 84,
     "metadata": {},
     "output_type": "execute_result"
    }
   ],
   "source": [
    "mdf2.head()"
   ]
  },
  {
   "cell_type": "code",
   "execution_count": 85,
   "id": "d6fa5a8d",
   "metadata": {},
   "outputs": [],
   "source": [
    "#Perform Feature Scaling and One Hot Encoding\n",
    "from sklearn.preprocessing import StandardScaler\n",
    "\n",
    "#Perform Feature Scaling on 'tenure', 'MonthlyCharges', 'TotalCharges' in order to bring them on same scale\n",
    "standardScaler = StandardScaler()\n",
    "columns_for_ft_scaling = ['Sum Yield 12 months %','Sum of Cash Amount 12 months $ From Close Date','Sum of Cash Amount 12 months $ From Close Date','Sum Sale Amount 12 months $','Sum of Sale Count 12 months # From Close Date']\n",
    "\n",
    "#Apply the feature scaling operation on dataset using fit_transform() method\n",
    "mdf2[columns_for_ft_scaling] = standardScaler.fit_transform(mdf2[columns_for_ft_scaling])"
   ]
  },
  {
   "cell_type": "code",
   "execution_count": 86,
   "id": "91392345",
   "metadata": {},
   "outputs": [
    {
     "data": {
      "text/html": [
       "<div>\n",
       "<style scoped>\n",
       "    .dataframe tbody tr th:only-of-type {\n",
       "        vertical-align: middle;\n",
       "    }\n",
       "\n",
       "    .dataframe tbody tr th {\n",
       "        vertical-align: top;\n",
       "    }\n",
       "\n",
       "    .dataframe thead th {\n",
       "        text-align: right;\n",
       "    }\n",
       "</style>\n",
       "<table border=\"1\" class=\"dataframe\">\n",
       "  <thead>\n",
       "    <tr style=\"text-align: right;\">\n",
       "      <th></th>\n",
       "      <th>Permanent Close Reason Name</th>\n",
       "      <th>Sum Yield 12 months %</th>\n",
       "      <th>Sum of Cash Amount 12 months $ From Close Date</th>\n",
       "      <th>Avg Bal Amt 12 mnths $</th>\n",
       "      <th>Sum Sale Amount 12 months $</th>\n",
       "      <th>Sum of Sale Count 12 months # From Close Date</th>\n",
       "      <th>Product Name_1</th>\n",
       "      <th>Product Name_2</th>\n",
       "      <th>Product Name_3</th>\n",
       "      <th>Product Name_4</th>\n",
       "      <th>...</th>\n",
       "      <th>Months Active during 12 months # From Close Date_5.0</th>\n",
       "      <th>Months Active during 12 months # From Close Date_6.0</th>\n",
       "      <th>Months Active during 12 months # From Close Date_7.0</th>\n",
       "      <th>Months Active during 12 months # From Close Date_8.0</th>\n",
       "      <th>Months Active during 12 months # From Close Date_9.0</th>\n",
       "      <th>Months Active during 12 months # From Close Date_10.0</th>\n",
       "      <th>Months Active during 12 months # From Close Date_11.0</th>\n",
       "      <th>Months Active during 12 months # From Close Date_12.0</th>\n",
       "      <th>Months Active during 12 months # From Close Date_13.0</th>\n",
       "      <th>Months Active during 12 months # From Close Date_15.0</th>\n",
       "    </tr>\n",
       "  </thead>\n",
       "  <tbody>\n",
       "    <tr>\n",
       "      <th>0</th>\n",
       "      <td>0</td>\n",
       "      <td>0.782976</td>\n",
       "      <td>2.930166</td>\n",
       "      <td>5167.0</td>\n",
       "      <td>-0.440070</td>\n",
       "      <td>-0.251221</td>\n",
       "      <td>0</td>\n",
       "      <td>0</td>\n",
       "      <td>0</td>\n",
       "      <td>0</td>\n",
       "      <td>...</td>\n",
       "      <td>0</td>\n",
       "      <td>0</td>\n",
       "      <td>0</td>\n",
       "      <td>0</td>\n",
       "      <td>0</td>\n",
       "      <td>0</td>\n",
       "      <td>0</td>\n",
       "      <td>1</td>\n",
       "      <td>0</td>\n",
       "      <td>0</td>\n",
       "    </tr>\n",
       "    <tr>\n",
       "      <th>1</th>\n",
       "      <td>0</td>\n",
       "      <td>-0.818319</td>\n",
       "      <td>-0.168209</td>\n",
       "      <td>2523.0</td>\n",
       "      <td>2.346830</td>\n",
       "      <td>1.580595</td>\n",
       "      <td>1</td>\n",
       "      <td>0</td>\n",
       "      <td>0</td>\n",
       "      <td>0</td>\n",
       "      <td>...</td>\n",
       "      <td>0</td>\n",
       "      <td>0</td>\n",
       "      <td>0</td>\n",
       "      <td>0</td>\n",
       "      <td>0</td>\n",
       "      <td>0</td>\n",
       "      <td>0</td>\n",
       "      <td>1</td>\n",
       "      <td>0</td>\n",
       "      <td>0</td>\n",
       "    </tr>\n",
       "    <tr>\n",
       "      <th>2</th>\n",
       "      <td>0</td>\n",
       "      <td>0.916418</td>\n",
       "      <td>-0.168209</td>\n",
       "      <td>843.0</td>\n",
       "      <td>-0.221531</td>\n",
       "      <td>-0.702020</td>\n",
       "      <td>0</td>\n",
       "      <td>1</td>\n",
       "      <td>0</td>\n",
       "      <td>0</td>\n",
       "      <td>...</td>\n",
       "      <td>1</td>\n",
       "      <td>0</td>\n",
       "      <td>0</td>\n",
       "      <td>0</td>\n",
       "      <td>0</td>\n",
       "      <td>0</td>\n",
       "      <td>0</td>\n",
       "      <td>0</td>\n",
       "      <td>0</td>\n",
       "      <td>0</td>\n",
       "    </tr>\n",
       "    <tr>\n",
       "      <th>3</th>\n",
       "      <td>0</td>\n",
       "      <td>1.850507</td>\n",
       "      <td>-0.168209</td>\n",
       "      <td>2933.0</td>\n",
       "      <td>-0.705225</td>\n",
       "      <td>-0.737797</td>\n",
       "      <td>0</td>\n",
       "      <td>1</td>\n",
       "      <td>0</td>\n",
       "      <td>0</td>\n",
       "      <td>...</td>\n",
       "      <td>0</td>\n",
       "      <td>0</td>\n",
       "      <td>0</td>\n",
       "      <td>0</td>\n",
       "      <td>0</td>\n",
       "      <td>0</td>\n",
       "      <td>0</td>\n",
       "      <td>1</td>\n",
       "      <td>0</td>\n",
       "      <td>0</td>\n",
       "    </tr>\n",
       "    <tr>\n",
       "      <th>4</th>\n",
       "      <td>0</td>\n",
       "      <td>-0.684878</td>\n",
       "      <td>0.012529</td>\n",
       "      <td>186.0</td>\n",
       "      <td>-0.164694</td>\n",
       "      <td>1.401707</td>\n",
       "      <td>0</td>\n",
       "      <td>0</td>\n",
       "      <td>1</td>\n",
       "      <td>0</td>\n",
       "      <td>...</td>\n",
       "      <td>0</td>\n",
       "      <td>0</td>\n",
       "      <td>0</td>\n",
       "      <td>0</td>\n",
       "      <td>0</td>\n",
       "      <td>0</td>\n",
       "      <td>0</td>\n",
       "      <td>1</td>\n",
       "      <td>0</td>\n",
       "      <td>0</td>\n",
       "    </tr>\n",
       "  </tbody>\n",
       "</table>\n",
       "<p>5 rows × 64 columns</p>\n",
       "</div>"
      ],
      "text/plain": [
       "   Permanent Close Reason Name  Sum Yield 12 months %  \\\n",
       "0                            0               0.782976   \n",
       "1                            0              -0.818319   \n",
       "2                            0               0.916418   \n",
       "3                            0               1.850507   \n",
       "4                            0              -0.684878   \n",
       "\n",
       "   Sum of Cash Amount 12 months $ From Close Date  Avg Bal Amt 12 mnths $  \\\n",
       "0                                        2.930166                  5167.0   \n",
       "1                                       -0.168209                  2523.0   \n",
       "2                                       -0.168209                   843.0   \n",
       "3                                       -0.168209                  2933.0   \n",
       "4                                        0.012529                   186.0   \n",
       "\n",
       "   Sum Sale Amount 12 months $  Sum of Sale Count 12 months # From Close Date  \\\n",
       "0                    -0.440070                                      -0.251221   \n",
       "1                     2.346830                                       1.580595   \n",
       "2                    -0.221531                                      -0.702020   \n",
       "3                    -0.705225                                      -0.737797   \n",
       "4                    -0.164694                                       1.401707   \n",
       "\n",
       "   Product Name_1  Product Name_2  Product Name_3  Product Name_4  ...  \\\n",
       "0               0               0               0               0  ...   \n",
       "1               1               0               0               0  ...   \n",
       "2               0               1               0               0  ...   \n",
       "3               0               1               0               0  ...   \n",
       "4               0               0               1               0  ...   \n",
       "\n",
       "   Months Active during 12 months # From Close Date_5.0  \\\n",
       "0                                                  0      \n",
       "1                                                  0      \n",
       "2                                                  1      \n",
       "3                                                  0      \n",
       "4                                                  0      \n",
       "\n",
       "   Months Active during 12 months # From Close Date_6.0  \\\n",
       "0                                                  0      \n",
       "1                                                  0      \n",
       "2                                                  0      \n",
       "3                                                  0      \n",
       "4                                                  0      \n",
       "\n",
       "   Months Active during 12 months # From Close Date_7.0  \\\n",
       "0                                                  0      \n",
       "1                                                  0      \n",
       "2                                                  0      \n",
       "3                                                  0      \n",
       "4                                                  0      \n",
       "\n",
       "   Months Active during 12 months # From Close Date_8.0  \\\n",
       "0                                                  0      \n",
       "1                                                  0      \n",
       "2                                                  0      \n",
       "3                                                  0      \n",
       "4                                                  0      \n",
       "\n",
       "   Months Active during 12 months # From Close Date_9.0  \\\n",
       "0                                                  0      \n",
       "1                                                  0      \n",
       "2                                                  0      \n",
       "3                                                  0      \n",
       "4                                                  0      \n",
       "\n",
       "   Months Active during 12 months # From Close Date_10.0  \\\n",
       "0                                                  0       \n",
       "1                                                  0       \n",
       "2                                                  0       \n",
       "3                                                  0       \n",
       "4                                                  0       \n",
       "\n",
       "   Months Active during 12 months # From Close Date_11.0  \\\n",
       "0                                                  0       \n",
       "1                                                  0       \n",
       "2                                                  0       \n",
       "3                                                  0       \n",
       "4                                                  0       \n",
       "\n",
       "   Months Active during 12 months # From Close Date_12.0  \\\n",
       "0                                                  1       \n",
       "1                                                  1       \n",
       "2                                                  0       \n",
       "3                                                  1       \n",
       "4                                                  1       \n",
       "\n",
       "   Months Active during 12 months # From Close Date_13.0  \\\n",
       "0                                                  0       \n",
       "1                                                  0       \n",
       "2                                                  0       \n",
       "3                                                  0       \n",
       "4                                                  0       \n",
       "\n",
       "   Months Active during 12 months # From Close Date_15.0  \n",
       "0                                                  0      \n",
       "1                                                  0      \n",
       "2                                                  0      \n",
       "3                                                  0      \n",
       "4                                                  0      \n",
       "\n",
       "[5 rows x 64 columns]"
      ]
     },
     "execution_count": 86,
     "metadata": {},
     "output_type": "execute_result"
    }
   ],
   "source": [
    "mdf2.head()"
   ]
  },
  {
   "cell_type": "code",
   "execution_count": 87,
   "id": "ecc03912",
   "metadata": {},
   "outputs": [
    {
     "data": {
      "text/html": [
       "<div>\n",
       "<style scoped>\n",
       "    .dataframe tbody tr th:only-of-type {\n",
       "        vertical-align: middle;\n",
       "    }\n",
       "\n",
       "    .dataframe tbody tr th {\n",
       "        vertical-align: top;\n",
       "    }\n",
       "\n",
       "    .dataframe thead th {\n",
       "        text-align: right;\n",
       "    }\n",
       "</style>\n",
       "<table border=\"1\" class=\"dataframe\">\n",
       "  <thead>\n",
       "    <tr style=\"text-align: right;\">\n",
       "      <th></th>\n",
       "      <th>count</th>\n",
       "      <th>unique</th>\n",
       "      <th>top</th>\n",
       "      <th>freq</th>\n",
       "    </tr>\n",
       "  </thead>\n",
       "  <tbody>\n",
       "    <tr>\n",
       "      <th>Permanent Close Reason Name</th>\n",
       "      <td>311209.0</td>\n",
       "      <td>2.0</td>\n",
       "      <td>0.000000</td>\n",
       "      <td>281066.0</td>\n",
       "    </tr>\n",
       "    <tr>\n",
       "      <th>Sum Yield 12 months %</th>\n",
       "      <td>311209.0</td>\n",
       "      <td>32.0</td>\n",
       "      <td>-0.818319</td>\n",
       "      <td>152341.0</td>\n",
       "    </tr>\n",
       "    <tr>\n",
       "      <th>Sum of Cash Amount 12 months $ From Close Date</th>\n",
       "      <td>311209.0</td>\n",
       "      <td>3112.0</td>\n",
       "      <td>-0.168209</td>\n",
       "      <td>285043.0</td>\n",
       "    </tr>\n",
       "    <tr>\n",
       "      <th>Avg Bal Amt 12 mnths $</th>\n",
       "      <td>311209.0</td>\n",
       "      <td>9579.0</td>\n",
       "      <td>0.000000</td>\n",
       "      <td>43897.0</td>\n",
       "    </tr>\n",
       "    <tr>\n",
       "      <th>Sum Sale Amount 12 months $</th>\n",
       "      <td>311209.0</td>\n",
       "      <td>36321.0</td>\n",
       "      <td>-0.711305</td>\n",
       "      <td>43718.0</td>\n",
       "    </tr>\n",
       "    <tr>\n",
       "      <th>...</th>\n",
       "      <td>...</td>\n",
       "      <td>...</td>\n",
       "      <td>...</td>\n",
       "      <td>...</td>\n",
       "    </tr>\n",
       "    <tr>\n",
       "      <th>Months Active during 12 months # From Close Date_10.0</th>\n",
       "      <td>311209.0</td>\n",
       "      <td>2.0</td>\n",
       "      <td>0.000000</td>\n",
       "      <td>301981.0</td>\n",
       "    </tr>\n",
       "    <tr>\n",
       "      <th>Months Active during 12 months # From Close Date_11.0</th>\n",
       "      <td>311209.0</td>\n",
       "      <td>2.0</td>\n",
       "      <td>0.000000</td>\n",
       "      <td>295246.0</td>\n",
       "    </tr>\n",
       "    <tr>\n",
       "      <th>Months Active during 12 months # From Close Date_12.0</th>\n",
       "      <td>311209.0</td>\n",
       "      <td>2.0</td>\n",
       "      <td>1.000000</td>\n",
       "      <td>185778.0</td>\n",
       "    </tr>\n",
       "    <tr>\n",
       "      <th>Months Active during 12 months # From Close Date_13.0</th>\n",
       "      <td>311209.0</td>\n",
       "      <td>2.0</td>\n",
       "      <td>0.000000</td>\n",
       "      <td>310983.0</td>\n",
       "    </tr>\n",
       "    <tr>\n",
       "      <th>Months Active during 12 months # From Close Date_15.0</th>\n",
       "      <td>311209.0</td>\n",
       "      <td>2.0</td>\n",
       "      <td>0.000000</td>\n",
       "      <td>311205.0</td>\n",
       "    </tr>\n",
       "  </tbody>\n",
       "</table>\n",
       "<p>64 rows × 4 columns</p>\n",
       "</div>"
      ],
      "text/plain": [
       "                                                       count   unique  \\\n",
       "Permanent Close Reason Name                         311209.0      2.0   \n",
       "Sum Yield 12 months %                               311209.0     32.0   \n",
       "Sum of Cash Amount 12 months $ From Close Date      311209.0   3112.0   \n",
       "Avg Bal Amt 12 mnths $                              311209.0   9579.0   \n",
       "Sum Sale Amount 12 months $                         311209.0  36321.0   \n",
       "...                                                      ...      ...   \n",
       "Months Active during 12 months # From Close Dat...  311209.0      2.0   \n",
       "Months Active during 12 months # From Close Dat...  311209.0      2.0   \n",
       "Months Active during 12 months # From Close Dat...  311209.0      2.0   \n",
       "Months Active during 12 months # From Close Dat...  311209.0      2.0   \n",
       "Months Active during 12 months # From Close Dat...  311209.0      2.0   \n",
       "\n",
       "                                                         top      freq  \n",
       "Permanent Close Reason Name                         0.000000  281066.0  \n",
       "Sum Yield 12 months %                              -0.818319  152341.0  \n",
       "Sum of Cash Amount 12 months $ From Close Date     -0.168209  285043.0  \n",
       "Avg Bal Amt 12 mnths $                              0.000000   43897.0  \n",
       "Sum Sale Amount 12 months $                        -0.711305   43718.0  \n",
       "...                                                      ...       ...  \n",
       "Months Active during 12 months # From Close Dat...  0.000000  301981.0  \n",
       "Months Active during 12 months # From Close Dat...  0.000000  295246.0  \n",
       "Months Active during 12 months # From Close Dat...  1.000000  185778.0  \n",
       "Months Active during 12 months # From Close Dat...  0.000000  310983.0  \n",
       "Months Active during 12 months # From Close Dat...  0.000000  311205.0  \n",
       "\n",
       "[64 rows x 4 columns]"
      ]
     },
     "execution_count": 87,
     "metadata": {},
     "output_type": "execute_result"
    }
   ],
   "source": [
    "mdf2.astype('object').describe().transpose()"
   ]
  },
  {
   "cell_type": "code",
   "execution_count": 88,
   "id": "80921b6a",
   "metadata": {},
   "outputs": [
    {
     "data": {
      "text/plain": [
       "Index(['Permanent Close Reason Name', 'Sum Yield 12 months %',\n",
       "       'Sum of Cash Amount 12 months $ From Close Date',\n",
       "       'Avg Bal Amt 12 mnths $', 'Sum Sale Amount 12 months $',\n",
       "       'Sum of Sale Count 12 months # From Close Date', 'Product Name_1',\n",
       "       'Product Name_2', 'Product Name_3', 'Product Name_4', 'Product Name_5',\n",
       "       'Product Name_6', 'account_age_3', 'account_age_4', 'account_age_12',\n",
       "       'account_age_13', 'account_age_14', 'account_age_15', 'account_age_16',\n",
       "       'account_age_17', 'account_age_18', 'account_age_19', 'account_age_20',\n",
       "       'account_age_21', 'account_age_22', 'account_age_23', 'account_age_24',\n",
       "       'account_age_25', 'account_age_26', 'account_age_27', 'account_age_28',\n",
       "       'account_age_29', 'account_age_30', 'account_age_31', 'account_age_32',\n",
       "       'account_age_33', 'account_age_34', 'account_age_35', 'account_age_36',\n",
       "       'account_age_37', 'account_age_38', 'account_age_39', 'account_age_40',\n",
       "       'account_age_41', 'account_age_42', 'account_age_43', 'account_age_44',\n",
       "       'account_age_45', 'account_age_46', 'account_age_47',\n",
       "       'Months Active during 12 months # From Close Date_1.0',\n",
       "       'Months Active during 12 months # From Close Date_2.0',\n",
       "       'Months Active during 12 months # From Close Date_3.0',\n",
       "       'Months Active during 12 months # From Close Date_4.0',\n",
       "       'Months Active during 12 months # From Close Date_5.0',\n",
       "       'Months Active during 12 months # From Close Date_6.0',\n",
       "       'Months Active during 12 months # From Close Date_7.0',\n",
       "       'Months Active during 12 months # From Close Date_8.0',\n",
       "       'Months Active during 12 months # From Close Date_9.0',\n",
       "       'Months Active during 12 months # From Close Date_10.0',\n",
       "       'Months Active during 12 months # From Close Date_11.0',\n",
       "       'Months Active during 12 months # From Close Date_12.0',\n",
       "       'Months Active during 12 months # From Close Date_13.0',\n",
       "       'Months Active during 12 months # From Close Date_15.0'],\n",
       "      dtype='object')"
      ]
     },
     "execution_count": 88,
     "metadata": {},
     "output_type": "execute_result"
    }
   ],
   "source": [
    "mdf2.columns"
   ]
  },
  {
   "cell_type": "markdown",
   "id": "b0a676d1",
   "metadata": {},
   "source": [
    "# Splitting X, Y"
   ]
  },
  {
   "cell_type": "code",
   "execution_count": 89,
   "id": "931d80b4",
   "metadata": {},
   "outputs": [],
   "source": [
    "y = mdf2['Permanent Close Reason Name']\n",
    "X = mdf2.drop(['Permanent Close Reason Name'], axis = 1)"
   ]
  },
  {
   "cell_type": "code",
   "execution_count": 90,
   "id": "584fa80e",
   "metadata": {},
   "outputs": [
    {
     "data": {
      "text/plain": [
       "0    281066\n",
       "1     30143\n",
       "Name: Permanent Close Reason Name, dtype: int64"
      ]
     },
     "execution_count": 90,
     "metadata": {},
     "output_type": "execute_result"
    }
   ],
   "source": [
    "y.value_counts()"
   ]
  },
  {
   "cell_type": "markdown",
   "id": "99337b27",
   "metadata": {},
   "source": [
    "# Balancing the data using SMOTE"
   ]
  },
  {
   "cell_type": "markdown",
   "id": "3468f9bb",
   "metadata": {},
   "source": [
    "python -m pip install --trusted-host pypi.org --trusted-host files.pythonhosted.org imbalanced-learn"
   ]
  },
  {
   "cell_type": "code",
   "execution_count": 92,
   "id": "3c55debd",
   "metadata": {},
   "outputs": [],
   "source": [
    "from imblearn.over_sampling import SMOTE"
   ]
  },
  {
   "cell_type": "code",
   "execution_count": 93,
   "id": "d1770860",
   "metadata": {},
   "outputs": [],
   "source": [
    "over_sampler = SMOTE(k_neighbors=2)\n",
    "X_res, y_res = over_sampler.fit_resample(X, y)"
   ]
  },
  {
   "cell_type": "code",
   "execution_count": 94,
   "id": "efc24ae8",
   "metadata": {},
   "outputs": [
    {
     "data": {
      "text/plain": [
       "0    281066\n",
       "1    281066\n",
       "Name: Permanent Close Reason Name, dtype: int64"
      ]
     },
     "execution_count": 94,
     "metadata": {},
     "output_type": "execute_result"
    }
   ],
   "source": [
    "y_res.value_counts()"
   ]
  },
  {
   "cell_type": "markdown",
   "id": "f1569aa4",
   "metadata": {},
   "source": [
    "# Test Train Split"
   ]
  },
  {
   "cell_type": "code",
   "execution_count": 95,
   "id": "b86ff811",
   "metadata": {},
   "outputs": [],
   "source": [
    "from sklearn.model_selection import train_test_split\n",
    "X_train, X_test, y_train, y_test = train_test_split(X_res, y_res, test_size=0.20, random_state=0)"
   ]
  },
  {
   "cell_type": "markdown",
   "id": "a5a91fa7",
   "metadata": {},
   "source": [
    "# Scalling the values "
   ]
  },
  {
   "cell_type": "markdown",
   "id": "d13d7bac",
   "metadata": {},
   "source": [
    "from sklearn.preprocessing import StandardScaler\n",
    "sc = StandardScaler()\n",
    "X_train_scaled = sc.fit_transform(X_train)\n",
    "X_test_scaled = sc.transform(X_test)"
   ]
  },
  {
   "cell_type": "code",
   "execution_count": 96,
   "id": "05d7f240",
   "metadata": {},
   "outputs": [
    {
     "data": {
      "text/plain": [
       "0    224989\n",
       "1    224716\n",
       "Name: Permanent Close Reason Name, dtype: int64"
      ]
     },
     "execution_count": 96,
     "metadata": {},
     "output_type": "execute_result"
    }
   ],
   "source": [
    "y_train.value_counts()"
   ]
  },
  {
   "cell_type": "code",
   "execution_count": 97,
   "id": "abe40194",
   "metadata": {},
   "outputs": [
    {
     "data": {
      "text/plain": [
       "1    56350\n",
       "0    56077\n",
       "Name: Permanent Close Reason Name, dtype: int64"
      ]
     },
     "execution_count": 97,
     "metadata": {},
     "output_type": "execute_result"
    }
   ],
   "source": [
    "y_test.value_counts()"
   ]
  },
  {
   "cell_type": "markdown",
   "id": "a4927045",
   "metadata": {},
   "source": [
    "# Model Building"
   ]
  },
  {
   "cell_type": "markdown",
   "id": "ee76e688",
   "metadata": {},
   "source": [
    "#  ------------ Logistic Regression Model -------------"
   ]
  },
  {
   "cell_type": "code",
   "execution_count": 98,
   "id": "5f509e6e",
   "metadata": {},
   "outputs": [
    {
     "name": "stderr",
     "output_type": "stream",
     "text": [
      "C:\\Anaconda\\lib\\site-packages\\sklearn\\linear_model\\_logistic.py:814: ConvergenceWarning: lbfgs failed to converge (status=1):\n",
      "STOP: TOTAL NO. of ITERATIONS REACHED LIMIT.\n",
      "\n",
      "Increase the number of iterations (max_iter) or scale the data as shown in:\n",
      "    https://scikit-learn.org/stable/modules/preprocessing.html\n",
      "Please also refer to the documentation for alternative solver options:\n",
      "    https://scikit-learn.org/stable/modules/linear_model.html#logistic-regression\n",
      "  n_iter_i = _check_optimize_result(\n"
     ]
    }
   ],
   "source": [
    "#Fit the logistic Regression Model\n",
    "LogModel = LogisticRegression(random_state=50)\n",
    "LogModel.fit(X_train, y_train)\n",
    "\n",
    "#Predict the value for new, unseen data\n",
    "Log_Pred = LogModel.predict(X_test)\n",
    "\n",
    "# Find Accuracy using accuracy_score method\n",
    "LogModel_Accuracy =round(metrics.accuracy_score(y_test, Log_Pred)*100, 2)"
   ]
  },
  {
   "cell_type": "markdown",
   "id": "c8c0a82a",
   "metadata": {},
   "source": [
    "# Test score"
   ]
  },
  {
   "cell_type": "code",
   "execution_count": 99,
   "id": "31493902",
   "metadata": {},
   "outputs": [
    {
     "data": {
      "text/plain": [
       "0.8815053323489909"
      ]
     },
     "execution_count": 99,
     "metadata": {},
     "output_type": "execute_result"
    }
   ],
   "source": [
    "LogModel.score(X_test,y_test)"
   ]
  },
  {
   "cell_type": "markdown",
   "id": "36e821ef",
   "metadata": {},
   "source": [
    "# Train Score"
   ]
  },
  {
   "cell_type": "code",
   "execution_count": 100,
   "id": "d6ad47c2",
   "metadata": {},
   "outputs": [
    {
     "data": {
      "text/plain": [
       "0.8798434529302542"
      ]
     },
     "execution_count": 100,
     "metadata": {},
     "output_type": "execute_result"
    }
   ],
   "source": [
    "LogModel.score(X_train,y_train)"
   ]
  },
  {
   "cell_type": "markdown",
   "id": "f8c1ca20",
   "metadata": {},
   "source": [
    "# Confusion Matrix"
   ]
  },
  {
   "cell_type": "code",
   "execution_count": 101,
   "id": "d76bb3c2",
   "metadata": {},
   "outputs": [
    {
     "name": "stdout",
     "output_type": "stream",
     "text": [
      "[[48314  7763]\n",
      " [ 5559 50791]]\n"
     ]
    }
   ],
   "source": [
    "print(confusion_matrix(y_test,Log_Pred))"
   ]
  },
  {
   "cell_type": "markdown",
   "id": "f9524688",
   "metadata": {},
   "source": [
    "# Accuracy Score"
   ]
  },
  {
   "cell_type": "code",
   "execution_count": 102,
   "id": "f8ab4415",
   "metadata": {},
   "outputs": [
    {
     "name": "stdout",
     "output_type": "stream",
     "text": [
      "0.8815053323489909\n"
     ]
    }
   ],
   "source": [
    "from sklearn.metrics import accuracy_score\n",
    "print(accuracy_score(y_test, Log_Pred))"
   ]
  },
  {
   "cell_type": "markdown",
   "id": "44604efb",
   "metadata": {},
   "source": [
    "# classification_report"
   ]
  },
  {
   "cell_type": "code",
   "execution_count": 103,
   "id": "d711dc8b",
   "metadata": {},
   "outputs": [
    {
     "name": "stdout",
     "output_type": "stream",
     "text": [
      "              precision    recall  f1-score   support\n",
      "\n",
      "           0       0.90      0.86      0.88     56077\n",
      "           1       0.87      0.90      0.88     56350\n",
      "\n",
      "    accuracy                           0.88    112427\n",
      "   macro avg       0.88      0.88      0.88    112427\n",
      "weighted avg       0.88      0.88      0.88    112427\n",
      "\n"
     ]
    }
   ],
   "source": [
    "print(classification_report(y_test,Log_Pred))"
   ]
  },
  {
   "cell_type": "markdown",
   "id": "e3ea0b6f",
   "metadata": {},
   "source": [
    "# K_Fold Cross validation"
   ]
  },
  {
   "cell_type": "code",
   "execution_count": 104,
   "id": "f252c8cd",
   "metadata": {},
   "outputs": [
    {
     "name": "stderr",
     "output_type": "stream",
     "text": [
      "C:\\Anaconda\\lib\\site-packages\\sklearn\\linear_model\\_logistic.py:814: ConvergenceWarning: lbfgs failed to converge (status=1):\n",
      "STOP: TOTAL NO. of ITERATIONS REACHED LIMIT.\n",
      "\n",
      "Increase the number of iterations (max_iter) or scale the data as shown in:\n",
      "    https://scikit-learn.org/stable/modules/preprocessing.html\n",
      "Please also refer to the documentation for alternative solver options:\n",
      "    https://scikit-learn.org/stable/modules/linear_model.html#logistic-regression\n",
      "  n_iter_i = _check_optimize_result(\n",
      "C:\\Anaconda\\lib\\site-packages\\sklearn\\linear_model\\_logistic.py:814: ConvergenceWarning: lbfgs failed to converge (status=1):\n",
      "STOP: TOTAL NO. of ITERATIONS REACHED LIMIT.\n",
      "\n",
      "Increase the number of iterations (max_iter) or scale the data as shown in:\n",
      "    https://scikit-learn.org/stable/modules/preprocessing.html\n",
      "Please also refer to the documentation for alternative solver options:\n",
      "    https://scikit-learn.org/stable/modules/linear_model.html#logistic-regression\n",
      "  n_iter_i = _check_optimize_result(\n",
      "C:\\Anaconda\\lib\\site-packages\\sklearn\\linear_model\\_logistic.py:814: ConvergenceWarning: lbfgs failed to converge (status=1):\n",
      "STOP: TOTAL NO. of ITERATIONS REACHED LIMIT.\n",
      "\n",
      "Increase the number of iterations (max_iter) or scale the data as shown in:\n",
      "    https://scikit-learn.org/stable/modules/preprocessing.html\n",
      "Please also refer to the documentation for alternative solver options:\n",
      "    https://scikit-learn.org/stable/modules/linear_model.html#logistic-regression\n",
      "  n_iter_i = _check_optimize_result(\n",
      "C:\\Anaconda\\lib\\site-packages\\sklearn\\linear_model\\_logistic.py:814: ConvergenceWarning: lbfgs failed to converge (status=1):\n",
      "STOP: TOTAL NO. of ITERATIONS REACHED LIMIT.\n",
      "\n",
      "Increase the number of iterations (max_iter) or scale the data as shown in:\n",
      "    https://scikit-learn.org/stable/modules/preprocessing.html\n",
      "Please also refer to the documentation for alternative solver options:\n",
      "    https://scikit-learn.org/stable/modules/linear_model.html#logistic-regression\n",
      "  n_iter_i = _check_optimize_result(\n",
      "C:\\Anaconda\\lib\\site-packages\\sklearn\\linear_model\\_logistic.py:814: ConvergenceWarning: lbfgs failed to converge (status=1):\n",
      "STOP: TOTAL NO. of ITERATIONS REACHED LIMIT.\n",
      "\n",
      "Increase the number of iterations (max_iter) or scale the data as shown in:\n",
      "    https://scikit-learn.org/stable/modules/preprocessing.html\n",
      "Please also refer to the documentation for alternative solver options:\n",
      "    https://scikit-learn.org/stable/modules/linear_model.html#logistic-regression\n",
      "  n_iter_i = _check_optimize_result(\n"
     ]
    },
    {
     "data": {
      "text/plain": [
       "array([0.93888371, 0.93857845, 0.93804826, 0.93674689, 0.93941293])"
      ]
     },
     "execution_count": 104,
     "metadata": {},
     "output_type": "execute_result"
    }
   ],
   "source": [
    "cross_val_score(LogModel,X,y,cv=5)"
   ]
  },
  {
   "cell_type": "code",
   "execution_count": 105,
   "id": "3955a5b8",
   "metadata": {},
   "outputs": [
    {
     "name": "stderr",
     "output_type": "stream",
     "text": [
      "C:\\Anaconda\\lib\\site-packages\\sklearn\\linear_model\\_logistic.py:814: ConvergenceWarning: lbfgs failed to converge (status=1):\n",
      "STOP: TOTAL NO. of ITERATIONS REACHED LIMIT.\n",
      "\n",
      "Increase the number of iterations (max_iter) or scale the data as shown in:\n",
      "    https://scikit-learn.org/stable/modules/preprocessing.html\n",
      "Please also refer to the documentation for alternative solver options:\n",
      "    https://scikit-learn.org/stable/modules/linear_model.html#logistic-regression\n",
      "  n_iter_i = _check_optimize_result(\n",
      "C:\\Anaconda\\lib\\site-packages\\sklearn\\linear_model\\_logistic.py:814: ConvergenceWarning: lbfgs failed to converge (status=1):\n",
      "STOP: TOTAL NO. of ITERATIONS REACHED LIMIT.\n",
      "\n",
      "Increase the number of iterations (max_iter) or scale the data as shown in:\n",
      "    https://scikit-learn.org/stable/modules/preprocessing.html\n",
      "Please also refer to the documentation for alternative solver options:\n",
      "    https://scikit-learn.org/stable/modules/linear_model.html#logistic-regression\n",
      "  n_iter_i = _check_optimize_result(\n",
      "C:\\Anaconda\\lib\\site-packages\\sklearn\\linear_model\\_logistic.py:814: ConvergenceWarning: lbfgs failed to converge (status=1):\n",
      "STOP: TOTAL NO. of ITERATIONS REACHED LIMIT.\n",
      "\n",
      "Increase the number of iterations (max_iter) or scale the data as shown in:\n",
      "    https://scikit-learn.org/stable/modules/preprocessing.html\n",
      "Please also refer to the documentation for alternative solver options:\n",
      "    https://scikit-learn.org/stable/modules/linear_model.html#logistic-regression\n",
      "  n_iter_i = _check_optimize_result(\n",
      "C:\\Anaconda\\lib\\site-packages\\sklearn\\linear_model\\_logistic.py:814: ConvergenceWarning: lbfgs failed to converge (status=1):\n",
      "STOP: TOTAL NO. of ITERATIONS REACHED LIMIT.\n",
      "\n",
      "Increase the number of iterations (max_iter) or scale the data as shown in:\n",
      "    https://scikit-learn.org/stable/modules/preprocessing.html\n",
      "Please also refer to the documentation for alternative solver options:\n",
      "    https://scikit-learn.org/stable/modules/linear_model.html#logistic-regression\n",
      "  n_iter_i = _check_optimize_result(\n",
      "C:\\Anaconda\\lib\\site-packages\\sklearn\\linear_model\\_logistic.py:814: ConvergenceWarning: lbfgs failed to converge (status=1):\n",
      "STOP: TOTAL NO. of ITERATIONS REACHED LIMIT.\n",
      "\n",
      "Increase the number of iterations (max_iter) or scale the data as shown in:\n",
      "    https://scikit-learn.org/stable/modules/preprocessing.html\n",
      "Please also refer to the documentation for alternative solver options:\n",
      "    https://scikit-learn.org/stable/modules/linear_model.html#logistic-regression\n",
      "  n_iter_i = _check_optimize_result(\n"
     ]
    },
    {
     "data": {
      "text/plain": [
       "0.9383340490759524"
      ]
     },
     "execution_count": 105,
     "metadata": {},
     "output_type": "execute_result"
    }
   ],
   "source": [
    "cross_val_score(LogModel,X,y,cv=5).mean()"
   ]
  },
  {
   "cell_type": "markdown",
   "id": "16459252",
   "metadata": {},
   "source": [
    "#    --------------Decision Tree Classification Model ----------------"
   ]
  },
  {
   "cell_type": "code",
   "execution_count": 106,
   "id": "20f7ff38",
   "metadata": {},
   "outputs": [],
   "source": [
    "#Fit the Decision Tree Classification Model\n",
    "from sklearn.tree import DecisionTreeClassifier\n",
    "dtmodel = DecisionTreeClassifier(criterion = \"gini\", random_state = 50)\n",
    "dtmodel.fit(X_train, y_train) \n",
    "  \n",
    "#Predict the value for new, unseen data\n",
    "dt_pred = dtmodel.predict(X_test)\n",
    "\n",
    "# Find Accuracy using accuracy_score method\n",
    "dt_accuracy = round(metrics.accuracy_score(y_test, dt_pred) * 100, 2)"
   ]
  },
  {
   "cell_type": "markdown",
   "id": "e52e04e2",
   "metadata": {},
   "source": [
    "# Test score"
   ]
  },
  {
   "cell_type": "code",
   "execution_count": 107,
   "id": "a688478a",
   "metadata": {},
   "outputs": [
    {
     "data": {
      "text/plain": [
       "0.9636030490896315"
      ]
     },
     "execution_count": 107,
     "metadata": {},
     "output_type": "execute_result"
    }
   ],
   "source": [
    "dtmodel.score(X_test,y_test)"
   ]
  },
  {
   "cell_type": "markdown",
   "id": "99bdc056",
   "metadata": {},
   "source": [
    "# Train Score"
   ]
  },
  {
   "cell_type": "code",
   "execution_count": 108,
   "id": "20a71006",
   "metadata": {},
   "outputs": [
    {
     "data": {
      "text/plain": [
       "0.9659710254500172"
      ]
     },
     "execution_count": 108,
     "metadata": {},
     "output_type": "execute_result"
    }
   ],
   "source": [
    "dtmodel.score(X_train,y_train)"
   ]
  },
  {
   "cell_type": "markdown",
   "id": "b5888975",
   "metadata": {},
   "source": [
    "# Confusion Matrix"
   ]
  },
  {
   "cell_type": "code",
   "execution_count": 109,
   "id": "a2e22414",
   "metadata": {},
   "outputs": [
    {
     "name": "stdout",
     "output_type": "stream",
     "text": [
      "[[53558  2519]\n",
      " [ 1573 54777]]\n"
     ]
    }
   ],
   "source": [
    "print(confusion_matrix(y_test,dt_pred))"
   ]
  },
  {
   "cell_type": "markdown",
   "id": "c23be873",
   "metadata": {},
   "source": [
    "# Accuracy Score"
   ]
  },
  {
   "cell_type": "code",
   "execution_count": 110,
   "id": "880e9068",
   "metadata": {},
   "outputs": [
    {
     "name": "stdout",
     "output_type": "stream",
     "text": [
      "0.9636030490896315\n"
     ]
    }
   ],
   "source": [
    "from sklearn.metrics import accuracy_score\n",
    "print(accuracy_score(y_test, dt_pred))"
   ]
  },
  {
   "cell_type": "markdown",
   "id": "bb5423a4",
   "metadata": {},
   "source": [
    "# classification_report"
   ]
  },
  {
   "cell_type": "code",
   "execution_count": 111,
   "id": "e97a9a7e",
   "metadata": {},
   "outputs": [
    {
     "name": "stdout",
     "output_type": "stream",
     "text": [
      "              precision    recall  f1-score   support\n",
      "\n",
      "           0       0.97      0.96      0.96     56077\n",
      "           1       0.96      0.97      0.96     56350\n",
      "\n",
      "    accuracy                           0.96    112427\n",
      "   macro avg       0.96      0.96      0.96    112427\n",
      "weighted avg       0.96      0.96      0.96    112427\n",
      "\n"
     ]
    }
   ],
   "source": [
    "print(classification_report(y_test,dt_pred))"
   ]
  },
  {
   "cell_type": "markdown",
   "id": "6fd29560",
   "metadata": {},
   "source": [
    "# K_Fold Cross validation "
   ]
  },
  {
   "cell_type": "code",
   "execution_count": 112,
   "id": "d4e8feb2",
   "metadata": {},
   "outputs": [
    {
     "data": {
      "text/plain": [
       "array([0.97998136, 0.98145946, 0.98128274, 0.98012596, 0.98036664])"
      ]
     },
     "execution_count": 112,
     "metadata": {},
     "output_type": "execute_result"
    }
   ],
   "source": [
    "cross_val_score(dtmodel,X,y,cv=5)"
   ]
  },
  {
   "cell_type": "code",
   "execution_count": 113,
   "id": "e62d212b",
   "metadata": {},
   "outputs": [
    {
     "data": {
      "text/plain": [
       "0.9806432324367448"
      ]
     },
     "execution_count": 113,
     "metadata": {},
     "output_type": "execute_result"
    }
   ],
   "source": [
    "cross_val_score(dtmodel,X,y,cv=5).mean()"
   ]
  },
  {
   "cell_type": "markdown",
   "id": "e9945b9b",
   "metadata": {},
   "source": [
    "#  -------------- Random Forest Classification Model --------------"
   ]
  },
  {
   "cell_type": "code",
   "execution_count": 114,
   "id": "cde9e537",
   "metadata": {},
   "outputs": [],
   "source": [
    "#Fit the Random Forest Classification Model\n",
    "from sklearn.ensemble import RandomForestClassifier\n",
    "rfmodel = RandomForestClassifier(n_estimators = 100, criterion = 'entropy', random_state = 0)\n",
    "rfmodel.fit(X_train, y_train) \n",
    "  \n",
    "#Predict the value for new, unseen data\n",
    "rf_pred = rfmodel.predict(X_test)\n",
    "\n",
    "# Find Accuracy using accuracy_score method\n",
    "rf_accuracy = round(metrics.accuracy_score(y_test, rf_pred) * 100, 2)"
   ]
  },
  {
   "cell_type": "markdown",
   "id": "d1160ded",
   "metadata": {},
   "source": [
    "# Test score"
   ]
  },
  {
   "cell_type": "code",
   "execution_count": 115,
   "id": "f7915c00",
   "metadata": {},
   "outputs": [
    {
     "data": {
      "text/plain": [
       "0.9638254156030135"
      ]
     },
     "execution_count": 115,
     "metadata": {},
     "output_type": "execute_result"
    }
   ],
   "source": [
    "rfmodel.score(X_test,y_test)"
   ]
  },
  {
   "cell_type": "markdown",
   "id": "493a613e",
   "metadata": {},
   "source": [
    "# Train Score"
   ]
  },
  {
   "cell_type": "code",
   "execution_count": 116,
   "id": "7f5642d3",
   "metadata": {},
   "outputs": [
    {
     "data": {
      "text/plain": [
       "0.9659688017700493"
      ]
     },
     "execution_count": 116,
     "metadata": {},
     "output_type": "execute_result"
    }
   ],
   "source": [
    "rfmodel.score(X_train,y_train)"
   ]
  },
  {
   "cell_type": "markdown",
   "id": "32649f60",
   "metadata": {},
   "source": [
    "# Confusion Matrix"
   ]
  },
  {
   "cell_type": "code",
   "execution_count": 117,
   "id": "bb8f6f01",
   "metadata": {},
   "outputs": [
    {
     "name": "stdout",
     "output_type": "stream",
     "text": [
      "[[53544  2533]\n",
      " [ 1534 54816]]\n"
     ]
    }
   ],
   "source": [
    "print(confusion_matrix(y_test,rf_pred))"
   ]
  },
  {
   "cell_type": "markdown",
   "id": "500512db",
   "metadata": {},
   "source": [
    "# Accuracy Score"
   ]
  },
  {
   "cell_type": "code",
   "execution_count": 118,
   "id": "9aeb90e1",
   "metadata": {},
   "outputs": [
    {
     "name": "stdout",
     "output_type": "stream",
     "text": [
      "0.9638254156030135\n"
     ]
    }
   ],
   "source": [
    "from sklearn.metrics import accuracy_score\n",
    "print(accuracy_score(y_test, rf_pred))"
   ]
  },
  {
   "cell_type": "markdown",
   "id": "1e5d69fd",
   "metadata": {},
   "source": [
    "# classification_report"
   ]
  },
  {
   "cell_type": "code",
   "execution_count": 119,
   "id": "c7a8713c",
   "metadata": {},
   "outputs": [
    {
     "name": "stdout",
     "output_type": "stream",
     "text": [
      "              precision    recall  f1-score   support\n",
      "\n",
      "           0       0.97      0.95      0.96     56077\n",
      "           1       0.96      0.97      0.96     56350\n",
      "\n",
      "    accuracy                           0.96    112427\n",
      "   macro avg       0.96      0.96      0.96    112427\n",
      "weighted avg       0.96      0.96      0.96    112427\n",
      "\n"
     ]
    }
   ],
   "source": [
    "print(classification_report(y_test,rf_pred))"
   ]
  },
  {
   "cell_type": "markdown",
   "id": "f04ed75c",
   "metadata": {},
   "source": [
    "# K_Fold Cross validation "
   ]
  },
  {
   "cell_type": "markdown",
   "id": "5279e4f0",
   "metadata": {},
   "source": [
    "cross_val_score(rfmodel,X,y,cv=5)"
   ]
  },
  {
   "cell_type": "markdown",
   "id": "ae005bbc",
   "metadata": {},
   "source": [
    "cross_val_score(rfmodel,X,y,cv=5).mean()"
   ]
  },
  {
   "cell_type": "markdown",
   "id": "a99455f8",
   "metadata": {},
   "source": [
    "# Print all the scores at a place "
   ]
  },
  {
   "cell_type": "code",
   "execution_count": 120,
   "id": "ad4228fa",
   "metadata": {},
   "outputs": [
    {
     "data": {
      "text/html": [
       "<div>\n",
       "<style scoped>\n",
       "    .dataframe tbody tr th:only-of-type {\n",
       "        vertical-align: middle;\n",
       "    }\n",
       "\n",
       "    .dataframe tbody tr th {\n",
       "        vertical-align: top;\n",
       "    }\n",
       "\n",
       "    .dataframe thead th {\n",
       "        text-align: right;\n",
       "    }\n",
       "</style>\n",
       "<table border=\"1\" class=\"dataframe\">\n",
       "  <thead>\n",
       "    <tr style=\"text-align: right;\">\n",
       "      <th></th>\n",
       "      <th>Score</th>\n",
       "      <th>Model</th>\n",
       "    </tr>\n",
       "  </thead>\n",
       "  <tbody>\n",
       "    <tr>\n",
       "      <th>0</th>\n",
       "      <td>96.38</td>\n",
       "      <td>Random Forest</td>\n",
       "    </tr>\n",
       "    <tr>\n",
       "      <th>1</th>\n",
       "      <td>96.36</td>\n",
       "      <td>Decision Tree</td>\n",
       "    </tr>\n",
       "    <tr>\n",
       "      <th>2</th>\n",
       "      <td>88.15</td>\n",
       "      <td>Logistic Regression</td>\n",
       "    </tr>\n",
       "  </tbody>\n",
       "</table>\n",
       "</div>"
      ],
      "text/plain": [
       "   Score                Model\n",
       "0  96.38        Random Forest\n",
       "1  96.36        Decision Tree\n",
       "2  88.15  Logistic Regression"
      ]
     },
     "execution_count": 120,
     "metadata": {},
     "output_type": "execute_result"
    }
   ],
   "source": [
    "# Compare Several models according to their Accuracies\n",
    "Model_Comparison = pd.DataFrame({\n",
    "    'Model': ['Logistic Regression', \n",
    "              'Decision Tree', 'Random Forest'],\n",
    "    'Score': [LogModel_Accuracy, \n",
    "              dt_accuracy, rf_accuracy]})\n",
    "Model_Comparison_df = Model_Comparison.sort_values(by='Score', ascending=False)\n",
    "Model_Comparison_df = Model_Comparison_df.set_index('Score')\n",
    "Model_Comparison_df.reset_index()"
   ]
  },
  {
   "cell_type": "code",
   "execution_count": 121,
   "id": "734cd48e",
   "metadata": {},
   "outputs": [
    {
     "data": {
      "text/html": [
       "<div>\n",
       "<style scoped>\n",
       "    .dataframe tbody tr th:only-of-type {\n",
       "        vertical-align: middle;\n",
       "    }\n",
       "\n",
       "    .dataframe tbody tr th {\n",
       "        vertical-align: top;\n",
       "    }\n",
       "\n",
       "    .dataframe thead th {\n",
       "        text-align: right;\n",
       "    }\n",
       "</style>\n",
       "<table border=\"1\" class=\"dataframe\">\n",
       "  <thead>\n",
       "    <tr style=\"text-align: right;\">\n",
       "      <th></th>\n",
       "      <th>Account Hashed</th>\n",
       "      <th>Permanent Close Reason Name</th>\n",
       "      <th>Product Name</th>\n",
       "      <th>account_age</th>\n",
       "      <th>Sum Yield 12 months %</th>\n",
       "      <th>Sum of Cash Amount 12 months $ From Close Date</th>\n",
       "      <th>Avg Bal Amt 12 mnths $</th>\n",
       "      <th>Months Active during 12 months # From Close Date</th>\n",
       "      <th>Sum Sale Amount 12 months $</th>\n",
       "      <th>Sum of Sale Count 12 months # From Close Date</th>\n",
       "    </tr>\n",
       "  </thead>\n",
       "  <tbody>\n",
       "    <tr>\n",
       "      <th>0</th>\n",
       "      <td>000066ba2744aa38935bb5ba5e79365a</td>\n",
       "      <td>NaN</td>\n",
       "      <td>Gold Rewards/Centra</td>\n",
       "      <td>47</td>\n",
       "      <td>0.12</td>\n",
       "      <td>1440.0</td>\n",
       "      <td>5167.0</td>\n",
       "      <td>12.0</td>\n",
       "      <td>3078.0</td>\n",
       "      <td>69.0</td>\n",
       "    </tr>\n",
       "    <tr>\n",
       "      <th>1</th>\n",
       "      <td>0001911c5989f23866242c1ee22b935f</td>\n",
       "      <td>NaN</td>\n",
       "      <td>Gold Travel Rewards</td>\n",
       "      <td>47</td>\n",
       "      <td>0.00</td>\n",
       "      <td>0.0</td>\n",
       "      <td>2523.0</td>\n",
       "      <td>12.0</td>\n",
       "      <td>34704.0</td>\n",
       "      <td>325.0</td>\n",
       "    </tr>\n",
       "    <tr>\n",
       "      <th>2</th>\n",
       "      <td>0001dbb3a11b021139b3434f3e0482ac</td>\n",
       "      <td>NaN</td>\n",
       "      <td>Classic Cash Back</td>\n",
       "      <td>42</td>\n",
       "      <td>0.13</td>\n",
       "      <td>0.0</td>\n",
       "      <td>843.0</td>\n",
       "      <td>5.0</td>\n",
       "      <td>5558.0</td>\n",
       "      <td>6.0</td>\n",
       "    </tr>\n",
       "    <tr>\n",
       "      <th>3</th>\n",
       "      <td>00037d7b00fdeaeeb14a3476ee825291</td>\n",
       "      <td>NaN</td>\n",
       "      <td>Classic Cash Back</td>\n",
       "      <td>47</td>\n",
       "      <td>0.20</td>\n",
       "      <td>0.0</td>\n",
       "      <td>2933.0</td>\n",
       "      <td>12.0</td>\n",
       "      <td>69.0</td>\n",
       "      <td>1.0</td>\n",
       "    </tr>\n",
       "    <tr>\n",
       "      <th>4</th>\n",
       "      <td>0004cb1326397cd4239e8a9544eefce0</td>\n",
       "      <td>NaN</td>\n",
       "      <td>Classic</td>\n",
       "      <td>47</td>\n",
       "      <td>0.01</td>\n",
       "      <td>84.0</td>\n",
       "      <td>186.0</td>\n",
       "      <td>12.0</td>\n",
       "      <td>6203.0</td>\n",
       "      <td>300.0</td>\n",
       "    </tr>\n",
       "  </tbody>\n",
       "</table>\n",
       "</div>"
      ],
      "text/plain": [
       "                     Account Hashed Permanent Close Reason Name  \\\n",
       "0  000066ba2744aa38935bb5ba5e79365a                         NaN   \n",
       "1  0001911c5989f23866242c1ee22b935f                         NaN   \n",
       "2  0001dbb3a11b021139b3434f3e0482ac                         NaN   \n",
       "3  00037d7b00fdeaeeb14a3476ee825291                         NaN   \n",
       "4  0004cb1326397cd4239e8a9544eefce0                         NaN   \n",
       "\n",
       "          Product Name  account_age  Sum Yield 12 months %  \\\n",
       "0  Gold Rewards/Centra           47                   0.12   \n",
       "1  Gold Travel Rewards           47                   0.00   \n",
       "2    Classic Cash Back           42                   0.13   \n",
       "3    Classic Cash Back           47                   0.20   \n",
       "4              Classic           47                   0.01   \n",
       "\n",
       "   Sum of Cash Amount 12 months $ From Close Date  Avg Bal Amt 12 mnths $  \\\n",
       "0                                          1440.0                  5167.0   \n",
       "1                                             0.0                  2523.0   \n",
       "2                                             0.0                   843.0   \n",
       "3                                             0.0                  2933.0   \n",
       "4                                            84.0                   186.0   \n",
       "\n",
       "   Months Active during 12 months # From Close Date  \\\n",
       "0                                              12.0   \n",
       "1                                              12.0   \n",
       "2                                               5.0   \n",
       "3                                              12.0   \n",
       "4                                              12.0   \n",
       "\n",
       "   Sum Sale Amount 12 months $  Sum of Sale Count 12 months # From Close Date  \n",
       "0                       3078.0                                           69.0  \n",
       "1                      34704.0                                          325.0  \n",
       "2                       5558.0                                            6.0  \n",
       "3                         69.0                                            1.0  \n",
       "4                       6203.0                                          300.0  "
      ]
     },
     "execution_count": 121,
     "metadata": {},
     "output_type": "execute_result"
    }
   ],
   "source": [
    "mdf3.head()"
   ]
  },
  {
   "cell_type": "code",
   "execution_count": 122,
   "id": "23d20e9b",
   "metadata": {},
   "outputs": [],
   "source": [
    "# Predict the probability of Churn of each customer\n",
    "mdf2['Probability_of_Churn'] = rfmodel.predict_proba(mdf2[X_test.columns])[:,1]"
   ]
  },
  {
   "cell_type": "markdown",
   "id": "92895cc4",
   "metadata": {},
   "source": [
    "mdf2['Probability_of_Churn'] = rfmodel.predict_proba(mdf2[X_test.columns])[:,1]"
   ]
  },
  {
   "cell_type": "code",
   "execution_count": 123,
   "id": "3992ece1",
   "metadata": {},
   "outputs": [],
   "source": [
    "# Predicted value stroing into data frame\n",
    "mdf2['Predicted_value'] = rfmodel.predict(X)"
   ]
  },
  {
   "cell_type": "code",
   "execution_count": 124,
   "id": "775766e3",
   "metadata": {},
   "outputs": [],
   "source": [
    "# Create a Dataframe showcasing probability of Churn of each customer\n",
    "mdf3['Probablity of churn']= mdf2[['Probability_of_Churn']]"
   ]
  },
  {
   "cell_type": "code",
   "execution_count": 125,
   "id": "29aa4d2e",
   "metadata": {},
   "outputs": [],
   "source": [
    "mdf3['Predicted_value']= mdf2[['Predicted_value']]"
   ]
  },
  {
   "cell_type": "markdown",
   "id": "3c7e59bc",
   "metadata": {},
   "source": [
    "# ------Testing  Start -----"
   ]
  },
  {
   "cell_type": "code",
   "execution_count": 126,
   "id": "b2a63a90",
   "metadata": {},
   "outputs": [],
   "source": [
    "# Predicted value stroing into data frame\n",
    "mdf2['Predicted_value_testing']= rfmodel.predict(mdf2[X_test.columns])"
   ]
  },
  {
   "cell_type": "code",
   "execution_count": 127,
   "id": "189032d3",
   "metadata": {},
   "outputs": [],
   "source": [
    "mdf3['Predicted_value_testing'] = mdf2['Predicted_value_testing']"
   ]
  },
  {
   "cell_type": "markdown",
   "id": "fede3c82",
   "metadata": {},
   "source": [
    "# ------Testing  End-----"
   ]
  },
  {
   "cell_type": "code",
   "execution_count": 128,
   "id": "b6af2c6b",
   "metadata": {},
   "outputs": [
    {
     "data": {
      "text/html": [
       "<div>\n",
       "<style scoped>\n",
       "    .dataframe tbody tr th:only-of-type {\n",
       "        vertical-align: middle;\n",
       "    }\n",
       "\n",
       "    .dataframe tbody tr th {\n",
       "        vertical-align: top;\n",
       "    }\n",
       "\n",
       "    .dataframe thead th {\n",
       "        text-align: right;\n",
       "    }\n",
       "</style>\n",
       "<table border=\"1\" class=\"dataframe\">\n",
       "  <thead>\n",
       "    <tr style=\"text-align: right;\">\n",
       "      <th></th>\n",
       "      <th>Account Hashed</th>\n",
       "      <th>Permanent Close Reason Name</th>\n",
       "      <th>Product Name</th>\n",
       "      <th>account_age</th>\n",
       "      <th>Sum Yield 12 months %</th>\n",
       "      <th>Sum of Cash Amount 12 months $ From Close Date</th>\n",
       "      <th>Avg Bal Amt 12 mnths $</th>\n",
       "      <th>Months Active during 12 months # From Close Date</th>\n",
       "      <th>Sum Sale Amount 12 months $</th>\n",
       "      <th>Sum of Sale Count 12 months # From Close Date</th>\n",
       "      <th>Probablity of churn</th>\n",
       "      <th>Predicted_value</th>\n",
       "      <th>Predicted_value_testing</th>\n",
       "    </tr>\n",
       "  </thead>\n",
       "  <tbody>\n",
       "    <tr>\n",
       "      <th>0</th>\n",
       "      <td>000066ba2744aa38935bb5ba5e79365a</td>\n",
       "      <td>NaN</td>\n",
       "      <td>Gold Rewards/Centra</td>\n",
       "      <td>47</td>\n",
       "      <td>0.12</td>\n",
       "      <td>1440.0</td>\n",
       "      <td>5167.0</td>\n",
       "      <td>12.0</td>\n",
       "      <td>3078.0</td>\n",
       "      <td>69.0</td>\n",
       "      <td>0.010000</td>\n",
       "      <td>0</td>\n",
       "      <td>0</td>\n",
       "    </tr>\n",
       "    <tr>\n",
       "      <th>1</th>\n",
       "      <td>0001911c5989f23866242c1ee22b935f</td>\n",
       "      <td>NaN</td>\n",
       "      <td>Gold Travel Rewards</td>\n",
       "      <td>47</td>\n",
       "      <td>0.00</td>\n",
       "      <td>0.0</td>\n",
       "      <td>2523.0</td>\n",
       "      <td>12.0</td>\n",
       "      <td>34704.0</td>\n",
       "      <td>325.0</td>\n",
       "      <td>0.000000</td>\n",
       "      <td>0</td>\n",
       "      <td>0</td>\n",
       "    </tr>\n",
       "    <tr>\n",
       "      <th>2</th>\n",
       "      <td>0001dbb3a11b021139b3434f3e0482ac</td>\n",
       "      <td>NaN</td>\n",
       "      <td>Classic Cash Back</td>\n",
       "      <td>42</td>\n",
       "      <td>0.13</td>\n",
       "      <td>0.0</td>\n",
       "      <td>843.0</td>\n",
       "      <td>5.0</td>\n",
       "      <td>5558.0</td>\n",
       "      <td>6.0</td>\n",
       "      <td>0.030000</td>\n",
       "      <td>0</td>\n",
       "      <td>0</td>\n",
       "    </tr>\n",
       "    <tr>\n",
       "      <th>3</th>\n",
       "      <td>00037d7b00fdeaeeb14a3476ee825291</td>\n",
       "      <td>NaN</td>\n",
       "      <td>Classic Cash Back</td>\n",
       "      <td>47</td>\n",
       "      <td>0.20</td>\n",
       "      <td>0.0</td>\n",
       "      <td>2933.0</td>\n",
       "      <td>12.0</td>\n",
       "      <td>69.0</td>\n",
       "      <td>1.0</td>\n",
       "      <td>0.000000</td>\n",
       "      <td>0</td>\n",
       "      <td>0</td>\n",
       "    </tr>\n",
       "    <tr>\n",
       "      <th>4</th>\n",
       "      <td>0004cb1326397cd4239e8a9544eefce0</td>\n",
       "      <td>NaN</td>\n",
       "      <td>Classic</td>\n",
       "      <td>47</td>\n",
       "      <td>0.01</td>\n",
       "      <td>84.0</td>\n",
       "      <td>186.0</td>\n",
       "      <td>12.0</td>\n",
       "      <td>6203.0</td>\n",
       "      <td>300.0</td>\n",
       "      <td>0.000000</td>\n",
       "      <td>0</td>\n",
       "      <td>0</td>\n",
       "    </tr>\n",
       "    <tr>\n",
       "      <th>5</th>\n",
       "      <td>0008ee5d7da360c90c8e819222709bb5</td>\n",
       "      <td>NaN</td>\n",
       "      <td>Classic</td>\n",
       "      <td>43</td>\n",
       "      <td>0.08</td>\n",
       "      <td>0.0</td>\n",
       "      <td>416.0</td>\n",
       "      <td>12.0</td>\n",
       "      <td>5167.0</td>\n",
       "      <td>146.0</td>\n",
       "      <td>0.000000</td>\n",
       "      <td>0</td>\n",
       "      <td>0</td>\n",
       "    </tr>\n",
       "    <tr>\n",
       "      <th>6</th>\n",
       "      <td>00090cd835ceb13dab48cf6e2ea5c1c7</td>\n",
       "      <td>NaN</td>\n",
       "      <td>Classic Cash Back</td>\n",
       "      <td>47</td>\n",
       "      <td>0.00</td>\n",
       "      <td>0.0</td>\n",
       "      <td>591.0</td>\n",
       "      <td>11.0</td>\n",
       "      <td>8509.0</td>\n",
       "      <td>21.0</td>\n",
       "      <td>0.000000</td>\n",
       "      <td>0</td>\n",
       "      <td>0</td>\n",
       "    </tr>\n",
       "    <tr>\n",
       "      <th>7</th>\n",
       "      <td>000958e193401a602c2e06fff04304b5</td>\n",
       "      <td>NaN</td>\n",
       "      <td>Classic Cash Back</td>\n",
       "      <td>44</td>\n",
       "      <td>-0.01</td>\n",
       "      <td>0.0</td>\n",
       "      <td>-1056.0</td>\n",
       "      <td>12.0</td>\n",
       "      <td>5511.0</td>\n",
       "      <td>69.0</td>\n",
       "      <td>0.000000</td>\n",
       "      <td>0</td>\n",
       "      <td>0</td>\n",
       "    </tr>\n",
       "    <tr>\n",
       "      <th>8</th>\n",
       "      <td>0009bc407ca0cabe082157f14f30cb99</td>\n",
       "      <td>NaN</td>\n",
       "      <td>Classic Cash Back</td>\n",
       "      <td>47</td>\n",
       "      <td>0.00</td>\n",
       "      <td>0.0</td>\n",
       "      <td>2599.0</td>\n",
       "      <td>12.0</td>\n",
       "      <td>32111.0</td>\n",
       "      <td>480.0</td>\n",
       "      <td>0.000000</td>\n",
       "      <td>0</td>\n",
       "      <td>0</td>\n",
       "    </tr>\n",
       "    <tr>\n",
       "      <th>9</th>\n",
       "      <td>0009c7a9774c05d692ea9a2fe8877176</td>\n",
       "      <td>NaN</td>\n",
       "      <td>Gold Rewards/Centra</td>\n",
       "      <td>40</td>\n",
       "      <td>0.11</td>\n",
       "      <td>0.0</td>\n",
       "      <td>2673.0</td>\n",
       "      <td>12.0</td>\n",
       "      <td>9271.0</td>\n",
       "      <td>90.0</td>\n",
       "      <td>0.000000</td>\n",
       "      <td>0</td>\n",
       "      <td>0</td>\n",
       "    </tr>\n",
       "    <tr>\n",
       "      <th>10</th>\n",
       "      <td>000a49db3dda8ac2620577ee3922bbf6</td>\n",
       "      <td>NaN</td>\n",
       "      <td>Classic Cash Back</td>\n",
       "      <td>47</td>\n",
       "      <td>0.21</td>\n",
       "      <td>0.0</td>\n",
       "      <td>1508.0</td>\n",
       "      <td>10.0</td>\n",
       "      <td>1627.0</td>\n",
       "      <td>33.0</td>\n",
       "      <td>0.010000</td>\n",
       "      <td>0</td>\n",
       "      <td>0</td>\n",
       "    </tr>\n",
       "    <tr>\n",
       "      <th>11</th>\n",
       "      <td>000b69f71466f38fe5488b5edc9f75a4</td>\n",
       "      <td>NaN</td>\n",
       "      <td>Classic</td>\n",
       "      <td>40</td>\n",
       "      <td>0.00</td>\n",
       "      <td>0.0</td>\n",
       "      <td>-395.0</td>\n",
       "      <td>12.0</td>\n",
       "      <td>0.0</td>\n",
       "      <td>0.0</td>\n",
       "      <td>0.045443</td>\n",
       "      <td>0</td>\n",
       "      <td>0</td>\n",
       "    </tr>\n",
       "    <tr>\n",
       "      <th>12</th>\n",
       "      <td>000c0cf8efc3e19b1fa362f5983a17fa</td>\n",
       "      <td>NaN</td>\n",
       "      <td>Classic</td>\n",
       "      <td>31</td>\n",
       "      <td>0.00</td>\n",
       "      <td>0.0</td>\n",
       "      <td>221.0</td>\n",
       "      <td>12.0</td>\n",
       "      <td>2904.0</td>\n",
       "      <td>63.0</td>\n",
       "      <td>0.000000</td>\n",
       "      <td>0</td>\n",
       "      <td>0</td>\n",
       "    </tr>\n",
       "    <tr>\n",
       "      <th>13</th>\n",
       "      <td>000d15094d532c73d1eece960add9d9b</td>\n",
       "      <td>NaN</td>\n",
       "      <td>Classic Cash Back</td>\n",
       "      <td>25</td>\n",
       "      <td>0.00</td>\n",
       "      <td>0.0</td>\n",
       "      <td>262.0</td>\n",
       "      <td>9.0</td>\n",
       "      <td>5636.0</td>\n",
       "      <td>87.0</td>\n",
       "      <td>0.010000</td>\n",
       "      <td>0</td>\n",
       "      <td>0</td>\n",
       "    </tr>\n",
       "    <tr>\n",
       "      <th>14</th>\n",
       "      <td>000ecfc596ba2e12c1d03333b526c97b</td>\n",
       "      <td>NaN</td>\n",
       "      <td>Classic Cash Back</td>\n",
       "      <td>47</td>\n",
       "      <td>NaN</td>\n",
       "      <td>NaN</td>\n",
       "      <td>NaN</td>\n",
       "      <td>1.0</td>\n",
       "      <td>NaN</td>\n",
       "      <td>NaN</td>\n",
       "      <td>0.268258</td>\n",
       "      <td>0</td>\n",
       "      <td>0</td>\n",
       "    </tr>\n",
       "    <tr>\n",
       "      <th>15</th>\n",
       "      <td>000ef253249122834928c38803591cdd</td>\n",
       "      <td>NaN</td>\n",
       "      <td>Gold Rewards/Centra</td>\n",
       "      <td>36</td>\n",
       "      <td>0.11</td>\n",
       "      <td>0.0</td>\n",
       "      <td>1214.0</td>\n",
       "      <td>12.0</td>\n",
       "      <td>7017.0</td>\n",
       "      <td>91.0</td>\n",
       "      <td>0.000000</td>\n",
       "      <td>0</td>\n",
       "      <td>0</td>\n",
       "    </tr>\n",
       "    <tr>\n",
       "      <th>16</th>\n",
       "      <td>000f637f8b34c819c186e9ad51aa78d1</td>\n",
       "      <td>Client Request</td>\n",
       "      <td>Gold Rewards/Centra</td>\n",
       "      <td>16</td>\n",
       "      <td>0.19</td>\n",
       "      <td>0.0</td>\n",
       "      <td>1817.0</td>\n",
       "      <td>11.0</td>\n",
       "      <td>1373.0</td>\n",
       "      <td>32.0</td>\n",
       "      <td>0.600000</td>\n",
       "      <td>1</td>\n",
       "      <td>1</td>\n",
       "    </tr>\n",
       "    <tr>\n",
       "      <th>17</th>\n",
       "      <td>000fc6ff2755852032417459bd07057f</td>\n",
       "      <td>NaN</td>\n",
       "      <td>Classic</td>\n",
       "      <td>43</td>\n",
       "      <td>0.12</td>\n",
       "      <td>0.0</td>\n",
       "      <td>691.0</td>\n",
       "      <td>12.0</td>\n",
       "      <td>2826.0</td>\n",
       "      <td>55.0</td>\n",
       "      <td>0.000000</td>\n",
       "      <td>0</td>\n",
       "      <td>0</td>\n",
       "    </tr>\n",
       "    <tr>\n",
       "      <th>18</th>\n",
       "      <td>001064b169e8a2ed90140df4a03eafe7</td>\n",
       "      <td>NaN</td>\n",
       "      <td>Classic</td>\n",
       "      <td>47</td>\n",
       "      <td>0.13</td>\n",
       "      <td>0.0</td>\n",
       "      <td>6058.0</td>\n",
       "      <td>12.0</td>\n",
       "      <td>6141.0</td>\n",
       "      <td>173.0</td>\n",
       "      <td>0.000000</td>\n",
       "      <td>0</td>\n",
       "      <td>0</td>\n",
       "    </tr>\n",
       "    <tr>\n",
       "      <th>19</th>\n",
       "      <td>00112e739a94e7bf78d0535fe25bbc8e</td>\n",
       "      <td>NaN</td>\n",
       "      <td>World</td>\n",
       "      <td>47</td>\n",
       "      <td>0.23</td>\n",
       "      <td>0.0</td>\n",
       "      <td>4452.0</td>\n",
       "      <td>12.0</td>\n",
       "      <td>0.0</td>\n",
       "      <td>1.0</td>\n",
       "      <td>0.010000</td>\n",
       "      <td>0</td>\n",
       "      <td>0</td>\n",
       "    </tr>\n",
       "    <tr>\n",
       "      <th>20</th>\n",
       "      <td>0012f66f76a7695f598fff9284a75133</td>\n",
       "      <td>NaN</td>\n",
       "      <td>Classic Cash Back</td>\n",
       "      <td>47</td>\n",
       "      <td>0.00</td>\n",
       "      <td>0.0</td>\n",
       "      <td>703.0</td>\n",
       "      <td>12.0</td>\n",
       "      <td>22100.0</td>\n",
       "      <td>197.0</td>\n",
       "      <td>0.000000</td>\n",
       "      <td>0</td>\n",
       "      <td>0</td>\n",
       "    </tr>\n",
       "    <tr>\n",
       "      <th>21</th>\n",
       "      <td>0013cb7bd993f3f6fa6af47b92451f9b</td>\n",
       "      <td>NaN</td>\n",
       "      <td>Classic Cash Back</td>\n",
       "      <td>47</td>\n",
       "      <td>0.00</td>\n",
       "      <td>0.0</td>\n",
       "      <td>1202.0</td>\n",
       "      <td>12.0</td>\n",
       "      <td>14927.0</td>\n",
       "      <td>290.0</td>\n",
       "      <td>0.000000</td>\n",
       "      <td>0</td>\n",
       "      <td>0</td>\n",
       "    </tr>\n",
       "    <tr>\n",
       "      <th>22</th>\n",
       "      <td>00149942a5fe7a8c483b6272c425d9ac</td>\n",
       "      <td>NaN</td>\n",
       "      <td>Classic</td>\n",
       "      <td>36</td>\n",
       "      <td>0.00</td>\n",
       "      <td>0.0</td>\n",
       "      <td>181.0</td>\n",
       "      <td>12.0</td>\n",
       "      <td>2176.0</td>\n",
       "      <td>57.0</td>\n",
       "      <td>0.000000</td>\n",
       "      <td>0</td>\n",
       "      <td>0</td>\n",
       "    </tr>\n",
       "    <tr>\n",
       "      <th>23</th>\n",
       "      <td>0015258a872d7cda88682e94eac05184</td>\n",
       "      <td>NaN</td>\n",
       "      <td>Gold Rewards/Centra</td>\n",
       "      <td>46</td>\n",
       "      <td>0.11</td>\n",
       "      <td>0.0</td>\n",
       "      <td>2165.0</td>\n",
       "      <td>12.0</td>\n",
       "      <td>11370.0</td>\n",
       "      <td>229.0</td>\n",
       "      <td>0.000000</td>\n",
       "      <td>0</td>\n",
       "      <td>0</td>\n",
       "    </tr>\n",
       "    <tr>\n",
       "      <th>24</th>\n",
       "      <td>001556c13abc36598dc8469890b8e0b2</td>\n",
       "      <td>NaN</td>\n",
       "      <td>Gold Rewards/Centra</td>\n",
       "      <td>40</td>\n",
       "      <td>0.00</td>\n",
       "      <td>0.0</td>\n",
       "      <td>820.0</td>\n",
       "      <td>12.0</td>\n",
       "      <td>28957.0</td>\n",
       "      <td>270.0</td>\n",
       "      <td>0.000000</td>\n",
       "      <td>0</td>\n",
       "      <td>0</td>\n",
       "    </tr>\n",
       "    <tr>\n",
       "      <th>25</th>\n",
       "      <td>0015f2ef54d6f51ec15cea602bc5b9f6</td>\n",
       "      <td>NaN</td>\n",
       "      <td>Classic Cash Back</td>\n",
       "      <td>28</td>\n",
       "      <td>NaN</td>\n",
       "      <td>NaN</td>\n",
       "      <td>NaN</td>\n",
       "      <td>NaN</td>\n",
       "      <td>NaN</td>\n",
       "      <td>NaN</td>\n",
       "      <td>0.379794</td>\n",
       "      <td>0</td>\n",
       "      <td>0</td>\n",
       "    </tr>\n",
       "    <tr>\n",
       "      <th>26</th>\n",
       "      <td>00161f15ffdc363bb7cc5805b3eddcb5</td>\n",
       "      <td>NaN</td>\n",
       "      <td>Classic Cash Back</td>\n",
       "      <td>47</td>\n",
       "      <td>0.00</td>\n",
       "      <td>0.0</td>\n",
       "      <td>503.0</td>\n",
       "      <td>12.0</td>\n",
       "      <td>6135.0</td>\n",
       "      <td>62.0</td>\n",
       "      <td>0.000000</td>\n",
       "      <td>0</td>\n",
       "      <td>0</td>\n",
       "    </tr>\n",
       "    <tr>\n",
       "      <th>27</th>\n",
       "      <td>001627d41c3ff01a8c872a77354913b9</td>\n",
       "      <td>NaN</td>\n",
       "      <td>Gold Rewards/Centra</td>\n",
       "      <td>47</td>\n",
       "      <td>0.10</td>\n",
       "      <td>0.0</td>\n",
       "      <td>4371.0</td>\n",
       "      <td>12.0</td>\n",
       "      <td>26057.0</td>\n",
       "      <td>934.0</td>\n",
       "      <td>0.000000</td>\n",
       "      <td>0</td>\n",
       "      <td>0</td>\n",
       "    </tr>\n",
       "    <tr>\n",
       "      <th>28</th>\n",
       "      <td>001653dc036e4808decd3ca4d715a95c</td>\n",
       "      <td>NaN</td>\n",
       "      <td>Gold Travel Rewards</td>\n",
       "      <td>47</td>\n",
       "      <td>0.01</td>\n",
       "      <td>0.0</td>\n",
       "      <td>409.0</td>\n",
       "      <td>12.0</td>\n",
       "      <td>6258.0</td>\n",
       "      <td>110.0</td>\n",
       "      <td>0.000000</td>\n",
       "      <td>0</td>\n",
       "      <td>0</td>\n",
       "    </tr>\n",
       "    <tr>\n",
       "      <th>29</th>\n",
       "      <td>0017f0b738a80de896448110c2b83a7f</td>\n",
       "      <td>NaN</td>\n",
       "      <td>Classic Cash Back</td>\n",
       "      <td>45</td>\n",
       "      <td>0.20</td>\n",
       "      <td>12317.0</td>\n",
       "      <td>4168.0</td>\n",
       "      <td>12.0</td>\n",
       "      <td>3178.0</td>\n",
       "      <td>53.0</td>\n",
       "      <td>0.000000</td>\n",
       "      <td>0</td>\n",
       "      <td>0</td>\n",
       "    </tr>\n",
       "    <tr>\n",
       "      <th>30</th>\n",
       "      <td>0018425cda150dfdd0356f347abede3a</td>\n",
       "      <td>NaN</td>\n",
       "      <td>Classic</td>\n",
       "      <td>15</td>\n",
       "      <td>0.00</td>\n",
       "      <td>0.0</td>\n",
       "      <td>-336.0</td>\n",
       "      <td>11.0</td>\n",
       "      <td>6722.0</td>\n",
       "      <td>73.0</td>\n",
       "      <td>0.000000</td>\n",
       "      <td>0</td>\n",
       "      <td>0</td>\n",
       "    </tr>\n",
       "    <tr>\n",
       "      <th>31</th>\n",
       "      <td>001853ef5f23e03372ff3e77a5c629b3</td>\n",
       "      <td>NaN</td>\n",
       "      <td>Classic Cash Back</td>\n",
       "      <td>47</td>\n",
       "      <td>0.00</td>\n",
       "      <td>0.0</td>\n",
       "      <td>633.0</td>\n",
       "      <td>12.0</td>\n",
       "      <td>34530.0</td>\n",
       "      <td>118.0</td>\n",
       "      <td>0.000000</td>\n",
       "      <td>0</td>\n",
       "      <td>0</td>\n",
       "    </tr>\n",
       "    <tr>\n",
       "      <th>32</th>\n",
       "      <td>001883d800f25e36aad6424b3dc32b62</td>\n",
       "      <td>NaN</td>\n",
       "      <td>Gold Rewards/Centra</td>\n",
       "      <td>47</td>\n",
       "      <td>0.05</td>\n",
       "      <td>0.0</td>\n",
       "      <td>201.0</td>\n",
       "      <td>12.0</td>\n",
       "      <td>3878.0</td>\n",
       "      <td>30.0</td>\n",
       "      <td>0.000000</td>\n",
       "      <td>0</td>\n",
       "      <td>0</td>\n",
       "    </tr>\n",
       "    <tr>\n",
       "      <th>33</th>\n",
       "      <td>0019b8c8ceef70f54f583fe79fcc2bf7</td>\n",
       "      <td>Client Request</td>\n",
       "      <td>Gold Rewards/Centra</td>\n",
       "      <td>47</td>\n",
       "      <td>0.08</td>\n",
       "      <td>0.0</td>\n",
       "      <td>26.0</td>\n",
       "      <td>1.0</td>\n",
       "      <td>0.0</td>\n",
       "      <td>1.0</td>\n",
       "      <td>1.000000</td>\n",
       "      <td>1</td>\n",
       "      <td>1</td>\n",
       "    </tr>\n",
       "    <tr>\n",
       "      <th>34</th>\n",
       "      <td>001a2ad0f9b6e46dfe704a431bf20070</td>\n",
       "      <td>NaN</td>\n",
       "      <td>Classic Cash Back</td>\n",
       "      <td>43</td>\n",
       "      <td>0.20</td>\n",
       "      <td>0.0</td>\n",
       "      <td>1015.0</td>\n",
       "      <td>12.0</td>\n",
       "      <td>5531.0</td>\n",
       "      <td>94.0</td>\n",
       "      <td>0.000000</td>\n",
       "      <td>0</td>\n",
       "      <td>0</td>\n",
       "    </tr>\n",
       "    <tr>\n",
       "      <th>35</th>\n",
       "      <td>001a5cd22cb7b1dc8a2abebdbc78ae73</td>\n",
       "      <td>NaN</td>\n",
       "      <td>Classic Cash Back</td>\n",
       "      <td>29</td>\n",
       "      <td>0.20</td>\n",
       "      <td>0.0</td>\n",
       "      <td>3985.0</td>\n",
       "      <td>12.0</td>\n",
       "      <td>3902.0</td>\n",
       "      <td>34.0</td>\n",
       "      <td>0.000000</td>\n",
       "      <td>0</td>\n",
       "      <td>0</td>\n",
       "    </tr>\n",
       "    <tr>\n",
       "      <th>36</th>\n",
       "      <td>001afad8adb44a6f8b43f620807c22bb</td>\n",
       "      <td>NaN</td>\n",
       "      <td>Classic Cash Back</td>\n",
       "      <td>47</td>\n",
       "      <td>0.00</td>\n",
       "      <td>0.0</td>\n",
       "      <td>126.0</td>\n",
       "      <td>11.0</td>\n",
       "      <td>1586.0</td>\n",
       "      <td>14.0</td>\n",
       "      <td>0.000000</td>\n",
       "      <td>0</td>\n",
       "      <td>0</td>\n",
       "    </tr>\n",
       "    <tr>\n",
       "      <th>37</th>\n",
       "      <td>001b16321066f1566bffc6ec9ac12eb7</td>\n",
       "      <td>NaN</td>\n",
       "      <td>Classic</td>\n",
       "      <td>39</td>\n",
       "      <td>0.11</td>\n",
       "      <td>0.0</td>\n",
       "      <td>927.0</td>\n",
       "      <td>11.0</td>\n",
       "      <td>9710.0</td>\n",
       "      <td>34.0</td>\n",
       "      <td>0.000000</td>\n",
       "      <td>0</td>\n",
       "      <td>0</td>\n",
       "    </tr>\n",
       "    <tr>\n",
       "      <th>38</th>\n",
       "      <td>001b4ffc94e12d1dbf143d2c672d2ed7</td>\n",
       "      <td>NaN</td>\n",
       "      <td>Classic Cash Back</td>\n",
       "      <td>21</td>\n",
       "      <td>0.00</td>\n",
       "      <td>0.0</td>\n",
       "      <td>216.0</td>\n",
       "      <td>5.0</td>\n",
       "      <td>2598.0</td>\n",
       "      <td>14.0</td>\n",
       "      <td>0.000000</td>\n",
       "      <td>0</td>\n",
       "      <td>0</td>\n",
       "    </tr>\n",
       "    <tr>\n",
       "      <th>39</th>\n",
       "      <td>001bb5dc68e0654708f73ff94288aae8</td>\n",
       "      <td>NaN</td>\n",
       "      <td>Classic</td>\n",
       "      <td>45</td>\n",
       "      <td>0.14</td>\n",
       "      <td>0.0</td>\n",
       "      <td>394.0</td>\n",
       "      <td>5.0</td>\n",
       "      <td>3604.0</td>\n",
       "      <td>157.0</td>\n",
       "      <td>0.080000</td>\n",
       "      <td>0</td>\n",
       "      <td>0</td>\n",
       "    </tr>\n",
       "    <tr>\n",
       "      <th>40</th>\n",
       "      <td>001c1f1acfde6f4ad766aad0d6c54f6b</td>\n",
       "      <td>NaN</td>\n",
       "      <td>Classic Cash Back</td>\n",
       "      <td>47</td>\n",
       "      <td>0.00</td>\n",
       "      <td>0.0</td>\n",
       "      <td>11.0</td>\n",
       "      <td>4.0</td>\n",
       "      <td>134.0</td>\n",
       "      <td>2.0</td>\n",
       "      <td>0.000000</td>\n",
       "      <td>0</td>\n",
       "      <td>0</td>\n",
       "    </tr>\n",
       "    <tr>\n",
       "      <th>41</th>\n",
       "      <td>001d30bdd8c1cd3b158f10ec8382019d</td>\n",
       "      <td>NaN</td>\n",
       "      <td>Classic</td>\n",
       "      <td>47</td>\n",
       "      <td>0.12</td>\n",
       "      <td>0.0</td>\n",
       "      <td>438.0</td>\n",
       "      <td>10.0</td>\n",
       "      <td>1408.0</td>\n",
       "      <td>32.0</td>\n",
       "      <td>0.000000</td>\n",
       "      <td>0</td>\n",
       "      <td>0</td>\n",
       "    </tr>\n",
       "    <tr>\n",
       "      <th>42</th>\n",
       "      <td>001d389b0e4e4b6a1181f0b20c542820</td>\n",
       "      <td>NaN</td>\n",
       "      <td>Classic Cash Back</td>\n",
       "      <td>34</td>\n",
       "      <td>NaN</td>\n",
       "      <td>NaN</td>\n",
       "      <td>NaN</td>\n",
       "      <td>NaN</td>\n",
       "      <td>NaN</td>\n",
       "      <td>NaN</td>\n",
       "      <td>0.353557</td>\n",
       "      <td>0</td>\n",
       "      <td>0</td>\n",
       "    </tr>\n",
       "    <tr>\n",
       "      <th>43</th>\n",
       "      <td>001d565f184ee27327d46028e48e9d6c</td>\n",
       "      <td>NaN</td>\n",
       "      <td>Classic Cash Back</td>\n",
       "      <td>47</td>\n",
       "      <td>0.14</td>\n",
       "      <td>1000.0</td>\n",
       "      <td>214.0</td>\n",
       "      <td>12.0</td>\n",
       "      <td>2500.0</td>\n",
       "      <td>62.0</td>\n",
       "      <td>0.000000</td>\n",
       "      <td>0</td>\n",
       "      <td>0</td>\n",
       "    </tr>\n",
       "    <tr>\n",
       "      <th>44</th>\n",
       "      <td>001de8d953af65aa1d1e7646d767b598</td>\n",
       "      <td>NaN</td>\n",
       "      <td>Classic</td>\n",
       "      <td>47</td>\n",
       "      <td>0.13</td>\n",
       "      <td>0.0</td>\n",
       "      <td>4123.0</td>\n",
       "      <td>12.0</td>\n",
       "      <td>1326.0</td>\n",
       "      <td>23.0</td>\n",
       "      <td>0.000000</td>\n",
       "      <td>0</td>\n",
       "      <td>0</td>\n",
       "    </tr>\n",
       "    <tr>\n",
       "      <th>45</th>\n",
       "      <td>001e611a70bb90cbc58396d19623b8a1</td>\n",
       "      <td>NaN</td>\n",
       "      <td>Classic</td>\n",
       "      <td>47</td>\n",
       "      <td>0.00</td>\n",
       "      <td>0.0</td>\n",
       "      <td>45.0</td>\n",
       "      <td>9.0</td>\n",
       "      <td>2014.0</td>\n",
       "      <td>52.0</td>\n",
       "      <td>0.010000</td>\n",
       "      <td>0</td>\n",
       "      <td>0</td>\n",
       "    </tr>\n",
       "    <tr>\n",
       "      <th>46</th>\n",
       "      <td>001e771dc0094b01979b9ccf22c265aa</td>\n",
       "      <td>NaN</td>\n",
       "      <td>Gold Rewards/Centra</td>\n",
       "      <td>38</td>\n",
       "      <td>0.11</td>\n",
       "      <td>0.0</td>\n",
       "      <td>3922.0</td>\n",
       "      <td>12.0</td>\n",
       "      <td>14221.0</td>\n",
       "      <td>139.0</td>\n",
       "      <td>0.000000</td>\n",
       "      <td>0</td>\n",
       "      <td>0</td>\n",
       "    </tr>\n",
       "    <tr>\n",
       "      <th>47</th>\n",
       "      <td>001ec6ff68b64d0a81fbd6eb3a6adf97</td>\n",
       "      <td>NaN</td>\n",
       "      <td>Gold Rewards/Centra</td>\n",
       "      <td>47</td>\n",
       "      <td>0.07</td>\n",
       "      <td>0.0</td>\n",
       "      <td>6541.0</td>\n",
       "      <td>12.0</td>\n",
       "      <td>40715.0</td>\n",
       "      <td>198.0</td>\n",
       "      <td>0.000000</td>\n",
       "      <td>0</td>\n",
       "      <td>0</td>\n",
       "    </tr>\n",
       "    <tr>\n",
       "      <th>48</th>\n",
       "      <td>001ef704ae9f762f6f44e7770b8d4cf4</td>\n",
       "      <td>NaN</td>\n",
       "      <td>USD Classic</td>\n",
       "      <td>20</td>\n",
       "      <td>0.09</td>\n",
       "      <td>0.0</td>\n",
       "      <td>48.0</td>\n",
       "      <td>3.0</td>\n",
       "      <td>257.0</td>\n",
       "      <td>2.0</td>\n",
       "      <td>0.000000</td>\n",
       "      <td>0</td>\n",
       "      <td>0</td>\n",
       "    </tr>\n",
       "    <tr>\n",
       "      <th>49</th>\n",
       "      <td>001f1f3113a43f3d414e1ed0fa309089</td>\n",
       "      <td>NaN</td>\n",
       "      <td>Classic</td>\n",
       "      <td>25</td>\n",
       "      <td>0.17</td>\n",
       "      <td>0.0</td>\n",
       "      <td>308.0</td>\n",
       "      <td>12.0</td>\n",
       "      <td>3776.0</td>\n",
       "      <td>84.0</td>\n",
       "      <td>0.000000</td>\n",
       "      <td>0</td>\n",
       "      <td>0</td>\n",
       "    </tr>\n",
       "  </tbody>\n",
       "</table>\n",
       "</div>"
      ],
      "text/plain": [
       "                      Account Hashed Permanent Close Reason Name  \\\n",
       "0   000066ba2744aa38935bb5ba5e79365a                         NaN   \n",
       "1   0001911c5989f23866242c1ee22b935f                         NaN   \n",
       "2   0001dbb3a11b021139b3434f3e0482ac                         NaN   \n",
       "3   00037d7b00fdeaeeb14a3476ee825291                         NaN   \n",
       "4   0004cb1326397cd4239e8a9544eefce0                         NaN   \n",
       "5   0008ee5d7da360c90c8e819222709bb5                         NaN   \n",
       "6   00090cd835ceb13dab48cf6e2ea5c1c7                         NaN   \n",
       "7   000958e193401a602c2e06fff04304b5                         NaN   \n",
       "8   0009bc407ca0cabe082157f14f30cb99                         NaN   \n",
       "9   0009c7a9774c05d692ea9a2fe8877176                         NaN   \n",
       "10  000a49db3dda8ac2620577ee3922bbf6                         NaN   \n",
       "11  000b69f71466f38fe5488b5edc9f75a4                         NaN   \n",
       "12  000c0cf8efc3e19b1fa362f5983a17fa                         NaN   \n",
       "13  000d15094d532c73d1eece960add9d9b                         NaN   \n",
       "14  000ecfc596ba2e12c1d03333b526c97b                         NaN   \n",
       "15  000ef253249122834928c38803591cdd                         NaN   \n",
       "16  000f637f8b34c819c186e9ad51aa78d1              Client Request   \n",
       "17  000fc6ff2755852032417459bd07057f                         NaN   \n",
       "18  001064b169e8a2ed90140df4a03eafe7                         NaN   \n",
       "19  00112e739a94e7bf78d0535fe25bbc8e                         NaN   \n",
       "20  0012f66f76a7695f598fff9284a75133                         NaN   \n",
       "21  0013cb7bd993f3f6fa6af47b92451f9b                         NaN   \n",
       "22  00149942a5fe7a8c483b6272c425d9ac                         NaN   \n",
       "23  0015258a872d7cda88682e94eac05184                         NaN   \n",
       "24  001556c13abc36598dc8469890b8e0b2                         NaN   \n",
       "25  0015f2ef54d6f51ec15cea602bc5b9f6                         NaN   \n",
       "26  00161f15ffdc363bb7cc5805b3eddcb5                         NaN   \n",
       "27  001627d41c3ff01a8c872a77354913b9                         NaN   \n",
       "28  001653dc036e4808decd3ca4d715a95c                         NaN   \n",
       "29  0017f0b738a80de896448110c2b83a7f                         NaN   \n",
       "30  0018425cda150dfdd0356f347abede3a                         NaN   \n",
       "31  001853ef5f23e03372ff3e77a5c629b3                         NaN   \n",
       "32  001883d800f25e36aad6424b3dc32b62                         NaN   \n",
       "33  0019b8c8ceef70f54f583fe79fcc2bf7              Client Request   \n",
       "34  001a2ad0f9b6e46dfe704a431bf20070                         NaN   \n",
       "35  001a5cd22cb7b1dc8a2abebdbc78ae73                         NaN   \n",
       "36  001afad8adb44a6f8b43f620807c22bb                         NaN   \n",
       "37  001b16321066f1566bffc6ec9ac12eb7                         NaN   \n",
       "38  001b4ffc94e12d1dbf143d2c672d2ed7                         NaN   \n",
       "39  001bb5dc68e0654708f73ff94288aae8                         NaN   \n",
       "40  001c1f1acfde6f4ad766aad0d6c54f6b                         NaN   \n",
       "41  001d30bdd8c1cd3b158f10ec8382019d                         NaN   \n",
       "42  001d389b0e4e4b6a1181f0b20c542820                         NaN   \n",
       "43  001d565f184ee27327d46028e48e9d6c                         NaN   \n",
       "44  001de8d953af65aa1d1e7646d767b598                         NaN   \n",
       "45  001e611a70bb90cbc58396d19623b8a1                         NaN   \n",
       "46  001e771dc0094b01979b9ccf22c265aa                         NaN   \n",
       "47  001ec6ff68b64d0a81fbd6eb3a6adf97                         NaN   \n",
       "48  001ef704ae9f762f6f44e7770b8d4cf4                         NaN   \n",
       "49  001f1f3113a43f3d414e1ed0fa309089                         NaN   \n",
       "\n",
       "           Product Name  account_age  Sum Yield 12 months %  \\\n",
       "0   Gold Rewards/Centra           47                   0.12   \n",
       "1   Gold Travel Rewards           47                   0.00   \n",
       "2     Classic Cash Back           42                   0.13   \n",
       "3     Classic Cash Back           47                   0.20   \n",
       "4               Classic           47                   0.01   \n",
       "5               Classic           43                   0.08   \n",
       "6     Classic Cash Back           47                   0.00   \n",
       "7     Classic Cash Back           44                  -0.01   \n",
       "8     Classic Cash Back           47                   0.00   \n",
       "9   Gold Rewards/Centra           40                   0.11   \n",
       "10    Classic Cash Back           47                   0.21   \n",
       "11              Classic           40                   0.00   \n",
       "12              Classic           31                   0.00   \n",
       "13    Classic Cash Back           25                   0.00   \n",
       "14    Classic Cash Back           47                    NaN   \n",
       "15  Gold Rewards/Centra           36                   0.11   \n",
       "16  Gold Rewards/Centra           16                   0.19   \n",
       "17              Classic           43                   0.12   \n",
       "18              Classic           47                   0.13   \n",
       "19                World           47                   0.23   \n",
       "20    Classic Cash Back           47                   0.00   \n",
       "21    Classic Cash Back           47                   0.00   \n",
       "22              Classic           36                   0.00   \n",
       "23  Gold Rewards/Centra           46                   0.11   \n",
       "24  Gold Rewards/Centra           40                   0.00   \n",
       "25    Classic Cash Back           28                    NaN   \n",
       "26    Classic Cash Back           47                   0.00   \n",
       "27  Gold Rewards/Centra           47                   0.10   \n",
       "28  Gold Travel Rewards           47                   0.01   \n",
       "29    Classic Cash Back           45                   0.20   \n",
       "30              Classic           15                   0.00   \n",
       "31    Classic Cash Back           47                   0.00   \n",
       "32  Gold Rewards/Centra           47                   0.05   \n",
       "33  Gold Rewards/Centra           47                   0.08   \n",
       "34    Classic Cash Back           43                   0.20   \n",
       "35    Classic Cash Back           29                   0.20   \n",
       "36    Classic Cash Back           47                   0.00   \n",
       "37              Classic           39                   0.11   \n",
       "38    Classic Cash Back           21                   0.00   \n",
       "39              Classic           45                   0.14   \n",
       "40    Classic Cash Back           47                   0.00   \n",
       "41              Classic           47                   0.12   \n",
       "42    Classic Cash Back           34                    NaN   \n",
       "43    Classic Cash Back           47                   0.14   \n",
       "44              Classic           47                   0.13   \n",
       "45              Classic           47                   0.00   \n",
       "46  Gold Rewards/Centra           38                   0.11   \n",
       "47  Gold Rewards/Centra           47                   0.07   \n",
       "48          USD Classic           20                   0.09   \n",
       "49              Classic           25                   0.17   \n",
       "\n",
       "    Sum of Cash Amount 12 months $ From Close Date  Avg Bal Amt 12 mnths $  \\\n",
       "0                                           1440.0                  5167.0   \n",
       "1                                              0.0                  2523.0   \n",
       "2                                              0.0                   843.0   \n",
       "3                                              0.0                  2933.0   \n",
       "4                                             84.0                   186.0   \n",
       "5                                              0.0                   416.0   \n",
       "6                                              0.0                   591.0   \n",
       "7                                              0.0                 -1056.0   \n",
       "8                                              0.0                  2599.0   \n",
       "9                                              0.0                  2673.0   \n",
       "10                                             0.0                  1508.0   \n",
       "11                                             0.0                  -395.0   \n",
       "12                                             0.0                   221.0   \n",
       "13                                             0.0                   262.0   \n",
       "14                                             NaN                     NaN   \n",
       "15                                             0.0                  1214.0   \n",
       "16                                             0.0                  1817.0   \n",
       "17                                             0.0                   691.0   \n",
       "18                                             0.0                  6058.0   \n",
       "19                                             0.0                  4452.0   \n",
       "20                                             0.0                   703.0   \n",
       "21                                             0.0                  1202.0   \n",
       "22                                             0.0                   181.0   \n",
       "23                                             0.0                  2165.0   \n",
       "24                                             0.0                   820.0   \n",
       "25                                             NaN                     NaN   \n",
       "26                                             0.0                   503.0   \n",
       "27                                             0.0                  4371.0   \n",
       "28                                             0.0                   409.0   \n",
       "29                                         12317.0                  4168.0   \n",
       "30                                             0.0                  -336.0   \n",
       "31                                             0.0                   633.0   \n",
       "32                                             0.0                   201.0   \n",
       "33                                             0.0                    26.0   \n",
       "34                                             0.0                  1015.0   \n",
       "35                                             0.0                  3985.0   \n",
       "36                                             0.0                   126.0   \n",
       "37                                             0.0                   927.0   \n",
       "38                                             0.0                   216.0   \n",
       "39                                             0.0                   394.0   \n",
       "40                                             0.0                    11.0   \n",
       "41                                             0.0                   438.0   \n",
       "42                                             NaN                     NaN   \n",
       "43                                          1000.0                   214.0   \n",
       "44                                             0.0                  4123.0   \n",
       "45                                             0.0                    45.0   \n",
       "46                                             0.0                  3922.0   \n",
       "47                                             0.0                  6541.0   \n",
       "48                                             0.0                    48.0   \n",
       "49                                             0.0                   308.0   \n",
       "\n",
       "    Months Active during 12 months # From Close Date  \\\n",
       "0                                               12.0   \n",
       "1                                               12.0   \n",
       "2                                                5.0   \n",
       "3                                               12.0   \n",
       "4                                               12.0   \n",
       "5                                               12.0   \n",
       "6                                               11.0   \n",
       "7                                               12.0   \n",
       "8                                               12.0   \n",
       "9                                               12.0   \n",
       "10                                              10.0   \n",
       "11                                              12.0   \n",
       "12                                              12.0   \n",
       "13                                               9.0   \n",
       "14                                               1.0   \n",
       "15                                              12.0   \n",
       "16                                              11.0   \n",
       "17                                              12.0   \n",
       "18                                              12.0   \n",
       "19                                              12.0   \n",
       "20                                              12.0   \n",
       "21                                              12.0   \n",
       "22                                              12.0   \n",
       "23                                              12.0   \n",
       "24                                              12.0   \n",
       "25                                               NaN   \n",
       "26                                              12.0   \n",
       "27                                              12.0   \n",
       "28                                              12.0   \n",
       "29                                              12.0   \n",
       "30                                              11.0   \n",
       "31                                              12.0   \n",
       "32                                              12.0   \n",
       "33                                               1.0   \n",
       "34                                              12.0   \n",
       "35                                              12.0   \n",
       "36                                              11.0   \n",
       "37                                              11.0   \n",
       "38                                               5.0   \n",
       "39                                               5.0   \n",
       "40                                               4.0   \n",
       "41                                              10.0   \n",
       "42                                               NaN   \n",
       "43                                              12.0   \n",
       "44                                              12.0   \n",
       "45                                               9.0   \n",
       "46                                              12.0   \n",
       "47                                              12.0   \n",
       "48                                               3.0   \n",
       "49                                              12.0   \n",
       "\n",
       "    Sum Sale Amount 12 months $  \\\n",
       "0                        3078.0   \n",
       "1                       34704.0   \n",
       "2                        5558.0   \n",
       "3                          69.0   \n",
       "4                        6203.0   \n",
       "5                        5167.0   \n",
       "6                        8509.0   \n",
       "7                        5511.0   \n",
       "8                       32111.0   \n",
       "9                        9271.0   \n",
       "10                       1627.0   \n",
       "11                          0.0   \n",
       "12                       2904.0   \n",
       "13                       5636.0   \n",
       "14                          NaN   \n",
       "15                       7017.0   \n",
       "16                       1373.0   \n",
       "17                       2826.0   \n",
       "18                       6141.0   \n",
       "19                          0.0   \n",
       "20                      22100.0   \n",
       "21                      14927.0   \n",
       "22                       2176.0   \n",
       "23                      11370.0   \n",
       "24                      28957.0   \n",
       "25                          NaN   \n",
       "26                       6135.0   \n",
       "27                      26057.0   \n",
       "28                       6258.0   \n",
       "29                       3178.0   \n",
       "30                       6722.0   \n",
       "31                      34530.0   \n",
       "32                       3878.0   \n",
       "33                          0.0   \n",
       "34                       5531.0   \n",
       "35                       3902.0   \n",
       "36                       1586.0   \n",
       "37                       9710.0   \n",
       "38                       2598.0   \n",
       "39                       3604.0   \n",
       "40                        134.0   \n",
       "41                       1408.0   \n",
       "42                          NaN   \n",
       "43                       2500.0   \n",
       "44                       1326.0   \n",
       "45                       2014.0   \n",
       "46                      14221.0   \n",
       "47                      40715.0   \n",
       "48                        257.0   \n",
       "49                       3776.0   \n",
       "\n",
       "    Sum of Sale Count 12 months # From Close Date  Probablity of churn  \\\n",
       "0                                            69.0             0.010000   \n",
       "1                                           325.0             0.000000   \n",
       "2                                             6.0             0.030000   \n",
       "3                                             1.0             0.000000   \n",
       "4                                           300.0             0.000000   \n",
       "5                                           146.0             0.000000   \n",
       "6                                            21.0             0.000000   \n",
       "7                                            69.0             0.000000   \n",
       "8                                           480.0             0.000000   \n",
       "9                                            90.0             0.000000   \n",
       "10                                           33.0             0.010000   \n",
       "11                                            0.0             0.045443   \n",
       "12                                           63.0             0.000000   \n",
       "13                                           87.0             0.010000   \n",
       "14                                            NaN             0.268258   \n",
       "15                                           91.0             0.000000   \n",
       "16                                           32.0             0.600000   \n",
       "17                                           55.0             0.000000   \n",
       "18                                          173.0             0.000000   \n",
       "19                                            1.0             0.010000   \n",
       "20                                          197.0             0.000000   \n",
       "21                                          290.0             0.000000   \n",
       "22                                           57.0             0.000000   \n",
       "23                                          229.0             0.000000   \n",
       "24                                          270.0             0.000000   \n",
       "25                                            NaN             0.379794   \n",
       "26                                           62.0             0.000000   \n",
       "27                                          934.0             0.000000   \n",
       "28                                          110.0             0.000000   \n",
       "29                                           53.0             0.000000   \n",
       "30                                           73.0             0.000000   \n",
       "31                                          118.0             0.000000   \n",
       "32                                           30.0             0.000000   \n",
       "33                                            1.0             1.000000   \n",
       "34                                           94.0             0.000000   \n",
       "35                                           34.0             0.000000   \n",
       "36                                           14.0             0.000000   \n",
       "37                                           34.0             0.000000   \n",
       "38                                           14.0             0.000000   \n",
       "39                                          157.0             0.080000   \n",
       "40                                            2.0             0.000000   \n",
       "41                                           32.0             0.000000   \n",
       "42                                            NaN             0.353557   \n",
       "43                                           62.0             0.000000   \n",
       "44                                           23.0             0.000000   \n",
       "45                                           52.0             0.010000   \n",
       "46                                          139.0             0.000000   \n",
       "47                                          198.0             0.000000   \n",
       "48                                            2.0             0.000000   \n",
       "49                                           84.0             0.000000   \n",
       "\n",
       "    Predicted_value  Predicted_value_testing  \n",
       "0                 0                        0  \n",
       "1                 0                        0  \n",
       "2                 0                        0  \n",
       "3                 0                        0  \n",
       "4                 0                        0  \n",
       "5                 0                        0  \n",
       "6                 0                        0  \n",
       "7                 0                        0  \n",
       "8                 0                        0  \n",
       "9                 0                        0  \n",
       "10                0                        0  \n",
       "11                0                        0  \n",
       "12                0                        0  \n",
       "13                0                        0  \n",
       "14                0                        0  \n",
       "15                0                        0  \n",
       "16                1                        1  \n",
       "17                0                        0  \n",
       "18                0                        0  \n",
       "19                0                        0  \n",
       "20                0                        0  \n",
       "21                0                        0  \n",
       "22                0                        0  \n",
       "23                0                        0  \n",
       "24                0                        0  \n",
       "25                0                        0  \n",
       "26                0                        0  \n",
       "27                0                        0  \n",
       "28                0                        0  \n",
       "29                0                        0  \n",
       "30                0                        0  \n",
       "31                0                        0  \n",
       "32                0                        0  \n",
       "33                1                        1  \n",
       "34                0                        0  \n",
       "35                0                        0  \n",
       "36                0                        0  \n",
       "37                0                        0  \n",
       "38                0                        0  \n",
       "39                0                        0  \n",
       "40                0                        0  \n",
       "41                0                        0  \n",
       "42                0                        0  \n",
       "43                0                        0  \n",
       "44                0                        0  \n",
       "45                0                        0  \n",
       "46                0                        0  \n",
       "47                0                        0  \n",
       "48                0                        0  \n",
       "49                0                        0  "
      ]
     },
     "execution_count": 128,
     "metadata": {},
     "output_type": "execute_result"
    }
   ],
   "source": [
    "mdf3.head(50)"
   ]
  },
  {
   "cell_type": "markdown",
   "id": "619b376c",
   "metadata": {},
   "source": [
    "# Exporting Output to CSV"
   ]
  },
  {
   "cell_type": "code",
   "execution_count": 129,
   "id": "f36146ad",
   "metadata": {},
   "outputs": [],
   "source": [
    "mdf3.to_csv('Attrition_output.csv', index=False)"
   ]
  },
  {
   "cell_type": "markdown",
   "id": "80034295",
   "metadata": {},
   "source": [
    "# --------------------------------------------------------------"
   ]
  },
  {
   "cell_type": "markdown",
   "id": "9bb53c23",
   "metadata": {},
   "source": [
    "# Test Scores"
   ]
  },
  {
   "cell_type": "code",
   "execution_count": 130,
   "id": "f96d98a5",
   "metadata": {},
   "outputs": [
    {
     "data": {
      "text/plain": [
       "0.9638254156030135"
      ]
     },
     "execution_count": 130,
     "metadata": {},
     "output_type": "execute_result"
    }
   ],
   "source": [
    "rfmodel.score(X_test,y_test)"
   ]
  },
  {
   "cell_type": "code",
   "execution_count": 131,
   "id": "a20ad894",
   "metadata": {},
   "outputs": [
    {
     "data": {
      "text/plain": [
       "0.9636030490896315"
      ]
     },
     "execution_count": 131,
     "metadata": {},
     "output_type": "execute_result"
    }
   ],
   "source": [
    "dtmodel.score(X_test,y_test)"
   ]
  },
  {
   "cell_type": "code",
   "execution_count": 132,
   "id": "8c90b366",
   "metadata": {},
   "outputs": [
    {
     "data": {
      "text/plain": [
       "0.8815053323489909"
      ]
     },
     "execution_count": 132,
     "metadata": {},
     "output_type": "execute_result"
    }
   ],
   "source": [
    "LogModel.score(X_test,y_test)"
   ]
  },
  {
   "cell_type": "markdown",
   "id": "af0aa748",
   "metadata": {},
   "source": [
    "# Train Scores"
   ]
  },
  {
   "cell_type": "code",
   "execution_count": 133,
   "id": "c7ee5e71",
   "metadata": {},
   "outputs": [
    {
     "data": {
      "text/plain": [
       "0.9659688017700493"
      ]
     },
     "execution_count": 133,
     "metadata": {},
     "output_type": "execute_result"
    }
   ],
   "source": [
    "rfmodel.score(X_train,y_train)"
   ]
  },
  {
   "cell_type": "code",
   "execution_count": 134,
   "id": "0de37436",
   "metadata": {},
   "outputs": [
    {
     "data": {
      "text/plain": [
       "0.9659710254500172"
      ]
     },
     "execution_count": 134,
     "metadata": {},
     "output_type": "execute_result"
    }
   ],
   "source": [
    "dtmodel.score(X_train,y_train)"
   ]
  },
  {
   "cell_type": "code",
   "execution_count": 135,
   "id": "cf748e77",
   "metadata": {},
   "outputs": [
    {
     "data": {
      "text/plain": [
       "0.8798434529302542"
      ]
     },
     "execution_count": 135,
     "metadata": {},
     "output_type": "execute_result"
    }
   ],
   "source": [
    "LogModel.score(X_train,y_train)"
   ]
  },
  {
   "cell_type": "markdown",
   "id": "1aeda350",
   "metadata": {},
   "source": [
    "# Accuracy score"
   ]
  },
  {
   "cell_type": "code",
   "execution_count": 136,
   "id": "09872329",
   "metadata": {},
   "outputs": [
    {
     "name": "stdout",
     "output_type": "stream",
     "text": [
      "0.9638254156030135\n"
     ]
    }
   ],
   "source": [
    "from sklearn.metrics import accuracy_score\n",
    "print(accuracy_score(y_test, rf_pred))"
   ]
  },
  {
   "cell_type": "code",
   "execution_count": 137,
   "id": "195c8305",
   "metadata": {},
   "outputs": [
    {
     "name": "stdout",
     "output_type": "stream",
     "text": [
      "0.9636030490896315\n"
     ]
    }
   ],
   "source": [
    "from sklearn.metrics import accuracy_score\n",
    "print(accuracy_score(y_test, dt_pred))"
   ]
  },
  {
   "cell_type": "code",
   "execution_count": 138,
   "id": "ea285937",
   "metadata": {},
   "outputs": [
    {
     "name": "stdout",
     "output_type": "stream",
     "text": [
      "0.8815053323489909\n"
     ]
    }
   ],
   "source": [
    "from sklearn.metrics import accuracy_score\n",
    "print(accuracy_score(y_test, Log_Pred))"
   ]
  },
  {
   "cell_type": "markdown",
   "id": "a6bd1e78",
   "metadata": {},
   "source": [
    "# Confusion matrix "
   ]
  },
  {
   "cell_type": "code",
   "execution_count": 139,
   "id": "f9e66789",
   "metadata": {},
   "outputs": [
    {
     "name": "stdout",
     "output_type": "stream",
     "text": [
      "[[53544  2533]\n",
      " [ 1534 54816]]\n"
     ]
    }
   ],
   "source": [
    "print(confusion_matrix(y_test,rf_pred))"
   ]
  },
  {
   "cell_type": "code",
   "execution_count": 140,
   "id": "f9b499a5",
   "metadata": {},
   "outputs": [
    {
     "name": "stdout",
     "output_type": "stream",
     "text": [
      "[[53558  2519]\n",
      " [ 1573 54777]]\n"
     ]
    }
   ],
   "source": [
    "print(confusion_matrix(y_test,dt_pred))"
   ]
  },
  {
   "cell_type": "code",
   "execution_count": 141,
   "id": "6f2a02cd",
   "metadata": {},
   "outputs": [
    {
     "name": "stdout",
     "output_type": "stream",
     "text": [
      "[[48314  7763]\n",
      " [ 5559 50791]]\n"
     ]
    }
   ],
   "source": [
    "print(confusion_matrix(y_test,Log_Pred))"
   ]
  },
  {
   "cell_type": "code",
   "execution_count": null,
   "id": "727ee3c4",
   "metadata": {},
   "outputs": [],
   "source": []
  }
 ],
 "metadata": {
  "kernelspec": {
   "display_name": "Python 3 (ipykernel)",
   "language": "python",
   "name": "python3"
  },
  "language_info": {
   "codemirror_mode": {
    "name": "ipython",
    "version": 3
   },
   "file_extension": ".py",
   "mimetype": "text/x-python",
   "name": "python",
   "nbconvert_exporter": "python",
   "pygments_lexer": "ipython3",
   "version": "3.9.12"
  }
 },
 "nbformat": 4,
 "nbformat_minor": 5
}
